{
 "cells": [
  {
   "cell_type": "code",
   "execution_count": null,
   "id": "e93d8fc1",
   "metadata": {},
   "outputs": [],
   "source": [
    "import altair as alt"
   ]
  },
  {
   "cell_type": "code",
   "execution_count": null,
   "id": "ff106eca",
   "metadata": {},
   "outputs": [],
   "source": [
    "offset = -150\n",
    "\n",
    "sorted_predict_2_df_chart = alt.Chart(sorted_predict_2_df[:-9]).mark_point(color = 'orangered').encode(\n",
    "    x = alt.X('delta time', \n",
    "              axis = alt.Axis(offset = offset, title ='Time Difference (Minutes)', titleY = 175),\n",
    "              scale = alt.Scale(domain=[-500, 500])),\n",
    "              \n",
    "    y = alt.Y('delta temperature', \n",
    "              axis = alt.Axis(offset = offset,title ='Temperature Difference (K)',titleX = -175),\n",
    "              scale = alt.Scale(domain=[-100, 100])),\n",
    "    \n",
    "  \n",
    ")\n",
    "#chart_true_cribbed.x.axis(format='%').title('percentage'),\n",
    "   # alt.Y('y').axis(format='$').title('dollar amount')\n",
    "\n",
    "sorted_predict_2_df_chart"
   ]
  },
  {
   "cell_type": "code",
   "execution_count": null,
   "id": "c90433ff",
   "metadata": {},
   "outputs": [],
   "source": [
    "offset = -150\n",
    "\n",
    "predict_2_df_chart = alt.Chart(predict_2_df).mark_point(color = 'orangered').encode(\n",
    "    x = alt.X('delta time', \n",
    "              axis = alt.Axis(offset = offset, title ='Time Difference (Minutes)', titleY = 175),\n",
    "              scale = alt.Scale(domain=[-3000, 3000])),\n",
    "              \n",
    "    y = alt.Y('delta temperature', \n",
    "              axis = alt.Axis(offset = offset,title ='Temperature Difference (K)',titleX = -175),\n",
    "              scale = alt.Scale(domain=[-100, 100])),\n",
    "    \n",
    "  \n",
    ")\n",
    "#chart_true_cribbed.x.axis(format='%').title('percentage'),\n",
    "   # alt.Y('y').axis(format='$').title('dollar amount')\n",
    "\n",
    "predict_2_df_chart"
   ]
  }
 ],
 "metadata": {
  "kernelspec": {
   "display_name": "Python 3 (ipykernel)",
   "language": "python",
   "name": "python3"
  },
  "language_info": {
   "codemirror_mode": {
    "name": "ipython",
    "version": 3
   },
   "file_extension": ".py",
   "mimetype": "text/x-python",
   "name": "python",
   "nbconvert_exporter": "python",
   "pygments_lexer": "ipython3",
   "version": "3.11.3"
  }
 },
 "nbformat": 4,
 "nbformat_minor": 5
}
