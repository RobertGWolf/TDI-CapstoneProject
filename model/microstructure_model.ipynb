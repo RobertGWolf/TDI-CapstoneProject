{
 "cells": [
  {
   "cell_type": "code",
   "execution_count": 6,
   "id": "e93d8fc1",
   "metadata": {},
   "outputs": [],
   "source": [
    "import altair as alt\n",
    "import numpy as np\n",
    "import pandas as pd\n",
    "import glob\n",
    "import os\n",
    "import base64\n",
    "import random\n",
    "from PIL import Image\n",
    "from io import BytesIO\n",
    "from IPython.display import HTML\n",
    "import io\n"
   ]
  },
  {
   "cell_type": "code",
   "execution_count": 11,
   "id": "8036d216",
   "metadata": {},
   "outputs": [],
   "source": [
    "import tensorflow as tf\n",
    "from tensorflow.keras.preprocessing.image import ImageDataGenerator\n",
    "from sklearn.preprocessing import StandardScaler\n",
    "from sklearn.compose import ColumnTransformer\n"
   ]
  },
  {
   "cell_type": "code",
   "execution_count": 3,
   "id": "2e51f3aa",
   "metadata": {},
   "outputs": [],
   "source": [
    "import boto3\n",
    "from botocore import UNSIGNED\n",
    "from botocore.client import Config"
   ]
  },
  {
   "cell_type": "code",
   "execution_count": 4,
   "id": "c8d6c758",
   "metadata": {},
   "outputs": [],
   "source": [
    "#These are functions for displaying thumbnails of the micrographs in pandas\n",
    "\n",
    "pd.set_option('display.max_colwidth', None)\n",
    "\n",
    "\n",
    "def get_thumbnail(path):\n",
    "    i = Image.open(path)\n",
    "    i.thumbnail((150, 150), Image.LANCZOS)\n",
    "    return i\n",
    "\n",
    "def image_base64(im):\n",
    "    if isinstance(im, str):\n",
    "        im = get_thumbnail(im)\n",
    "    with BytesIO() as buffer:\n",
    "        im.save(buffer, 'jpeg')\n",
    "        return base64.b64encode(buffer.getvalue()).decode()\n",
    "\n",
    "def image_formatter(im):\n",
    "    return f'<img src=\"data:image/jpeg;base64,{image_base64(im)}\">'\n"
   ]
  },
  {
   "cell_type": "markdown",
   "id": "c788b0d6",
   "metadata": {},
   "source": [
    "### You can get the model from my s3 bucket.  This does take a while to download as it is ~5GB."
   ]
  },
  {
   "cell_type": "code",
   "execution_count": 5,
   "id": "22425c2d",
   "metadata": {},
   "outputs": [],
   "source": [
    "#download for the model\n",
    "\n",
    "file_name = \"UHCS_Microstructure_Model.keras\"\n",
    "\n",
    "s3 = boto3.resource('s3',config=Config(signature_version=UNSIGNED))\n",
    "bucket = s3.Bucket(\"robertgwolf-tdi-capstone-project\")\n",
    "bucket.download_file(file_name,file_name)"
   ]
  },
  {
   "cell_type": "markdown",
   "id": "8656616c",
   "metadata": {},
   "source": [
    "### Run the column transformer so the output data can be transformed"
   ]
  },
  {
   "cell_type": "code",
   "execution_count": 7,
   "id": "7ed3f1f8",
   "metadata": {},
   "outputs": [],
   "source": [
    "col_transformer_data = pd.read_csv('col_transformer_data.csv')"
   ]
  },
  {
   "cell_type": "code",
   "execution_count": 8,
   "id": "9b50a13e",
   "metadata": {},
   "outputs": [
    {
     "data": {
      "text/html": [
       "<style>#sk-container-id-1 {color: black;background-color: white;}#sk-container-id-1 pre{padding: 0;}#sk-container-id-1 div.sk-toggleable {background-color: white;}#sk-container-id-1 label.sk-toggleable__label {cursor: pointer;display: block;width: 100%;margin-bottom: 0;padding: 0.3em;box-sizing: border-box;text-align: center;}#sk-container-id-1 label.sk-toggleable__label-arrow:before {content: \"▸\";float: left;margin-right: 0.25em;color: #696969;}#sk-container-id-1 label.sk-toggleable__label-arrow:hover:before {color: black;}#sk-container-id-1 div.sk-estimator:hover label.sk-toggleable__label-arrow:before {color: black;}#sk-container-id-1 div.sk-toggleable__content {max-height: 0;max-width: 0;overflow: hidden;text-align: left;background-color: #f0f8ff;}#sk-container-id-1 div.sk-toggleable__content pre {margin: 0.2em;color: black;border-radius: 0.25em;background-color: #f0f8ff;}#sk-container-id-1 input.sk-toggleable__control:checked~div.sk-toggleable__content {max-height: 200px;max-width: 100%;overflow: auto;}#sk-container-id-1 input.sk-toggleable__control:checked~label.sk-toggleable__label-arrow:before {content: \"▾\";}#sk-container-id-1 div.sk-estimator input.sk-toggleable__control:checked~label.sk-toggleable__label {background-color: #d4ebff;}#sk-container-id-1 div.sk-label input.sk-toggleable__control:checked~label.sk-toggleable__label {background-color: #d4ebff;}#sk-container-id-1 input.sk-hidden--visually {border: 0;clip: rect(1px 1px 1px 1px);clip: rect(1px, 1px, 1px, 1px);height: 1px;margin: -1px;overflow: hidden;padding: 0;position: absolute;width: 1px;}#sk-container-id-1 div.sk-estimator {font-family: monospace;background-color: #f0f8ff;border: 1px dotted black;border-radius: 0.25em;box-sizing: border-box;margin-bottom: 0.5em;}#sk-container-id-1 div.sk-estimator:hover {background-color: #d4ebff;}#sk-container-id-1 div.sk-parallel-item::after {content: \"\";width: 100%;border-bottom: 1px solid gray;flex-grow: 1;}#sk-container-id-1 div.sk-label:hover label.sk-toggleable__label {background-color: #d4ebff;}#sk-container-id-1 div.sk-serial::before {content: \"\";position: absolute;border-left: 1px solid gray;box-sizing: border-box;top: 0;bottom: 0;left: 50%;z-index: 0;}#sk-container-id-1 div.sk-serial {display: flex;flex-direction: column;align-items: center;background-color: white;padding-right: 0.2em;padding-left: 0.2em;position: relative;}#sk-container-id-1 div.sk-item {position: relative;z-index: 1;}#sk-container-id-1 div.sk-parallel {display: flex;align-items: stretch;justify-content: center;background-color: white;position: relative;}#sk-container-id-1 div.sk-item::before, #sk-container-id-1 div.sk-parallel-item::before {content: \"\";position: absolute;border-left: 1px solid gray;box-sizing: border-box;top: 0;bottom: 0;left: 50%;z-index: -1;}#sk-container-id-1 div.sk-parallel-item {display: flex;flex-direction: column;z-index: 1;position: relative;background-color: white;}#sk-container-id-1 div.sk-parallel-item:first-child::after {align-self: flex-end;width: 50%;}#sk-container-id-1 div.sk-parallel-item:last-child::after {align-self: flex-start;width: 50%;}#sk-container-id-1 div.sk-parallel-item:only-child::after {width: 0;}#sk-container-id-1 div.sk-dashed-wrapped {border: 1px dashed gray;margin: 0 0.4em 0.5em 0.4em;box-sizing: border-box;padding-bottom: 0.4em;background-color: white;}#sk-container-id-1 div.sk-label label {font-family: monospace;font-weight: bold;display: inline-block;line-height: 1.2em;}#sk-container-id-1 div.sk-label-container {text-align: center;}#sk-container-id-1 div.sk-container {/* jupyter's `normalize.less` sets `[hidden] { display: none; }` but bootstrap.min.css set `[hidden] { display: none !important; }` so we also need the `!important` here to be able to override the default hidden behavior on the sphinx rendered scikit-learn.org. See: https://github.com/scikit-learn/scikit-learn/issues/21755 */display: inline-block !important;position: relative;}#sk-container-id-1 div.sk-text-repr-fallback {display: none;}</style><div id=\"sk-container-id-1\" class=\"sk-top-container\"><div class=\"sk-text-repr-fallback\"><pre>ColumnTransformer(transformers=[(&#x27;scaler&#x27;, StandardScaler(),\n",
       "                                 [&#x27;inverse_anneal_temperature_Kelvin&#x27;,\n",
       "                                  &#x27;log_time&#x27;])])</pre><b>In a Jupyter environment, please rerun this cell to show the HTML representation or trust the notebook. <br />On GitHub, the HTML representation is unable to render, please try loading this page with nbviewer.org.</b></div><div class=\"sk-container\" hidden><div class=\"sk-item sk-dashed-wrapped\"><div class=\"sk-label-container\"><div class=\"sk-label sk-toggleable\"><input class=\"sk-toggleable__control sk-hidden--visually\" id=\"sk-estimator-id-1\" type=\"checkbox\" ><label for=\"sk-estimator-id-1\" class=\"sk-toggleable__label sk-toggleable__label-arrow\">ColumnTransformer</label><div class=\"sk-toggleable__content\"><pre>ColumnTransformer(transformers=[(&#x27;scaler&#x27;, StandardScaler(),\n",
       "                                 [&#x27;inverse_anneal_temperature_Kelvin&#x27;,\n",
       "                                  &#x27;log_time&#x27;])])</pre></div></div></div><div class=\"sk-parallel\"><div class=\"sk-parallel-item\"><div class=\"sk-item\"><div class=\"sk-label-container\"><div class=\"sk-label sk-toggleable\"><input class=\"sk-toggleable__control sk-hidden--visually\" id=\"sk-estimator-id-2\" type=\"checkbox\" ><label for=\"sk-estimator-id-2\" class=\"sk-toggleable__label sk-toggleable__label-arrow\">scaler</label><div class=\"sk-toggleable__content\"><pre>[&#x27;inverse_anneal_temperature_Kelvin&#x27;, &#x27;log_time&#x27;]</pre></div></div></div><div class=\"sk-serial\"><div class=\"sk-item\"><div class=\"sk-estimator sk-toggleable\"><input class=\"sk-toggleable__control sk-hidden--visually\" id=\"sk-estimator-id-3\" type=\"checkbox\" ><label for=\"sk-estimator-id-3\" class=\"sk-toggleable__label sk-toggleable__label-arrow\">StandardScaler</label><div class=\"sk-toggleable__content\"><pre>StandardScaler()</pre></div></div></div></div></div></div></div></div></div></div>"
      ],
      "text/plain": [
       "ColumnTransformer(transformers=[('scaler', StandardScaler(),\n",
       "                                 ['inverse_anneal_temperature_Kelvin',\n",
       "                                  'log_time'])])"
      ]
     },
     "execution_count": 8,
     "metadata": {},
     "output_type": "execute_result"
    }
   ],
   "source": [
    "ColScaler = ColumnTransformer([('scaler',StandardScaler(),['inverse_anneal_temperature_Kelvin',\n",
    "                                                                   'log_time',\n",
    "                                                                  ])])\n",
    "\n",
    "ColScaler.set_output(transform ='pandas')\n",
    "\n",
    "ColScaler.fit(col_transformer_data)\n"
   ]
  },
  {
   "cell_type": "markdown",
   "id": "124175c6",
   "metadata": {},
   "source": [
    "### Building the sample dataframe to run the model on from images in the sample_micrographs folder"
   ]
  },
  {
   "cell_type": "code",
   "execution_count": 9,
   "id": "ea3d0e01",
   "metadata": {},
   "outputs": [],
   "source": [
    "sample_images_path = list(glob.glob('sample_micrographs/*'))\n",
    "sample_images = [os.path.basename(file) for file in sample_images_path ]\n",
    "\n",
    "samples_df = pd.DataFrame({'file':sample_images,'path':sample_images_path})\n",
    "samples_df['image'] = samples_df.path.map(lambda f: get_thumbnail(f))"
   ]
  },
  {
   "cell_type": "code",
   "execution_count": 16,
   "id": "681d69e2",
   "metadata": {},
   "outputs": [
    {
     "name": "stdout",
     "output_type": "stream",
     "text": [
      "Found 5 validated image filenames.\n"
     ]
    }
   ],
   "source": [
    "DIRECTORY = 'sample_micrographs'\n",
    "\n",
    "image_generator = ImageDataGenerator()\n",
    "images = image_generator.flow_from_dataframe(dataframe = samples_df,\n",
    "                                                        directory = DIRECTORY,\n",
    "                                                        x_col = 'file',\n",
    "                                                        class_mode = 'input',\n",
    "                                                        color_mode = 'rgb',\n",
    "                                                        shuffle = False,\n",
    "                                                        target_size = (522,645),\n",
    "                                                        batch_size = 1)"
   ]
  },
  {
   "cell_type": "markdown",
   "id": "30268dfd",
   "metadata": {},
   "source": [
    "### We now load the model and run predictions for the sample micrographs"
   ]
  },
  {
   "cell_type": "code",
   "execution_count": 19,
   "id": "be8fa8bd",
   "metadata": {},
   "outputs": [],
   "source": [
    "model = tf.keras.models.load_model('UHCS_Microstructure_Model.keras')"
   ]
  },
  {
   "cell_type": "code",
   "execution_count": 30,
   "id": "67c5a56a",
   "metadata": {},
   "outputs": [
    {
     "name": "stdout",
     "output_type": "stream",
     "text": [
      "5/5 [==============================] - 1s 205ms/step\n"
     ]
    }
   ],
   "source": [
    "predictions = model.predict(images)"
   ]
  },
  {
   "cell_type": "markdown",
   "id": "afebe91d",
   "metadata": {},
   "source": [
    "### Run the cells below to see the predictions results for the images in the sample_micrographs folder"
   ]
  },
  {
   "cell_type": "code",
   "execution_count": 32,
   "id": "f00a4b6c",
   "metadata": {},
   "outputs": [],
   "source": [
    "# converts model output to minutes and degrees C\n",
    "\n",
    "predictions_unscaled = ColScaler.named_transformers_['scaler'].inverse_transform(predictions[:,:2])\n",
    "predictions_df = pd.DataFrame(predictions_unscaled, columns = ['inverse_temperature','anneal_time_minutes'])\n",
    "samples_df['time (minutes)'] = predictions_df['anneal_time_minutes'].apply(lambda x: np.exp(x))\n",
    "samples_df['Temperature (°C)'] = 1/predictions_df['inverse_temperature']-273.15"
   ]
  },
  {
   "cell_type": "code",
   "execution_count": 33,
   "id": "9e25e6fe",
   "metadata": {},
   "outputs": [
    {
     "data": {
      "text/html": [
       "<table border=\"1\" class=\"dataframe\">\n",
       "  <thead>\n",
       "    <tr style=\"text-align: right;\">\n",
       "      <th></th>\n",
       "      <th>file</th>\n",
       "      <th>image</th>\n",
       "      <th>time (minutes)</th>\n",
       "      <th>Temperature (°C)</th>\n",
       "    </tr>\n",
       "  </thead>\n",
       "  <tbody>\n",
       "    <tr>\n",
       "      <th>0</th>\n",
       "      <td>micrograph1252.tif</td>\n",
       "      <td><img src=\"data:image/jpeg;base64,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\"></td>\n",
       "      <td>5.534389</td>\n",
       "      <td>978.196167</td>\n",
       "    </tr>\n",
       "    <tr>\n",
       "      <th>1</th>\n",
       "      <td>micrograph1257.tif</td>\n",
       "      <td><img src=\"data:image/jpeg;base64,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\"></td>\n",
       "      <td>190.826331</td>\n",
       "      <td>895.624390</td>\n",
       "    </tr>\n",
       "    <tr>\n",
       "      <th>2</th>\n",
       "      <td>micrograph1522.tif</td>\n",
       "      <td><img src=\"data:image/jpeg;base64,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\"></td>\n",
       "      <td>7.659304</td>\n",
       "      <td>974.171387</td>\n",
       "    </tr>\n",
       "    <tr>\n",
       "      <th>3</th>\n",
       "      <td>micrograph193.tif</td>\n",
       "      <td><img src=\"data:image/jpeg;base64,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\"></td>\n",
       "      <td>63.305674</td>\n",
       "      <td>1089.920044</td>\n",
       "    </tr>\n",
       "    <tr>\n",
       "      <th>4</th>\n",
       "      <td>micrograph607.tif</td>\n",
       "      <td><img src=\"data:image/jpeg;base64,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\"></td>\n",
       "      <td>4.170391</td>\n",
       "      <td>972.491821</td>\n",
       "    </tr>\n",
       "  </tbody>\n",
       "</table>"
      ],
      "text/plain": [
       "<IPython.core.display.HTML object>"
      ]
     },
     "execution_count": 33,
     "metadata": {},
     "output_type": "execute_result"
    }
   ],
   "source": [
    "HTML(samples_df[['file', 'image','time (minutes)','Temperature (°C)']].to_html(formatters={'image': image_formatter}, escape=False))"
   ]
  },
  {
   "cell_type": "markdown",
   "id": "a4f5b8bf",
   "metadata": {},
   "source": [
    "## Exploring the Test Data Set:\n",
    "\n",
    "Run the cells below to explore an interactive version of the graph found in README.md"
   ]
  },
  {
   "cell_type": "code",
   "execution_count": 34,
   "id": "d6990312",
   "metadata": {},
   "outputs": [],
   "source": [
    "test_predictions = pd.read_csv('test_dataframe.csv')\n"
   ]
  },
  {
   "cell_type": "code",
   "execution_count": 35,
   "id": "d0ab7d2d",
   "metadata": {},
   "outputs": [
    {
     "data": {
      "text/html": [
       "\n",
       "<style>\n",
       "  #altair-viz-8f7e4cbcce0740d9bcc5c4a4d14b39bd.vega-embed {\n",
       "    width: 100%;\n",
       "    display: flex;\n",
       "  }\n",
       "\n",
       "  #altair-viz-8f7e4cbcce0740d9bcc5c4a4d14b39bd.vega-embed details,\n",
       "  #altair-viz-8f7e4cbcce0740d9bcc5c4a4d14b39bd.vega-embed details summary {\n",
       "    position: relative;\n",
       "  }\n",
       "</style>\n",
       "<div id=\"altair-viz-8f7e4cbcce0740d9bcc5c4a4d14b39bd\"></div>\n",
       "<script type=\"text/javascript\">\n",
       "  var VEGA_DEBUG = (typeof VEGA_DEBUG == \"undefined\") ? {} : VEGA_DEBUG;\n",
       "  (function(spec, embedOpt){\n",
       "    let outputDiv = document.currentScript.previousElementSibling;\n",
       "    if (outputDiv.id !== \"altair-viz-8f7e4cbcce0740d9bcc5c4a4d14b39bd\") {\n",
       "      outputDiv = document.getElementById(\"altair-viz-8f7e4cbcce0740d9bcc5c4a4d14b39bd\");\n",
       "    }\n",
       "    const paths = {\n",
       "      \"vega\": \"https://cdn.jsdelivr.net/npm/vega@5?noext\",\n",
       "      \"vega-lib\": \"https://cdn.jsdelivr.net/npm/vega-lib?noext\",\n",
       "      \"vega-lite\": \"https://cdn.jsdelivr.net/npm/vega-lite@5.15.1?noext\",\n",
       "      \"vega-embed\": \"https://cdn.jsdelivr.net/npm/vega-embed@6?noext\",\n",
       "    };\n",
       "\n",
       "    function maybeLoadScript(lib, version) {\n",
       "      var key = `${lib.replace(\"-\", \"\")}_version`;\n",
       "      return (VEGA_DEBUG[key] == version) ?\n",
       "        Promise.resolve(paths[lib]) :\n",
       "        new Promise(function(resolve, reject) {\n",
       "          var s = document.createElement('script');\n",
       "          document.getElementsByTagName(\"head\")[0].appendChild(s);\n",
       "          s.async = true;\n",
       "          s.onload = () => {\n",
       "            VEGA_DEBUG[key] = version;\n",
       "            return resolve(paths[lib]);\n",
       "          };\n",
       "          s.onerror = () => reject(`Error loading script: ${paths[lib]}`);\n",
       "          s.src = paths[lib];\n",
       "        });\n",
       "    }\n",
       "\n",
       "    function showError(err) {\n",
       "      outputDiv.innerHTML = `<div class=\"error\" style=\"color:red;\">${err}</div>`;\n",
       "      throw err;\n",
       "    }\n",
       "\n",
       "    function displayChart(vegaEmbed) {\n",
       "      vegaEmbed(outputDiv, spec, embedOpt)\n",
       "        .catch(err => showError(`Javascript Error: ${err.message}<br>This usually means there's a typo in your chart specification. See the javascript console for the full traceback.`));\n",
       "    }\n",
       "\n",
       "    if(typeof define === \"function\" && define.amd) {\n",
       "      requirejs.config({paths});\n",
       "      require([\"vega-embed\"], displayChart, err => showError(`Error loading script: ${err.message}`));\n",
       "    } else {\n",
       "      maybeLoadScript(\"vega\", \"5\")\n",
       "        .then(() => maybeLoadScript(\"vega-lite\", \"5.15.1\"))\n",
       "        .then(() => maybeLoadScript(\"vega-embed\", \"6\"))\n",
       "        .catch(showError)\n",
       "        .then(() => displayChart(vegaEmbed));\n",
       "    }\n",
       "  })({\"config\": {\"view\": {\"continuousWidth\": 300, \"continuousHeight\": 300}}, \"data\": {\"name\": \"data-7a9e6d880d4e6574cdc14fcb8ca00bad\"}, \"mark\": {\"type\": \"point\", \"color\": \"orangered\"}, \"encoding\": {\"tooltip\": [{\"field\": \"predicted_time\", \"title\": \"Predicted Time\", \"type\": \"quantitative\"}, {\"field\": \"predicted_temperature\", \"title\": \"Predicted Temperature\", \"type\": \"quantitative\"}, {\"field\": \"true_time\", \"title\": \"True Time\", \"type\": \"quantitative\"}, {\"field\": \"true_temperature\", \"title\": \"True Temperature\", \"type\": \"quantitative\"}], \"x\": {\"axis\": {\"offset\": -150, \"title\": \"Time Difference (Minutes)\", \"titleY\": 175}, \"field\": \"delta_time\", \"scale\": {\"domain\": [-3000, 3000]}, \"type\": \"quantitative\"}, \"y\": {\"axis\": {\"offset\": -150, \"title\": \"Temperature Difference (K)\", \"titleX\": -175}, \"field\": \"delta_temperature\", \"scale\": {\"domain\": [-100, 100]}, \"type\": \"quantitative\"}}, \"params\": [{\"name\": \"param_1\", \"select\": {\"type\": \"interval\", \"encodings\": [\"x\", \"y\"]}, \"bind\": \"scales\"}], \"$schema\": \"https://vega.github.io/schema/vega-lite/v5.15.1.json\", \"datasets\": {\"data-7a9e6d880d4e6574cdc14fcb8ca00bad\": [{\"Unnamed: 0\": 0, \"predicted_time\": 4.170390800053963, \"predicted_temperature\": 972.4918, \"true_time\": 5.000000000000001, \"true_temperature\": 970.0, \"delta_time\": -0.829609199946038, \"delta_temperature\": 2.491845703124909}, {\"Unnamed: 0\": 1, \"predicted_time\": 7.659303837593834, \"predicted_temperature\": 974.1714, \"true_time\": 5.000000000000001, \"true_temperature\": 970.0, \"delta_time\": 2.659303837593833, \"delta_temperature\": 4.171411132812409}, {\"Unnamed: 0\": 2, \"predicted_time\": 5.534388772923166, \"predicted_temperature\": 978.1962, \"true_time\": 5.000000000000001, \"true_temperature\": 970.0, \"delta_time\": 0.5343887729231653, \"delta_temperature\": 8.196191406249909}, {\"Unnamed: 0\": 3, \"predicted_time\": 63.30567439076491, \"predicted_temperature\": 1089.9200999999998, \"true_time\": 59.99999999999999, \"true_temperature\": 1100.0, \"delta_time\": 3.305674390764928, \"delta_temperature\": -10.079931640625093}, {\"Unnamed: 0\": 4, \"predicted_time\": 190.8263313120352, \"predicted_temperature\": 895.6244, \"true_time\": 180.0, \"true_temperature\": 900.0000000000001, \"delta_time\": 10.826331312035135, \"delta_temperature\": -4.375585937500091}, {\"Unnamed: 0\": 5, \"predicted_time\": 9.983255911721768, \"predicted_temperature\": 811.6547999999999, \"true_time\": 5.000000000000001, \"true_temperature\": 800.0000000000001, \"delta_time\": 4.983255911721767, \"delta_temperature\": 11.654809570312407}, {\"Unnamed: 0\": 6, \"predicted_time\": 86.87496575240597, \"predicted_temperature\": 985.7604, \"true_time\": 90.0, \"true_temperature\": 970.0, \"delta_time\": -3.12503424759403, \"delta_temperature\": 15.760400390624907}, {\"Unnamed: 0\": 7, \"predicted_time\": 167.97418238100147, \"predicted_temperature\": 789.2934000000001, \"true_time\": 180.0, \"true_temperature\": 800.0000000000001, \"delta_time\": -12.02581761899853, \"delta_temperature\": -10.706640625000093}, {\"Unnamed: 0\": 8, \"predicted_time\": 196.2632935661617, \"predicted_temperature\": 969.5983, \"true_time\": 180.0, \"true_temperature\": 970.0, \"delta_time\": 16.263293566161707, \"delta_temperature\": -0.4017089843750909}, {\"Unnamed: 0\": 9, \"predicted_time\": 104.0300236432542, \"predicted_temperature\": 979.5498, \"true_time\": 90.0, \"true_temperature\": 970.0, \"delta_time\": 14.03002364325421, \"delta_temperature\": 9.549829101562407}, {\"Unnamed: 0\": 10, \"predicted_time\": 106.96718102524734, \"predicted_temperature\": 905.2239, \"true_time\": 90.0, \"true_temperature\": 900.0000000000001, \"delta_time\": 16.967181025247342, \"delta_temperature\": 5.223901367187409}, {\"Unnamed: 0\": 11, \"predicted_time\": 73.59206845226647, \"predicted_temperature\": 960.1394, \"true_time\": 90.0, \"true_temperature\": 970.0, \"delta_time\": -16.407931547733526, \"delta_temperature\": -9.860571289062593}, {\"Unnamed: 0\": 12, \"predicted_time\": 70.85853636219466, \"predicted_temperature\": 973.8051, \"true_time\": 90.0, \"true_temperature\": 970.0, \"delta_time\": -19.141463637805344, \"delta_temperature\": 3.805078124999909}, {\"Unnamed: 0\": 13, \"predicted_time\": 163.98107021370757, \"predicted_temperature\": 982.3056, \"true_time\": 180.0, \"true_temperature\": 970.0, \"delta_time\": -16.018929786292432, \"delta_temperature\": 12.305566406249907}, {\"Unnamed: 0\": 14, \"predicted_time\": 110.43490900372936, \"predicted_temperature\": 970.0261, \"true_time\": 90.0, \"true_temperature\": 970.0, \"delta_time\": 20.43490900372936, \"delta_temperature\": 0.026147460937409}, {\"Unnamed: 0\": 15, \"predicted_time\": 110.06580507907698, \"predicted_temperature\": 977.3432, \"true_time\": 90.0, \"true_temperature\": 970.0, \"delta_time\": 20.06580507907698, \"delta_temperature\": 7.343164062499909}, {\"Unnamed: 0\": 16, \"predicted_time\": 111.76044626176602, \"predicted_temperature\": 967.2438, \"true_time\": 90.0, \"true_temperature\": 970.0, \"delta_time\": 21.76044626176602, \"delta_temperature\": -2.756201171875091}, {\"Unnamed: 0\": 17, \"predicted_time\": 110.83700973561383, \"predicted_temperature\": 959.7726, \"true_time\": 90.0, \"true_temperature\": 970.0, \"delta_time\": 20.837009735613847, \"delta_temperature\": -10.227392578125093}, {\"Unnamed: 0\": 18, \"predicted_time\": 111.74787016746728, \"predicted_temperature\": 814.6306000000001, \"true_time\": 90.0, \"true_temperature\": 800.0000000000001, \"delta_time\": 21.74787016746727, \"delta_temperature\": 14.630639648437407}, {\"Unnamed: 0\": 19, \"predicted_time\": 113.33241455202972, \"predicted_temperature\": 951.2558, \"true_time\": 90.0, \"true_temperature\": 970.0, \"delta_time\": 23.33241455202972, \"delta_temperature\": -18.74423828125009}, {\"Unnamed: 0\": 20, \"predicted_time\": 148.55717289078174, \"predicted_temperature\": 971.4351, \"true_time\": 180.0, \"true_temperature\": 970.0, \"delta_time\": -31.442827109218257, \"delta_temperature\": 1.435083007812409}, {\"Unnamed: 0\": 21, \"predicted_time\": 140.70503711282657, \"predicted_temperature\": 806.3195999999999, \"true_time\": 180.0, \"true_temperature\": 800.0000000000001, \"delta_time\": -39.294962887173455, \"delta_temperature\": 6.319604492187409}, {\"Unnamed: 0\": 22, \"predicted_time\": 131.52690425435495, \"predicted_temperature\": 913.357, \"true_time\": 90.0, \"true_temperature\": 900.0000000000001, \"delta_time\": 41.526904254354974, \"delta_temperature\": 13.356958007812407}, {\"Unnamed: 0\": 23, \"predicted_time\": 47.85488116460815, \"predicted_temperature\": 1143.852, \"true_time\": 59.99999999999999, \"true_temperature\": 1100.0, \"delta_time\": -12.145118835391834, \"delta_temperature\": 43.85195312499991}, {\"Unnamed: 0\": 24, \"predicted_time\": 434.45334969652856, \"predicted_temperature\": 792.112, \"true_time\": 480.0, \"true_temperature\": 800.0000000000001, \"delta_time\": -45.54665030347144, \"delta_temperature\": -7.888037109375091}, {\"Unnamed: 0\": 25, \"predicted_time\": 30.080661900473046, \"predicted_temperature\": 925.2318, \"true_time\": 5.000000000000001, \"true_temperature\": 970.0, \"delta_time\": 25.080661900473046, \"delta_temperature\": -44.76816406250009}, {\"Unnamed: 0\": 26, \"predicted_time\": 128.10655237888545, \"predicted_temperature\": 978.1796, \"true_time\": 180.0, \"true_temperature\": 970.0, \"delta_time\": -51.893447621114575, \"delta_temperature\": 8.179589843749909}, {\"Unnamed: 0\": 27, \"predicted_time\": 533.5503341776969, \"predicted_temperature\": 975.0447, \"true_time\": 480.0, \"true_temperature\": 970.0, \"delta_time\": 53.55033417769687, \"delta_temperature\": 5.044702148437409}, {\"Unnamed: 0\": 28, \"predicted_time\": 16.533300012596655, \"predicted_temperature\": 753.9339000000001, \"true_time\": 5.000000000000001, \"true_temperature\": 700.0, \"delta_time\": 11.533300012596657, \"delta_temperature\": 53.93386230468741}, {\"Unnamed: 0\": 29, \"predicted_time\": 235.31669725873783, \"predicted_temperature\": 976.2753, \"true_time\": 180.0, \"true_temperature\": 970.0, \"delta_time\": 55.31669725873786, \"delta_temperature\": 6.275292968749909}, {\"Unnamed: 0\": 30, \"predicted_time\": 34.14094211242633, \"predicted_temperature\": 962.2646, \"true_time\": 90.0, \"true_temperature\": 970.0, \"delta_time\": -55.85905788757367, \"delta_temperature\": -7.735449218750091}, {\"Unnamed: 0\": 31, \"predicted_time\": 235.81565229736, \"predicted_temperature\": 825.4761, \"true_time\": 180.0, \"true_temperature\": 800.0000000000001, \"delta_time\": 55.815652297359975, \"delta_temperature\": 25.47609863281241}, {\"Unnamed: 0\": 32, \"predicted_time\": 54.94273106925186, \"predicted_temperature\": 908.7162, \"true_time\": 90.0, \"true_temperature\": 970.0, \"delta_time\": -35.05726893074814, \"delta_temperature\": -61.28378906250009}, {\"Unnamed: 0\": 33, \"predicted_time\": 59.37168813348394, \"predicted_temperature\": 869.4151, \"true_time\": 90.0, \"true_temperature\": 800.0000000000001, \"delta_time\": -30.628311866516057, \"delta_temperature\": 69.41506347656241}, {\"Unnamed: 0\": 34, \"predicted_time\": 97.69757665111774, \"predicted_temperature\": 894.4037, \"true_time\": 90.0, \"true_temperature\": 970.0, \"delta_time\": 7.697576651117743, \"delta_temperature\": -75.59628906250009}, {\"Unnamed: 0\": 35, \"predicted_time\": 16.538034847374423, \"predicted_temperature\": 889.4094000000001, \"true_time\": 5.000000000000001, \"true_temperature\": 970.0, \"delta_time\": 11.538034847374425, \"delta_temperature\": -80.59055175781259}, {\"Unnamed: 0\": 36, \"predicted_time\": 1347.5780514277706, \"predicted_temperature\": 969.3397, \"true_time\": 1440.0000000000005, \"true_temperature\": 970.0, \"delta_time\": -92.4219485722299, \"delta_temperature\": -0.660253906250091}, {\"Unnamed: 0\": 37, \"predicted_time\": 1321.2602377731923, \"predicted_temperature\": 968.5333, \"true_time\": 1440.0000000000005, \"true_temperature\": 970.0, \"delta_time\": -118.73976222680812, \"delta_temperature\": -1.466650390625091}, {\"Unnamed: 0\": 38, \"predicted_time\": 302.9197972111712, \"predicted_temperature\": 976.6841, \"true_time\": 180.0, \"true_temperature\": 970.0, \"delta_time\": 122.91979721117116, \"delta_temperature\": 6.684106445312409}, {\"Unnamed: 0\": 39, \"predicted_time\": 1300.98131815458, \"predicted_temperature\": 908.95, \"true_time\": 1440.0000000000005, \"true_temperature\": 900.0000000000001, \"delta_time\": -139.0186818454206, \"delta_temperature\": 8.949975585937409}, {\"Unnamed: 0\": 40, \"predicted_time\": 1585.0005216235795, \"predicted_temperature\": 971.5132, \"true_time\": 1440.0000000000005, \"true_temperature\": 970.0, \"delta_time\": 145.00052162357906, \"delta_temperature\": 1.513208007812409}, {\"Unnamed: 0\": 41, \"predicted_time\": 154.06601388881623, \"predicted_temperature\": 964.4218, \"true_time\": 5.000000000000001, \"true_temperature\": 1000.0, \"delta_time\": 149.06601388881623, \"delta_temperature\": -35.57822265625009}, {\"Unnamed: 0\": 42, \"predicted_time\": 1603.3315200441216, \"predicted_temperature\": 973.1071, \"true_time\": 1440.0000000000005, \"true_temperature\": 970.0, \"delta_time\": 163.3315200441211, \"delta_temperature\": 3.107080078124909}, {\"Unnamed: 0\": 43, \"predicted_time\": 305.61329368995945, \"predicted_temperature\": 967.1138, \"true_time\": 480.0, \"true_temperature\": 970.0, \"delta_time\": -174.38670631004055, \"delta_temperature\": -2.886206054687591}, {\"Unnamed: 0\": 44, \"predicted_time\": 657.1010366017267, \"predicted_temperature\": 805.427, \"true_time\": 480.0, \"true_temperature\": 800.0000000000001, \"delta_time\": 177.10103660172672, \"delta_temperature\": 5.427026367187409}, {\"Unnamed: 0\": 45, \"predicted_time\": 284.2208745588743, \"predicted_temperature\": 982.2381, \"true_time\": 90.0, \"true_temperature\": 970.0, \"delta_time\": 194.2208745588743, \"delta_temperature\": 12.238061523437407}, {\"Unnamed: 0\": 46, \"predicted_time\": 329.97344586366256, \"predicted_temperature\": 842.9171, \"true_time\": 90.0, \"true_temperature\": 900.0000000000001, \"delta_time\": 239.97344586366256, \"delta_temperature\": -57.08286132812509}, {\"Unnamed: 0\": 47, \"predicted_time\": 203.21640587981244, \"predicted_temperature\": 943.0863, \"true_time\": 480.0, \"true_temperature\": 970.0, \"delta_time\": -276.7835941201876, \"delta_temperature\": -26.91367187500009}, {\"Unnamed: 0\": 48, \"predicted_time\": 1112.3522082079835, \"predicted_temperature\": 970.8764, \"true_time\": 1440.0000000000005, \"true_temperature\": 970.0, \"delta_time\": -327.64779179201696, \"delta_temperature\": 0.876367187499909}, {\"Unnamed: 0\": 49, \"predicted_time\": 1068.6303007485258, \"predicted_temperature\": 970.6795, \"true_time\": 1440.0000000000005, \"true_temperature\": 970.0, \"delta_time\": -371.3696992514747, \"delta_temperature\": 0.679467773437409}, {\"Unnamed: 0\": 50, \"predicted_time\": 919.7706414982242, \"predicted_temperature\": 799.2549, \"true_time\": 480.0, \"true_temperature\": 800.0000000000001, \"delta_time\": 439.7706414982242, \"delta_temperature\": -0.745092773437591}, {\"Unnamed: 0\": 51, \"predicted_time\": 807.6767300854802, \"predicted_temperature\": 961.6247, \"true_time\": 1440.0000000000005, \"true_temperature\": 970.0, \"delta_time\": -632.3232699145202, \"delta_temperature\": -8.375341796875091}, {\"Unnamed: 0\": 52, \"predicted_time\": 746.3052628489845, \"predicted_temperature\": 979.5999, \"true_time\": 1440.0000000000005, \"true_temperature\": 970.0, \"delta_time\": -693.6947371510159, \"delta_temperature\": 9.599877929687407}, {\"Unnamed: 0\": 53, \"predicted_time\": 2336.114089845632, \"predicted_temperature\": 794.765, \"true_time\": 1440.0000000000005, \"true_temperature\": 800.0000000000001, \"delta_time\": 896.1140898456315, \"delta_temperature\": -5.234960937500091}, {\"Unnamed: 0\": 54, \"predicted_time\": 2396.8380082036088, \"predicted_temperature\": 800.4943999999999, \"true_time\": 1440.0000000000005, \"true_temperature\": 800.0000000000001, \"delta_time\": 956.8380082036084, \"delta_temperature\": 0.494409179687409}, {\"Unnamed: 0\": 55, \"predicted_time\": 1458.3756481008154, \"predicted_temperature\": 807.0156000000001, \"true_time\": 480.0, \"true_temperature\": 800.0000000000001, \"delta_time\": 978.3756481008154, \"delta_temperature\": 7.015649414062409}, {\"Unnamed: 0\": 56, \"predicted_time\": 3928.6103070241033, \"predicted_temperature\": 802.4939, \"true_time\": 5100.000000000005, \"true_temperature\": 800.0000000000001, \"delta_time\": -1171.3896929759012, \"delta_temperature\": 2.493920898437409}, {\"Unnamed: 0\": 57, \"predicted_time\": 2766.1662865576072, \"predicted_temperature\": 806.2277, \"true_time\": 1440.0000000000005, \"true_temperature\": 800.0000000000001, \"delta_time\": 1326.1662865576068, \"delta_temperature\": 6.227685546874909}, {\"Unnamed: 0\": 58, \"predicted_time\": 3376.2608425380186, \"predicted_temperature\": 801.0131, \"true_time\": 5100.000000000005, \"true_temperature\": 800.0000000000001, \"delta_time\": -1723.739157461986, \"delta_temperature\": 1.013085937499909}, {\"Unnamed: 0\": 59, \"predicted_time\": 2329.8587612801302, \"predicted_temperature\": 810.5358, \"true_time\": 5100.000000000005, \"true_temperature\": 800.0000000000001, \"delta_time\": -2770.1412387198743, \"delta_temperature\": 10.535791015624907}]}}, {\"mode\": \"vega-lite\"});\n",
       "</script>"
      ],
      "text/plain": [
       "alt.Chart(...)"
      ]
     },
     "execution_count": 35,
     "metadata": {},
     "output_type": "execute_result"
    }
   ],
   "source": [
    "\n",
    "\n",
    "offset = -150\n",
    "\n",
    "test_predictions_chart = alt.Chart(test_predictions).mark_point(color = 'orangered').encode(\n",
    "    x = alt.X('delta_time', \n",
    "              axis = alt.Axis(offset = offset, title ='Time Difference (Minutes)', titleY = 175),\n",
    "              scale = alt.Scale(domain=[-3000, 3000])),\n",
    "              \n",
    "    y = alt.Y('delta_temperature', \n",
    "              axis = alt.Axis(offset = offset,title ='Temperature Difference (K)',titleX = -175),\n",
    "              scale = alt.Scale(domain=[-100, 100])),\n",
    "    tooltip = [alt.Tooltip('predicted_time',title = 'Predicted Time'),\n",
    "               alt.Tooltip('predicted_temperature',title = 'Predicted Temperature'),\n",
    "               alt.Tooltip('true_time',title = 'True Time'),\n",
    "               alt.Tooltip('true_temperature',title = 'True Temperature')]\n",
    "  \n",
    ").interactive()\n",
    "\n",
    "\n",
    "test_predictions_chart\n",
    "\n"
   ]
  }
 ],
 "metadata": {
  "kernelspec": {
   "display_name": "Python 3 (ipykernel)",
   "language": "python",
   "name": "python3"
  },
  "language_info": {
   "codemirror_mode": {
    "name": "ipython",
    "version": 3
   },
   "file_extension": ".py",
   "mimetype": "text/x-python",
   "name": "python",
   "nbconvert_exporter": "python",
   "pygments_lexer": "ipython3",
   "version": "3.11.3"
  }
 },
 "nbformat": 4,
 "nbformat_minor": 5
}
