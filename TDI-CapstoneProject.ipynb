{
 "cells": [
  {
   "cell_type": "code",
   "execution_count": 3,
   "id": "0297ae9c",
   "metadata": {},
   "outputs": [],
   "source": [
    "import seaborn as sns\n",
    "sns.set()\n",
    "import altair as alt"
   ]
  },
  {
   "cell_type": "code",
   "execution_count": 1524,
   "id": "b09886df",
   "metadata": {},
   "outputs": [],
   "source": [
    "import numpy as np\n",
    "import pandas as pd\n",
    "from numpy import random as rd\n",
    "import tensorflow as tf\n",
    "from tensorflow import keras\n",
    "\n",
    "from sklearn.compose import ColumnTransformer"
   ]
  },
  {
   "cell_type": "markdown",
   "id": "8f60db88",
   "metadata": {},
   "source": [
    "# SQLite and Data Preprocessing \n"
   ]
  },
  {
   "cell_type": "markdown",
   "id": "dbeb3389",
   "metadata": {},
   "source": [
    "### SQL to Dataframe  "
   ]
  },
  {
   "cell_type": "code",
   "execution_count": 619,
   "id": "780a5cd0",
   "metadata": {},
   "outputs": [],
   "source": [
    "\n",
    "import sqlalchemy\n",
    "from sqlalchemy import create_engine\n",
    "\n",
    "from sqlalchemy import inspect\n"
   ]
  },
  {
   "cell_type": "code",
   "execution_count": 620,
   "id": "2bf5a088",
   "metadata": {},
   "outputs": [],
   "source": [
    "engine = create_engine(\"sqlite:///microstructures.sqlite\")"
   ]
  },
  {
   "cell_type": "code",
   "execution_count": 621,
   "id": "ab0e18fe",
   "metadata": {},
   "outputs": [],
   "source": [
    "MD = sqlalchemy.MetaData(bind = engine)"
   ]
  },
  {
   "cell_type": "code",
   "execution_count": 622,
   "id": "28b4d0cc",
   "metadata": {},
   "outputs": [],
   "source": [
    "conn = engine.connect()"
   ]
  },
  {
   "cell_type": "code",
   "execution_count": 628,
   "id": "a6880ec0",
   "metadata": {},
   "outputs": [],
   "source": [
    "inspector = inspect(engine)"
   ]
  },
  {
   "cell_type": "code",
   "execution_count": 2,
   "id": "fc6c4368",
   "metadata": {},
   "outputs": [
    {
     "data": {
      "text/plain": [
       "'\\nfor table_name in inspector.get_table_names():\\n   for column in inspector.get_columns(table_name):\\n       print(\"Table: %s\" % table_name , \" Column: %s\" % column[\\'name\\'])\\n'"
      ]
     },
     "execution_count": 2,
     "metadata": {},
     "output_type": "execute_result"
    }
   ],
   "source": [
    "'''\n",
    "for table_name in inspector.get_table_names():\n",
    "   for column in inspector.get_columns(table_name):\n",
    "       print(\"Table: %s\" % table_name , \" Column: %s\" % column['name'])\n",
    "'''        "
   ]
  },
  {
   "cell_type": "code",
   "execution_count": null,
   "id": "02c57b2d",
   "metadata": {},
   "outputs": [],
   "source": []
  },
  {
   "cell_type": "code",
   "execution_count": null,
   "id": "9e9e8c10",
   "metadata": {},
   "outputs": [],
   "source": []
  },
  {
   "cell_type": "code",
   "execution_count": 630,
   "id": "59fdb00d",
   "metadata": {},
   "outputs": [],
   "source": [
    "#### JOINS the micrograph table to the sample data table\n",
    "\n",
    "\n",
    "micrographs = \"\"\"\n",
    "\n",
    "SELECT *\n",
    "FROM micrograph JOIN sample ON sample_id = sample_key\n",
    "\n",
    "\n",
    "\"\"\""
   ]
  },
  {
   "cell_type": "code",
   "execution_count": 743,
   "id": "cafe2fde",
   "metadata": {},
   "outputs": [],
   "source": [
    "###  This is the main dataframe\n",
    "micrographs_df =pd.read_sql_query(micrographs, conn)"
   ]
  },
  {
   "cell_type": "code",
   "execution_count": 751,
   "id": "1e00a414",
   "metadata": {},
   "outputs": [
    {
     "data": {
      "text/html": [
       "<div>\n",
       "<style scoped>\n",
       "    .dataframe tbody tr th:only-of-type {\n",
       "        vertical-align: middle;\n",
       "    }\n",
       "\n",
       "    .dataframe tbody tr th {\n",
       "        vertical-align: top;\n",
       "    }\n",
       "\n",
       "    .dataframe thead th {\n",
       "        text-align: right;\n",
       "    }\n",
       "</style>\n",
       "<table border=\"1\" class=\"dataframe\">\n",
       "  <thead>\n",
       "    <tr style=\"text-align: right;\">\n",
       "      <th></th>\n",
       "      <th>micrograph_id</th>\n",
       "      <th>path</th>\n",
       "      <th>micron_bar</th>\n",
       "      <th>micron_bar_units</th>\n",
       "      <th>micron_bar_px</th>\n",
       "      <th>magnification</th>\n",
       "      <th>detector</th>\n",
       "      <th>sample_key</th>\n",
       "      <th>contributor_key</th>\n",
       "      <th>primary_microconstituent</th>\n",
       "      <th>sample_id</th>\n",
       "      <th>label</th>\n",
       "      <th>anneal_time</th>\n",
       "      <th>anneal_time_unit</th>\n",
       "      <th>anneal_temperature</th>\n",
       "      <th>anneal_temp_unit</th>\n",
       "      <th>cool_method</th>\n",
       "    </tr>\n",
       "  </thead>\n",
       "  <tbody>\n",
       "    <tr>\n",
       "      <th>0</th>\n",
       "      <td>1</td>\n",
       "      <td>micrograph1.tif</td>\n",
       "      <td>5.0</td>\n",
       "      <td>um</td>\n",
       "      <td>129</td>\n",
       "      <td>4910x</td>\n",
       "      <td>SE</td>\n",
       "      <td>42</td>\n",
       "      <td>2</td>\n",
       "      <td>pearlite</td>\n",
       "      <td>42</td>\n",
       "      <td>ET Gyro</td>\n",
       "      <td>NaN</td>\n",
       "      <td>None</td>\n",
       "      <td>NaN</td>\n",
       "      <td>None</td>\n",
       "      <td>None</td>\n",
       "    </tr>\n",
       "    <tr>\n",
       "      <th>1</th>\n",
       "      <td>2</td>\n",
       "      <td>micrograph2.tif</td>\n",
       "      <td>10.0</td>\n",
       "      <td>um</td>\n",
       "      <td>103</td>\n",
       "      <td>1964X</td>\n",
       "      <td>SE</td>\n",
       "      <td>18</td>\n",
       "      <td>2</td>\n",
       "      <td>spheroidite</td>\n",
       "      <td>18</td>\n",
       "      <td>AC1 800C 85H WQ</td>\n",
       "      <td>85.0</td>\n",
       "      <td>H</td>\n",
       "      <td>800.0</td>\n",
       "      <td>C</td>\n",
       "      <td>WQ</td>\n",
       "    </tr>\n",
       "    <tr>\n",
       "      <th>2</th>\n",
       "      <td>4</td>\n",
       "      <td>micrograph4.tif</td>\n",
       "      <td>10.0</td>\n",
       "      <td>um</td>\n",
       "      <td>129</td>\n",
       "      <td>None</td>\n",
       "      <td>SE</td>\n",
       "      <td>35</td>\n",
       "      <td>2</td>\n",
       "      <td>pearlite+spheroidite</td>\n",
       "      <td>35</td>\n",
       "      <td>AC1 970C 90M FC</td>\n",
       "      <td>90.0</td>\n",
       "      <td>M</td>\n",
       "      <td>970.0</td>\n",
       "      <td>C</td>\n",
       "      <td>FC</td>\n",
       "    </tr>\n",
       "    <tr>\n",
       "      <th>3</th>\n",
       "      <td>5</td>\n",
       "      <td>micrograph5.tif</td>\n",
       "      <td>5.0</td>\n",
       "      <td>um</td>\n",
       "      <td>129</td>\n",
       "      <td>4910X</td>\n",
       "      <td>SE</td>\n",
       "      <td>10</td>\n",
       "      <td>2</td>\n",
       "      <td>pearlite</td>\n",
       "      <td>10</td>\n",
       "      <td>AC1 750C 5M WQ</td>\n",
       "      <td>5.0</td>\n",
       "      <td>M</td>\n",
       "      <td>750.0</td>\n",
       "      <td>C</td>\n",
       "      <td>WQ</td>\n",
       "    </tr>\n",
       "    <tr>\n",
       "      <th>4</th>\n",
       "      <td>6</td>\n",
       "      <td>micrograph6.tif</td>\n",
       "      <td>20.0</td>\n",
       "      <td>um</td>\n",
       "      <td>124</td>\n",
       "      <td>1178X</td>\n",
       "      <td>SE</td>\n",
       "      <td>29</td>\n",
       "      <td>2</td>\n",
       "      <td>spheroidite</td>\n",
       "      <td>29</td>\n",
       "      <td>AC1 970C 90M AR</td>\n",
       "      <td>90.0</td>\n",
       "      <td>M</td>\n",
       "      <td>970.0</td>\n",
       "      <td>C</td>\n",
       "      <td>AR</td>\n",
       "    </tr>\n",
       "    <tr>\n",
       "      <th>...</th>\n",
       "      <td>...</td>\n",
       "      <td>...</td>\n",
       "      <td>...</td>\n",
       "      <td>...</td>\n",
       "      <td>...</td>\n",
       "      <td>...</td>\n",
       "      <td>...</td>\n",
       "      <td>...</td>\n",
       "      <td>...</td>\n",
       "      <td>...</td>\n",
       "      <td>...</td>\n",
       "      <td>...</td>\n",
       "      <td>...</td>\n",
       "      <td>...</td>\n",
       "      <td>...</td>\n",
       "      <td>...</td>\n",
       "      <td>...</td>\n",
       "    </tr>\n",
       "    <tr>\n",
       "      <th>798</th>\n",
       "      <td>1723</td>\n",
       "      <td>micrograph1723.tif</td>\n",
       "      <td>10.0</td>\n",
       "      <td>um</td>\n",
       "      <td>103</td>\n",
       "      <td>1964X</td>\n",
       "      <td>BSE</td>\n",
       "      <td>41</td>\n",
       "      <td>2</td>\n",
       "      <td>martensite</td>\n",
       "      <td>41</td>\n",
       "      <td>AC1 IS1010H 35X etched</td>\n",
       "      <td>NaN</td>\n",
       "      <td>None</td>\n",
       "      <td>NaN</td>\n",
       "      <td>None</td>\n",
       "      <td>None</td>\n",
       "    </tr>\n",
       "    <tr>\n",
       "      <th>799</th>\n",
       "      <td>1726</td>\n",
       "      <td>micrograph1726.tif</td>\n",
       "      <td>5.0</td>\n",
       "      <td>um</td>\n",
       "      <td>90</td>\n",
       "      <td>3437X</td>\n",
       "      <td>SE</td>\n",
       "      <td>34</td>\n",
       "      <td>2</td>\n",
       "      <td>spheroidite+widmanstatten</td>\n",
       "      <td>34</td>\n",
       "      <td>AC1 970 5M FC</td>\n",
       "      <td>5.0</td>\n",
       "      <td>M</td>\n",
       "      <td>970.0</td>\n",
       "      <td>C</td>\n",
       "      <td>FC</td>\n",
       "    </tr>\n",
       "    <tr>\n",
       "      <th>800</th>\n",
       "      <td>1730</td>\n",
       "      <td>micrograph1730.png</td>\n",
       "      <td>10.0</td>\n",
       "      <td>um</td>\n",
       "      <td>103</td>\n",
       "      <td>1964X</td>\n",
       "      <td>SE</td>\n",
       "      <td>40</td>\n",
       "      <td>2</td>\n",
       "      <td>spheroidite</td>\n",
       "      <td>40</td>\n",
       "      <td>AC1 970C 90M Q</td>\n",
       "      <td>90.0</td>\n",
       "      <td>M</td>\n",
       "      <td>970.0</td>\n",
       "      <td>C</td>\n",
       "      <td>Q</td>\n",
       "    </tr>\n",
       "    <tr>\n",
       "      <th>801</th>\n",
       "      <td>1731</td>\n",
       "      <td>micrograph1731.tif</td>\n",
       "      <td>1.0</td>\n",
       "      <td>um</td>\n",
       "      <td>129</td>\n",
       "      <td>24551X</td>\n",
       "      <td>SE</td>\n",
       "      <td>47</td>\n",
       "      <td>2</td>\n",
       "      <td>pearlite</td>\n",
       "      <td>47</td>\n",
       "      <td>SIS_XL.TIF</td>\n",
       "      <td>NaN</td>\n",
       "      <td>None</td>\n",
       "      <td>NaN</td>\n",
       "      <td>None</td>\n",
       "      <td>None</td>\n",
       "    </tr>\n",
       "    <tr>\n",
       "      <th>802</th>\n",
       "      <td>1732</td>\n",
       "      <td>micrograph1732.tif</td>\n",
       "      <td>2.0</td>\n",
       "      <td>um</td>\n",
       "      <td>67</td>\n",
       "      <td>None</td>\n",
       "      <td>SE</td>\n",
       "      <td>9</td>\n",
       "      <td>2</td>\n",
       "      <td>pearlite</td>\n",
       "      <td>9</td>\n",
       "      <td>AC1 700C 5M WQ</td>\n",
       "      <td>5.0</td>\n",
       "      <td>M</td>\n",
       "      <td>700.0</td>\n",
       "      <td>C</td>\n",
       "      <td>WQ</td>\n",
       "    </tr>\n",
       "  </tbody>\n",
       "</table>\n",
       "<p>803 rows × 17 columns</p>\n",
       "</div>"
      ],
      "text/plain": [
       "     micrograph_id                path  micron_bar micron_bar_units  \\\n",
       "0                1     micrograph1.tif         5.0               um   \n",
       "1                2     micrograph2.tif        10.0               um   \n",
       "2                4     micrograph4.tif        10.0               um   \n",
       "3                5     micrograph5.tif         5.0               um   \n",
       "4                6     micrograph6.tif        20.0               um   \n",
       "..             ...                 ...         ...              ...   \n",
       "798           1723  micrograph1723.tif        10.0               um   \n",
       "799           1726  micrograph1726.tif         5.0               um   \n",
       "800           1730  micrograph1730.png        10.0               um   \n",
       "801           1731  micrograph1731.tif         1.0               um   \n",
       "802           1732  micrograph1732.tif         2.0               um   \n",
       "\n",
       "     micron_bar_px magnification detector  sample_key  contributor_key  \\\n",
       "0              129         4910x       SE          42                2   \n",
       "1              103         1964X       SE          18                2   \n",
       "2              129          None       SE          35                2   \n",
       "3              129         4910X       SE          10                2   \n",
       "4              124         1178X       SE          29                2   \n",
       "..             ...           ...      ...         ...              ...   \n",
       "798            103         1964X      BSE          41                2   \n",
       "799             90         3437X       SE          34                2   \n",
       "800            103         1964X       SE          40                2   \n",
       "801            129        24551X       SE          47                2   \n",
       "802             67          None       SE           9                2   \n",
       "\n",
       "      primary_microconstituent  sample_id                   label  \\\n",
       "0                     pearlite         42                 ET Gyro   \n",
       "1                  spheroidite         18         AC1 800C 85H WQ   \n",
       "2         pearlite+spheroidite         35         AC1 970C 90M FC   \n",
       "3                     pearlite         10          AC1 750C 5M WQ   \n",
       "4                  spheroidite         29         AC1 970C 90M AR   \n",
       "..                         ...        ...                     ...   \n",
       "798                 martensite         41  AC1 IS1010H 35X etched   \n",
       "799  spheroidite+widmanstatten         34           AC1 970 5M FC   \n",
       "800                spheroidite         40          AC1 970C 90M Q   \n",
       "801                   pearlite         47              SIS_XL.TIF   \n",
       "802                   pearlite          9          AC1 700C 5M WQ   \n",
       "\n",
       "     anneal_time anneal_time_unit  anneal_temperature anneal_temp_unit  \\\n",
       "0            NaN             None                 NaN             None   \n",
       "1           85.0                H               800.0                C   \n",
       "2           90.0                M               970.0                C   \n",
       "3            5.0                M               750.0                C   \n",
       "4           90.0                M               970.0                C   \n",
       "..           ...              ...                 ...              ...   \n",
       "798          NaN             None                 NaN             None   \n",
       "799          5.0                M               970.0                C   \n",
       "800         90.0                M               970.0                C   \n",
       "801          NaN             None                 NaN             None   \n",
       "802          5.0                M               700.0                C   \n",
       "\n",
       "    cool_method  \n",
       "0          None  \n",
       "1            WQ  \n",
       "2            FC  \n",
       "3            WQ  \n",
       "4            AR  \n",
       "..          ...  \n",
       "798        None  \n",
       "799          FC  \n",
       "800           Q  \n",
       "801        None  \n",
       "802          WQ  \n",
       "\n",
       "[803 rows x 17 columns]"
      ]
     },
     "execution_count": 751,
     "metadata": {},
     "output_type": "execute_result"
    }
   ],
   "source": [
    "\n",
    "micrographs_df"
   ]
  },
  {
   "cell_type": "markdown",
   "id": "c96af19f",
   "metadata": {},
   "source": [
    "Above we see that the main features are:\\\n",
    "&emsp; magnification\\\n",
    "&emsp; primary_microconstituent\\\n",
    "&emsp; anneal_time (along with anneal_time_unit)\\\n",
    "&emsp; anneal_temp\\\n",
    "&emsp; cool_method\n",
    "    "
   ]
  },
  {
   "cell_type": "code",
   "execution_count": 735,
   "id": "2b58fecc",
   "metadata": {},
   "outputs": [
    {
     "data": {
      "text/plain": [
       "(527, 17)"
      ]
     },
     "execution_count": 735,
     "metadata": {},
     "output_type": "execute_result"
    }
   ],
   "source": [
    "### dataframe with only annealed samples\n",
    "\n",
    "micro_anneal_df = micrographs_df.dropna()\n",
    "micro_anneal_df.shape"
   ]
  },
  {
   "cell_type": "markdown",
   "id": "0dee4094",
   "metadata": {},
   "source": [
    "### Custom Transformers for Data Preprocessing\n",
    "\n",
    "The anneal time is in minutes and hours, and we will convert evething to minutes.\\\n",
    "The anneal temperature is Celsius which is bad for scaling so we will convert to Kelvin"
   ]
  },
  {
   "cell_type": "code",
   "execution_count": 638,
   "id": "84db24da",
   "metadata": {},
   "outputs": [],
   "source": [
    "from sklearn.base import BaseEstimator,TransformerMixin"
   ]
  },
  {
   "cell_type": "code",
   "execution_count": 640,
   "id": "6a56fe96",
   "metadata": {},
   "outputs": [],
   "source": [
    "class ToKelvin(BaseEstimator, TransformerMixin):\n",
    "    \n",
    "    def fit(self, X, y= None):\n",
    "        return self\n",
    "        \n",
    "    def transform(self, X, y = None):\n",
    "        return X + 273.15\n",
    "    "
   ]
  },
  {
   "cell_type": "code",
   "execution_count": 745,
   "id": "e2932b99",
   "metadata": {},
   "outputs": [],
   "source": [
    "class ToMinute(BaseEstimator, TransformerMixin):\n",
    "    \n",
    "    def __init__(self, dataseries):\n",
    "        self.dataseries = dataseries\n",
    "        self.multi = self.dataseries.apply(self._M_to_K)\n",
    "        \n",
    "    def _M_to_K(self, char):\n",
    "        if char == 'H':\n",
    "            return 60\n",
    "        if char == 'M':\n",
    "            return 1\n",
    "        else: \n",
    "            return 0\n",
    "        \n",
    "    def fit(self,X,y = None):\n",
    "        return self\n",
    "    \n",
    "    \n",
    "    def transform(self, X, y = None):\n",
    "        \n",
    "        return X*self.multi\n",
    "    "
   ]
  },
  {
   "cell_type": "code",
   "execution_count": 748,
   "id": "de0c065b",
   "metadata": {},
   "outputs": [
    {
     "data": {
      "text/plain": [
       "0         NaN\n",
       "1      5100.0\n",
       "2        90.0\n",
       "3         5.0\n",
       "4        90.0\n",
       "        ...  \n",
       "798       NaN\n",
       "799       5.0\n",
       "800      90.0\n",
       "801       NaN\n",
       "802       5.0\n",
       "Length: 803, dtype: float64"
      ]
     },
     "execution_count": 748,
     "metadata": {},
     "output_type": "execute_result"
    }
   ],
   "source": [
    "# testing ToMinute by itself\n",
    "\n",
    "minutes = ToMinute(micrographs_df['anneal_time_unit'])\n",
    "anneal_time_minutes = minutes.transform(micrographs_df['anneal_time'])\n"
   ]
  },
  {
   "cell_type": "code",
   "execution_count": 755,
   "id": "f7d2a23d",
   "metadata": {},
   "outputs": [],
   "source": [
    "micrographs_minutes = micrographs_df.copy()\n",
    "micrographs_minutes.loc[:,'anneal_time'] = anneal_time_minutes"
   ]
  },
  {
   "cell_type": "code",
   "execution_count": 758,
   "id": "f3e6d5a4",
   "metadata": {},
   "outputs": [],
   "source": [
    "micro_M_K = micrographs_minutes\n",
    "micro_M_K.loc[:, 'anneal_temperature'] += 273.15\n"
   ]
  },
  {
   "cell_type": "markdown",
   "id": "1ee9d918",
   "metadata": {},
   "source": [
    "### This is our main data frame (before OHE)"
   ]
  },
  {
   "cell_type": "code",
   "execution_count": 761,
   "id": "3a6588c4",
   "metadata": {},
   "outputs": [],
   "source": [
    "###  This is our main data frame\n",
    "\n",
    "main_micrographs_df = micro_M_K[['path',\n",
    "                                 'magnification',\n",
    "                                 'primary_microconstituent',\n",
    "                                 'anneal_time',\n",
    "                                 'anneal_temperature',\n",
    "                                 'cool_method'\n",
    "                                ]]"
   ]
  },
  {
   "cell_type": "code",
   "execution_count": 892,
   "id": "3379fc4c",
   "metadata": {
    "scrolled": true
   },
   "outputs": [
    {
     "data": {
      "text/html": [
       "<div>\n",
       "<style scoped>\n",
       "    .dataframe tbody tr th:only-of-type {\n",
       "        vertical-align: middle;\n",
       "    }\n",
       "\n",
       "    .dataframe tbody tr th {\n",
       "        vertical-align: top;\n",
       "    }\n",
       "\n",
       "    .dataframe thead th {\n",
       "        text-align: right;\n",
       "    }\n",
       "</style>\n",
       "<table border=\"1\" class=\"dataframe\">\n",
       "  <thead>\n",
       "    <tr style=\"text-align: right;\">\n",
       "      <th></th>\n",
       "      <th>path</th>\n",
       "      <th>magnification</th>\n",
       "      <th>primary_microconstituent</th>\n",
       "      <th>anneal_time</th>\n",
       "      <th>anneal_temperature</th>\n",
       "      <th>cool_method</th>\n",
       "    </tr>\n",
       "  </thead>\n",
       "  <tbody>\n",
       "    <tr>\n",
       "      <th>0</th>\n",
       "      <td>micrograph1.tif</td>\n",
       "      <td>4910x</td>\n",
       "      <td>pearlite</td>\n",
       "      <td>NaN</td>\n",
       "      <td>NaN</td>\n",
       "      <td>None</td>\n",
       "    </tr>\n",
       "    <tr>\n",
       "      <th>1</th>\n",
       "      <td>micrograph2.tif</td>\n",
       "      <td>1964X</td>\n",
       "      <td>spheroidite</td>\n",
       "      <td>5100.0</td>\n",
       "      <td>1073.15</td>\n",
       "      <td>WQ</td>\n",
       "    </tr>\n",
       "    <tr>\n",
       "      <th>2</th>\n",
       "      <td>micrograph4.tif</td>\n",
       "      <td>None</td>\n",
       "      <td>pearlite+spheroidite</td>\n",
       "      <td>90.0</td>\n",
       "      <td>1243.15</td>\n",
       "      <td>FC</td>\n",
       "    </tr>\n",
       "    <tr>\n",
       "      <th>3</th>\n",
       "      <td>micrograph5.tif</td>\n",
       "      <td>4910X</td>\n",
       "      <td>pearlite</td>\n",
       "      <td>5.0</td>\n",
       "      <td>1023.15</td>\n",
       "      <td>WQ</td>\n",
       "    </tr>\n",
       "    <tr>\n",
       "      <th>4</th>\n",
       "      <td>micrograph6.tif</td>\n",
       "      <td>1178X</td>\n",
       "      <td>spheroidite</td>\n",
       "      <td>90.0</td>\n",
       "      <td>1243.15</td>\n",
       "      <td>AR</td>\n",
       "    </tr>\n",
       "  </tbody>\n",
       "</table>\n",
       "</div>"
      ],
      "text/plain": [
       "              path magnification primary_microconstituent  anneal_time  \\\n",
       "0  micrograph1.tif         4910x                 pearlite          NaN   \n",
       "1  micrograph2.tif         1964X              spheroidite       5100.0   \n",
       "2  micrograph4.tif          None     pearlite+spheroidite         90.0   \n",
       "3  micrograph5.tif         4910X                 pearlite          5.0   \n",
       "4  micrograph6.tif         1178X              spheroidite         90.0   \n",
       "\n",
       "   anneal_temperature cool_method  \n",
       "0                 NaN        None  \n",
       "1             1073.15          WQ  \n",
       "2             1243.15          FC  \n",
       "3             1023.15          WQ  \n",
       "4             1243.15          AR  "
      ]
     },
     "execution_count": 892,
     "metadata": {},
     "output_type": "execute_result"
    }
   ],
   "source": [
    "main_micrographs_df.head()"
   ]
  },
  {
   "cell_type": "markdown",
   "id": "4b4269c0",
   "metadata": {},
   "source": [
    "### One Hot Encoding"
   ]
  },
  {
   "cell_type": "markdown",
   "id": "55fee032",
   "metadata": {},
   "source": [
    "we use get_dummies from pandas since we will be using flow_from_dataframe"
   ]
  },
  {
   "cell_type": "code",
   "execution_count": 775,
   "id": "ce3ea140",
   "metadata": {},
   "outputs": [],
   "source": [
    "ohe_main_micrographs =pd.get_dummies(main_micrographs_df, columns = [\n",
    "                                 'magnification',\n",
    "                                 'primary_microconstituent',\n",
    "                                 'anneal_time',\n",
    "                                 'anneal_temperature',\n",
    "                                 'cool_method'\n",
    "                                ], dummy_na = True)"
   ]
  },
  {
   "cell_type": "code",
   "execution_count": 1044,
   "id": "7c87a468",
   "metadata": {},
   "outputs": [
    {
     "data": {
      "text/plain": [
       "path                         object\n",
       "primary_microconstituent     object\n",
       "anneal_time                 float64\n",
       "anneal_temperature          float64\n",
       "cool_method                  object\n",
       "dtype: object"
      ]
     },
     "execution_count": 1044,
     "metadata": {},
     "output_type": "execute_result"
    }
   ],
   "source": [
    "\n",
    "new_df = main_micrographs_df[['path','primary_microconstituent','anneal_time','anneal_temperature','cool_method']]\n",
    "#new_df = new_df.astype('string')\n",
    "new_df.dtypes\n",
    "#new_df.fillna('Nothing', inplace = True)\n",
    "#new_df['primary_microconstituent'].values.unique()\n",
    "#new_df['primary_microconstituent'].isna().sum()"
   ]
  },
  {
   "cell_type": "code",
   "execution_count": 1078,
   "id": "17935db9",
   "metadata": {
    "scrolled": true
   },
   "outputs": [
    {
     "name": "stderr",
     "output_type": "stream",
     "text": [
      "C:\\Users\\Owner\\AppData\\Local\\Temp\\ipykernel_22316\\3460716308.py:1: SettingWithCopyWarning: \n",
      "A value is trying to be set on a copy of a slice from a DataFrame.\n",
      "Try using .loc[row_indexer,col_indexer] = value instead\n",
      "\n",
      "See the caveats in the documentation: https://pandas.pydata.org/pandas-docs/stable/user_guide/indexing.html#returning-a-view-versus-a-copy\n",
      "  new_df['anneal_temperature']=new_df['anneal_temperature'].astype('string')\n"
     ]
    }
   ],
   "source": [
    "new_df['anneal_temperature']=new_df['anneal_temperature'].astype('string')"
   ]
  },
  {
   "cell_type": "code",
   "execution_count": 1079,
   "id": "5c588696",
   "metadata": {},
   "outputs": [
    {
     "data": {
      "text/plain": [
       "path                        object\n",
       "primary_microconstituent    object\n",
       "anneal_time                 string\n",
       "anneal_temperature          string\n",
       "cool_method                 object\n",
       "dtype: object"
      ]
     },
     "execution_count": 1079,
     "metadata": {},
     "output_type": "execute_result"
    }
   ],
   "source": [
    "new_df.dtypes"
   ]
  },
  {
   "cell_type": "code",
   "execution_count": 1240,
   "id": "f817dd10",
   "metadata": {},
   "outputs": [
    {
     "data": {
      "text/html": [
       "<div>\n",
       "<style scoped>\n",
       "    .dataframe tbody tr th:only-of-type {\n",
       "        vertical-align: middle;\n",
       "    }\n",
       "\n",
       "    .dataframe tbody tr th {\n",
       "        vertical-align: top;\n",
       "    }\n",
       "\n",
       "    .dataframe thead th {\n",
       "        text-align: right;\n",
       "    }\n",
       "</style>\n",
       "<table border=\"1\" class=\"dataframe\">\n",
       "  <thead>\n",
       "    <tr style=\"text-align: right;\">\n",
       "      <th></th>\n",
       "      <th>path</th>\n",
       "      <th>primary_microconstituent</th>\n",
       "      <th>anneal_time</th>\n",
       "      <th>anneal_temperature</th>\n",
       "      <th>cool_method</th>\n",
       "      <th>time_temp</th>\n",
       "    </tr>\n",
       "  </thead>\n",
       "  <tbody>\n",
       "    <tr>\n",
       "      <th>0</th>\n",
       "      <td>micrograph1.tif</td>\n",
       "      <td>pearlite</td>\n",
       "      <td>Not Annealed</td>\n",
       "      <td>Not Annealed</td>\n",
       "      <td>None</td>\n",
       "      <td>(Not Annealed, Not Annealed)</td>\n",
       "    </tr>\n",
       "    <tr>\n",
       "      <th>1</th>\n",
       "      <td>micrograph2.tif</td>\n",
       "      <td>spheroidite</td>\n",
       "      <td>5100.0</td>\n",
       "      <td>1073.15</td>\n",
       "      <td>WQ</td>\n",
       "      <td>(5100.0, 1073.15)</td>\n",
       "    </tr>\n",
       "    <tr>\n",
       "      <th>2</th>\n",
       "      <td>micrograph4.tif</td>\n",
       "      <td>pearlite+spheroidite</td>\n",
       "      <td>90.0</td>\n",
       "      <td>1243.15</td>\n",
       "      <td>FC</td>\n",
       "      <td>(90.0, 1243.15)</td>\n",
       "    </tr>\n",
       "    <tr>\n",
       "      <th>3</th>\n",
       "      <td>micrograph5.tif</td>\n",
       "      <td>pearlite</td>\n",
       "      <td>5.0</td>\n",
       "      <td>1023.15</td>\n",
       "      <td>WQ</td>\n",
       "      <td>(5.0, 1023.15)</td>\n",
       "    </tr>\n",
       "    <tr>\n",
       "      <th>4</th>\n",
       "      <td>micrograph6.tif</td>\n",
       "      <td>spheroidite</td>\n",
       "      <td>90.0</td>\n",
       "      <td>1243.15</td>\n",
       "      <td>AR</td>\n",
       "      <td>(90.0, 1243.15)</td>\n",
       "    </tr>\n",
       "    <tr>\n",
       "      <th>...</th>\n",
       "      <td>...</td>\n",
       "      <td>...</td>\n",
       "      <td>...</td>\n",
       "      <td>...</td>\n",
       "      <td>...</td>\n",
       "      <td>...</td>\n",
       "    </tr>\n",
       "    <tr>\n",
       "      <th>798</th>\n",
       "      <td>micrograph1723.tif</td>\n",
       "      <td>martensite</td>\n",
       "      <td>Not Annealed</td>\n",
       "      <td>Not Annealed</td>\n",
       "      <td>None</td>\n",
       "      <td>(Not Annealed, Not Annealed)</td>\n",
       "    </tr>\n",
       "    <tr>\n",
       "      <th>799</th>\n",
       "      <td>micrograph1726.tif</td>\n",
       "      <td>spheroidite+widmanstatten</td>\n",
       "      <td>5.0</td>\n",
       "      <td>1243.15</td>\n",
       "      <td>FC</td>\n",
       "      <td>(5.0, 1243.15)</td>\n",
       "    </tr>\n",
       "    <tr>\n",
       "      <th>800</th>\n",
       "      <td>micrograph1730.png</td>\n",
       "      <td>spheroidite</td>\n",
       "      <td>90.0</td>\n",
       "      <td>1243.15</td>\n",
       "      <td>Q</td>\n",
       "      <td>(90.0, 1243.15)</td>\n",
       "    </tr>\n",
       "    <tr>\n",
       "      <th>801</th>\n",
       "      <td>micrograph1731.tif</td>\n",
       "      <td>pearlite</td>\n",
       "      <td>Not Annealed</td>\n",
       "      <td>Not Annealed</td>\n",
       "      <td>None</td>\n",
       "      <td>(Not Annealed, Not Annealed)</td>\n",
       "    </tr>\n",
       "    <tr>\n",
       "      <th>802</th>\n",
       "      <td>micrograph1732.tif</td>\n",
       "      <td>pearlite</td>\n",
       "      <td>5.0</td>\n",
       "      <td>973.15</td>\n",
       "      <td>WQ</td>\n",
       "      <td>(5.0, 973.15)</td>\n",
       "    </tr>\n",
       "  </tbody>\n",
       "</table>\n",
       "<p>803 rows × 6 columns</p>\n",
       "</div>"
      ],
      "text/plain": [
       "                   path   primary_microconstituent   anneal_time  \\\n",
       "0       micrograph1.tif                   pearlite  Not Annealed   \n",
       "1       micrograph2.tif                spheroidite        5100.0   \n",
       "2       micrograph4.tif       pearlite+spheroidite          90.0   \n",
       "3       micrograph5.tif                   pearlite           5.0   \n",
       "4       micrograph6.tif                spheroidite          90.0   \n",
       "..                  ...                        ...           ...   \n",
       "798  micrograph1723.tif                 martensite  Not Annealed   \n",
       "799  micrograph1726.tif  spheroidite+widmanstatten           5.0   \n",
       "800  micrograph1730.png                spheroidite          90.0   \n",
       "801  micrograph1731.tif                   pearlite  Not Annealed   \n",
       "802  micrograph1732.tif                   pearlite           5.0   \n",
       "\n",
       "    anneal_temperature cool_method                     time_temp  \n",
       "0         Not Annealed        None  (Not Annealed, Not Annealed)  \n",
       "1              1073.15          WQ             (5100.0, 1073.15)  \n",
       "2              1243.15          FC               (90.0, 1243.15)  \n",
       "3              1023.15          WQ                (5.0, 1023.15)  \n",
       "4              1243.15          AR               (90.0, 1243.15)  \n",
       "..                 ...         ...                           ...  \n",
       "798       Not Annealed        None  (Not Annealed, Not Annealed)  \n",
       "799            1243.15          FC                (5.0, 1243.15)  \n",
       "800            1243.15           Q               (90.0, 1243.15)  \n",
       "801       Not Annealed        None  (Not Annealed, Not Annealed)  \n",
       "802             973.15          WQ                 (5.0, 973.15)  \n",
       "\n",
       "[803 rows x 6 columns]"
      ]
     },
     "execution_count": 1240,
     "metadata": {},
     "output_type": "execute_result"
    }
   ],
   "source": [
    "new_df"
   ]
  },
  {
   "cell_type": "code",
   "execution_count": 1304,
   "id": "53ac27ac",
   "metadata": {},
   "outputs": [],
   "source": [
    "new_df['time_temp'] = new_df['anneal_time'] + ' , ' +new_df['anneal_temperature']"
   ]
  },
  {
   "cell_type": "code",
   "execution_count": 1303,
   "id": "4fb55735",
   "metadata": {},
   "outputs": [
    {
     "ename": "TypeError",
     "evalue": "can only concatenate tuple (not \"str\") to tuple",
     "output_type": "error",
     "traceback": [
      "\u001b[1;31m---------------------------------------------------------------------------\u001b[0m",
      "\u001b[1;31mTypeError\u001b[0m                                 Traceback (most recent call last)",
      "Cell \u001b[1;32mIn[1303], line 1\u001b[0m\n\u001b[1;32m----> 1\u001b[0m new_df[\u001b[38;5;124m'\u001b[39m\u001b[38;5;124mtime_temp_string\u001b[39m\u001b[38;5;124m'\u001b[39m] \u001b[38;5;241m=\u001b[39mnew_df[\u001b[38;5;124m'\u001b[39m\u001b[38;5;124mtime_temp\u001b[39m\u001b[38;5;124m'\u001b[39m][:][\u001b[38;5;241m0\u001b[39m] \u001b[38;5;241m+\u001b[39m \u001b[38;5;124m'\u001b[39m\u001b[38;5;124m,\u001b[39m\u001b[38;5;124m'\u001b[39m \u001b[38;5;241m+\u001b[39m new_df[\u001b[38;5;124m'\u001b[39m\u001b[38;5;124mtime_temp\u001b[39m\u001b[38;5;124m'\u001b[39m][:][\u001b[38;5;241m1\u001b[39m]\n",
      "\u001b[1;31mTypeError\u001b[0m: can only concatenate tuple (not \"str\") to tuple"
     ]
    }
   ],
   "source": [
    "\n",
    "new_df['time_temp_string'] =new_df['time_temp'][:][0] + ',' + new_df['time_temp'][:][1] "
   ]
  },
  {
   "cell_type": "code",
   "execution_count": 1305,
   "id": "f1d8dfac",
   "metadata": {},
   "outputs": [
    {
     "data": {
      "text/plain": [
       "0      Not Annealed , Not Annealed\n",
       "1                 5100.0 , 1073.15\n",
       "2                   90.0 , 1243.15\n",
       "3                    5.0 , 1023.15\n",
       "4                   90.0 , 1243.15\n",
       "                  ...             \n",
       "798    Not Annealed , Not Annealed\n",
       "799                  5.0 , 1243.15\n",
       "800                 90.0 , 1243.15\n",
       "801    Not Annealed , Not Annealed\n",
       "802                   5.0 , 973.15\n",
       "Name: time_temp, Length: 803, dtype: string"
      ]
     },
     "execution_count": 1305,
     "metadata": {},
     "output_type": "execute_result"
    }
   ],
   "source": [
    "new_df['time_temp']"
   ]
  },
  {
   "cell_type": "code",
   "execution_count": 1306,
   "id": "ad8a1a20",
   "metadata": {},
   "outputs": [],
   "source": [
    "time_temp = list(set(new_df['time_temp'].tolist()))"
   ]
  },
  {
   "cell_type": "code",
   "execution_count": 1406,
   "id": "25b89e8e",
   "metadata": {},
   "outputs": [
    {
     "data": {
      "text/plain": [
       "1243.15         344\n",
       "Not Annealed    205\n",
       "1073.15         149\n",
       "1173.15          60\n",
       "1373.15          16\n",
       "1273.15          14\n",
       "973.15           11\n",
       "1023.15           4\n",
       "Name: anneal_temperature, dtype: Int64"
      ]
     },
     "execution_count": 1406,
     "metadata": {},
     "output_type": "execute_result"
    }
   ],
   "source": [
    "new_df['anneal_temperature'].value_counts()"
   ]
  },
  {
   "cell_type": "code",
   "execution_count": 1022,
   "id": "f6b8a13b",
   "metadata": {
    "scrolled": true
   },
   "outputs": [
    {
     "name": "stderr",
     "output_type": "stream",
     "text": [
      "C:\\Users\\Owner\\AppData\\Local\\Temp\\ipykernel_22316\\781710086.py:3: SettingWithCopyWarning: \n",
      "A value is trying to be set on a copy of a slice from a DataFrame.\n",
      "Try using .loc[row_indexer,col_indexer] = value instead\n",
      "\n",
      "See the caveats in the documentation: https://pandas.pydata.org/pandas-docs/stable/user_guide/indexing.html#returning-a-view-versus-a-copy\n",
      "  new_df['primary_microconstituent']=new_df['primary_microconstituent'].apply(lambda x:x.split(\"+\"))\n"
     ]
    },
    {
     "data": {
      "text/plain": [
       "0                        [pearlite]\n",
       "1                     [spheroidite]\n",
       "2           [pearlite, spheroidite]\n",
       "3                        [pearlite]\n",
       "4                     [spheroidite]\n",
       "                   ...             \n",
       "798                    [martensite]\n",
       "799    [spheroidite, widmanstatten]\n",
       "800                   [spheroidite]\n",
       "801                      [pearlite]\n",
       "802                      [pearlite]\n",
       "Name: primary_microconstituent, Length: 803, dtype: object"
      ]
     },
     "execution_count": 1022,
     "metadata": {},
     "output_type": "execute_result"
    }
   ],
   "source": [
    "#pm =new_df['primary_microconstituent']=='spheroidite+widmanstatten'\n",
    "\n",
    "new_df['primary_microconstituent']=new_df['primary_microconstituent'].apply(lambda x:x.split(\"+\"))\n",
    "#new_df.loc[pm,'primary_microconstituent'] = ['spheroidite','widmanstatten']\n",
    "new_df['primary_microconstituent']"
   ]
  },
  {
   "cell_type": "code",
   "execution_count": 1374,
   "id": "abd05d8e",
   "metadata": {},
   "outputs": [],
   "source": [
    "temperature_classes = list(set(new_df['anneal_temperature'].values.tolist()))\n"
   ]
  },
  {
   "cell_type": "code",
   "execution_count": 1412,
   "id": "5434b7f3",
   "metadata": {},
   "outputs": [],
   "source": [
    "t_class_weights = [344/14,1,344/205,344/4,344/60,344/16,344/11,344/149]\n",
    "t_class_weights"
   ]
  },
  {
   "cell_type": "code",
   "execution_count": 1375,
   "id": "dacd341c",
   "metadata": {},
   "outputs": [
    {
     "data": {
      "text/plain": [
       "['1273.15',\n",
       " '1243.15',\n",
       " 'Not Annealed',\n",
       " '1023.15',\n",
       " '1173.15',\n",
       " '1373.15',\n",
       " '973.15',\n",
       " '1073.15']"
      ]
     },
     "execution_count": 1375,
     "metadata": {},
     "output_type": "execute_result"
    }
   ],
   "source": [
    "temperature_classes"
   ]
  },
  {
   "cell_type": "code",
   "execution_count": 1023,
   "id": "4dba40c1",
   "metadata": {},
   "outputs": [
    {
     "data": {
      "text/plain": [
       "{'martensite', 'network', 'pearlite', 'spheroidite', 'widmanstatten'}"
      ]
     },
     "execution_count": 1023,
     "metadata": {},
     "output_type": "execute_result"
    }
   ],
   "source": [
    "new_list = [element for list_ in new_df['primary_microconstituent'] for element in list_]\n",
    "set(new_list)"
   ]
  },
  {
   "cell_type": "code",
   "execution_count": 1083,
   "id": "3408cdbf",
   "metadata": {},
   "outputs": [
    {
     "data": {
      "text/plain": [
       "['widmanstatten', 'spheroidite', 'martensite', 'network', 'pearlite']"
      ]
     },
     "execution_count": 1083,
     "metadata": {},
     "output_type": "execute_result"
    }
   ],
   "source": [
    "new_class = list(set(new_list))\n",
    "new_class"
   ]
  },
  {
   "cell_type": "code",
   "execution_count": 794,
   "id": "5659e71d",
   "metadata": {},
   "outputs": [
    {
     "data": {
      "text/html": [
       "<div>\n",
       "<style scoped>\n",
       "    .dataframe tbody tr th:only-of-type {\n",
       "        vertical-align: middle;\n",
       "    }\n",
       "\n",
       "    .dataframe tbody tr th {\n",
       "        vertical-align: top;\n",
       "    }\n",
       "\n",
       "    .dataframe thead th {\n",
       "        text-align: right;\n",
       "    }\n",
       "</style>\n",
       "<table border=\"1\" class=\"dataframe\">\n",
       "  <thead>\n",
       "    <tr style=\"text-align: right;\">\n",
       "      <th></th>\n",
       "      <th>path</th>\n",
       "      <th>magnification_102x</th>\n",
       "      <th>magnification_11785x</th>\n",
       "      <th>magnification_1178X</th>\n",
       "      <th>magnification_118x</th>\n",
       "      <th>magnification_14731x</th>\n",
       "      <th>magnification_1473X</th>\n",
       "      <th>magnification_147x</th>\n",
       "      <th>magnification_19641X</th>\n",
       "      <th>magnification_19641x</th>\n",
       "      <th>...</th>\n",
       "      <th>anneal_temperature_1373.15</th>\n",
       "      <th>anneal_temperature_nan</th>\n",
       "      <th>cool_method_650-1H</th>\n",
       "      <th>cool_method_AR</th>\n",
       "      <th>cool_method_FC</th>\n",
       "      <th>cool_method_Q</th>\n",
       "      <th>cool_method_WC</th>\n",
       "      <th>cool_method_WQ</th>\n",
       "      <th>cool_method_WQ-2C</th>\n",
       "      <th>cool_method_nan</th>\n",
       "    </tr>\n",
       "  </thead>\n",
       "  <tbody>\n",
       "    <tr>\n",
       "      <th>0</th>\n",
       "      <td>micrograph1.tif</td>\n",
       "      <td>0</td>\n",
       "      <td>0</td>\n",
       "      <td>0</td>\n",
       "      <td>0</td>\n",
       "      <td>0</td>\n",
       "      <td>0</td>\n",
       "      <td>0</td>\n",
       "      <td>0</td>\n",
       "      <td>0</td>\n",
       "      <td>...</td>\n",
       "      <td>0</td>\n",
       "      <td>1</td>\n",
       "      <td>0</td>\n",
       "      <td>0</td>\n",
       "      <td>0</td>\n",
       "      <td>0</td>\n",
       "      <td>0</td>\n",
       "      <td>0</td>\n",
       "      <td>0</td>\n",
       "      <td>1</td>\n",
       "    </tr>\n",
       "    <tr>\n",
       "      <th>1</th>\n",
       "      <td>micrograph2.tif</td>\n",
       "      <td>0</td>\n",
       "      <td>0</td>\n",
       "      <td>0</td>\n",
       "      <td>0</td>\n",
       "      <td>0</td>\n",
       "      <td>0</td>\n",
       "      <td>0</td>\n",
       "      <td>0</td>\n",
       "      <td>0</td>\n",
       "      <td>...</td>\n",
       "      <td>0</td>\n",
       "      <td>0</td>\n",
       "      <td>0</td>\n",
       "      <td>0</td>\n",
       "      <td>0</td>\n",
       "      <td>0</td>\n",
       "      <td>0</td>\n",
       "      <td>1</td>\n",
       "      <td>0</td>\n",
       "      <td>0</td>\n",
       "    </tr>\n",
       "    <tr>\n",
       "      <th>2</th>\n",
       "      <td>micrograph4.tif</td>\n",
       "      <td>0</td>\n",
       "      <td>0</td>\n",
       "      <td>0</td>\n",
       "      <td>0</td>\n",
       "      <td>0</td>\n",
       "      <td>0</td>\n",
       "      <td>0</td>\n",
       "      <td>0</td>\n",
       "      <td>0</td>\n",
       "      <td>...</td>\n",
       "      <td>0</td>\n",
       "      <td>0</td>\n",
       "      <td>0</td>\n",
       "      <td>0</td>\n",
       "      <td>1</td>\n",
       "      <td>0</td>\n",
       "      <td>0</td>\n",
       "      <td>0</td>\n",
       "      <td>0</td>\n",
       "      <td>0</td>\n",
       "    </tr>\n",
       "    <tr>\n",
       "      <th>3</th>\n",
       "      <td>micrograph5.tif</td>\n",
       "      <td>0</td>\n",
       "      <td>0</td>\n",
       "      <td>0</td>\n",
       "      <td>0</td>\n",
       "      <td>0</td>\n",
       "      <td>0</td>\n",
       "      <td>0</td>\n",
       "      <td>0</td>\n",
       "      <td>0</td>\n",
       "      <td>...</td>\n",
       "      <td>0</td>\n",
       "      <td>0</td>\n",
       "      <td>0</td>\n",
       "      <td>0</td>\n",
       "      <td>0</td>\n",
       "      <td>0</td>\n",
       "      <td>0</td>\n",
       "      <td>1</td>\n",
       "      <td>0</td>\n",
       "      <td>0</td>\n",
       "    </tr>\n",
       "    <tr>\n",
       "      <th>4</th>\n",
       "      <td>micrograph6.tif</td>\n",
       "      <td>0</td>\n",
       "      <td>0</td>\n",
       "      <td>1</td>\n",
       "      <td>0</td>\n",
       "      <td>0</td>\n",
       "      <td>0</td>\n",
       "      <td>0</td>\n",
       "      <td>0</td>\n",
       "      <td>0</td>\n",
       "      <td>...</td>\n",
       "      <td>0</td>\n",
       "      <td>0</td>\n",
       "      <td>0</td>\n",
       "      <td>1</td>\n",
       "      <td>0</td>\n",
       "      <td>0</td>\n",
       "      <td>0</td>\n",
       "      <td>0</td>\n",
       "      <td>0</td>\n",
       "      <td>0</td>\n",
       "    </tr>\n",
       "    <tr>\n",
       "      <th>...</th>\n",
       "      <td>...</td>\n",
       "      <td>...</td>\n",
       "      <td>...</td>\n",
       "      <td>...</td>\n",
       "      <td>...</td>\n",
       "      <td>...</td>\n",
       "      <td>...</td>\n",
       "      <td>...</td>\n",
       "      <td>...</td>\n",
       "      <td>...</td>\n",
       "      <td>...</td>\n",
       "      <td>...</td>\n",
       "      <td>...</td>\n",
       "      <td>...</td>\n",
       "      <td>...</td>\n",
       "      <td>...</td>\n",
       "      <td>...</td>\n",
       "      <td>...</td>\n",
       "      <td>...</td>\n",
       "      <td>...</td>\n",
       "      <td>...</td>\n",
       "    </tr>\n",
       "    <tr>\n",
       "      <th>798</th>\n",
       "      <td>micrograph1723.tif</td>\n",
       "      <td>0</td>\n",
       "      <td>0</td>\n",
       "      <td>0</td>\n",
       "      <td>0</td>\n",
       "      <td>0</td>\n",
       "      <td>0</td>\n",
       "      <td>0</td>\n",
       "      <td>0</td>\n",
       "      <td>0</td>\n",
       "      <td>...</td>\n",
       "      <td>0</td>\n",
       "      <td>1</td>\n",
       "      <td>0</td>\n",
       "      <td>0</td>\n",
       "      <td>0</td>\n",
       "      <td>0</td>\n",
       "      <td>0</td>\n",
       "      <td>0</td>\n",
       "      <td>0</td>\n",
       "      <td>1</td>\n",
       "    </tr>\n",
       "    <tr>\n",
       "      <th>799</th>\n",
       "      <td>micrograph1726.tif</td>\n",
       "      <td>0</td>\n",
       "      <td>0</td>\n",
       "      <td>0</td>\n",
       "      <td>0</td>\n",
       "      <td>0</td>\n",
       "      <td>0</td>\n",
       "      <td>0</td>\n",
       "      <td>0</td>\n",
       "      <td>0</td>\n",
       "      <td>...</td>\n",
       "      <td>0</td>\n",
       "      <td>0</td>\n",
       "      <td>0</td>\n",
       "      <td>0</td>\n",
       "      <td>1</td>\n",
       "      <td>0</td>\n",
       "      <td>0</td>\n",
       "      <td>0</td>\n",
       "      <td>0</td>\n",
       "      <td>0</td>\n",
       "    </tr>\n",
       "    <tr>\n",
       "      <th>800</th>\n",
       "      <td>micrograph1730.png</td>\n",
       "      <td>0</td>\n",
       "      <td>0</td>\n",
       "      <td>0</td>\n",
       "      <td>0</td>\n",
       "      <td>0</td>\n",
       "      <td>0</td>\n",
       "      <td>0</td>\n",
       "      <td>0</td>\n",
       "      <td>0</td>\n",
       "      <td>...</td>\n",
       "      <td>0</td>\n",
       "      <td>0</td>\n",
       "      <td>0</td>\n",
       "      <td>0</td>\n",
       "      <td>0</td>\n",
       "      <td>1</td>\n",
       "      <td>0</td>\n",
       "      <td>0</td>\n",
       "      <td>0</td>\n",
       "      <td>0</td>\n",
       "    </tr>\n",
       "    <tr>\n",
       "      <th>801</th>\n",
       "      <td>micrograph1731.tif</td>\n",
       "      <td>0</td>\n",
       "      <td>0</td>\n",
       "      <td>0</td>\n",
       "      <td>0</td>\n",
       "      <td>0</td>\n",
       "      <td>0</td>\n",
       "      <td>0</td>\n",
       "      <td>0</td>\n",
       "      <td>0</td>\n",
       "      <td>...</td>\n",
       "      <td>0</td>\n",
       "      <td>1</td>\n",
       "      <td>0</td>\n",
       "      <td>0</td>\n",
       "      <td>0</td>\n",
       "      <td>0</td>\n",
       "      <td>0</td>\n",
       "      <td>0</td>\n",
       "      <td>0</td>\n",
       "      <td>1</td>\n",
       "    </tr>\n",
       "    <tr>\n",
       "      <th>802</th>\n",
       "      <td>micrograph1732.tif</td>\n",
       "      <td>0</td>\n",
       "      <td>0</td>\n",
       "      <td>0</td>\n",
       "      <td>0</td>\n",
       "      <td>0</td>\n",
       "      <td>0</td>\n",
       "      <td>0</td>\n",
       "      <td>0</td>\n",
       "      <td>0</td>\n",
       "      <td>...</td>\n",
       "      <td>0</td>\n",
       "      <td>0</td>\n",
       "      <td>0</td>\n",
       "      <td>0</td>\n",
       "      <td>0</td>\n",
       "      <td>0</td>\n",
       "      <td>0</td>\n",
       "      <td>1</td>\n",
       "      <td>0</td>\n",
       "      <td>0</td>\n",
       "    </tr>\n",
       "  </tbody>\n",
       "</table>\n",
       "<p>803 rows × 75 columns</p>\n",
       "</div>"
      ],
      "text/plain": [
       "                   path  magnification_102x  magnification_11785x  \\\n",
       "0       micrograph1.tif                   0                     0   \n",
       "1       micrograph2.tif                   0                     0   \n",
       "2       micrograph4.tif                   0                     0   \n",
       "3       micrograph5.tif                   0                     0   \n",
       "4       micrograph6.tif                   0                     0   \n",
       "..                  ...                 ...                   ...   \n",
       "798  micrograph1723.tif                   0                     0   \n",
       "799  micrograph1726.tif                   0                     0   \n",
       "800  micrograph1730.png                   0                     0   \n",
       "801  micrograph1731.tif                   0                     0   \n",
       "802  micrograph1732.tif                   0                     0   \n",
       "\n",
       "     magnification_1178X  magnification_118x  magnification_14731x  \\\n",
       "0                      0                   0                     0   \n",
       "1                      0                   0                     0   \n",
       "2                      0                   0                     0   \n",
       "3                      0                   0                     0   \n",
       "4                      1                   0                     0   \n",
       "..                   ...                 ...                   ...   \n",
       "798                    0                   0                     0   \n",
       "799                    0                   0                     0   \n",
       "800                    0                   0                     0   \n",
       "801                    0                   0                     0   \n",
       "802                    0                   0                     0   \n",
       "\n",
       "     magnification_1473X  magnification_147x  magnification_19641X  \\\n",
       "0                      0                   0                     0   \n",
       "1                      0                   0                     0   \n",
       "2                      0                   0                     0   \n",
       "3                      0                   0                     0   \n",
       "4                      0                   0                     0   \n",
       "..                   ...                 ...                   ...   \n",
       "798                    0                   0                     0   \n",
       "799                    0                   0                     0   \n",
       "800                    0                   0                     0   \n",
       "801                    0                   0                     0   \n",
       "802                    0                   0                     0   \n",
       "\n",
       "     magnification_19641x  ...  anneal_temperature_1373.15  \\\n",
       "0                       0  ...                           0   \n",
       "1                       0  ...                           0   \n",
       "2                       0  ...                           0   \n",
       "3                       0  ...                           0   \n",
       "4                       0  ...                           0   \n",
       "..                    ...  ...                         ...   \n",
       "798                     0  ...                           0   \n",
       "799                     0  ...                           0   \n",
       "800                     0  ...                           0   \n",
       "801                     0  ...                           0   \n",
       "802                     0  ...                           0   \n",
       "\n",
       "     anneal_temperature_nan  cool_method_650-1H  cool_method_AR  \\\n",
       "0                         1                   0               0   \n",
       "1                         0                   0               0   \n",
       "2                         0                   0               0   \n",
       "3                         0                   0               0   \n",
       "4                         0                   0               1   \n",
       "..                      ...                 ...             ...   \n",
       "798                       1                   0               0   \n",
       "799                       0                   0               0   \n",
       "800                       0                   0               0   \n",
       "801                       1                   0               0   \n",
       "802                       0                   0               0   \n",
       "\n",
       "     cool_method_FC  cool_method_Q  cool_method_WC  cool_method_WQ  \\\n",
       "0                 0              0               0               0   \n",
       "1                 0              0               0               1   \n",
       "2                 1              0               0               0   \n",
       "3                 0              0               0               1   \n",
       "4                 0              0               0               0   \n",
       "..              ...            ...             ...             ...   \n",
       "798               0              0               0               0   \n",
       "799               1              0               0               0   \n",
       "800               0              1               0               0   \n",
       "801               0              0               0               0   \n",
       "802               0              0               0               1   \n",
       "\n",
       "     cool_method_WQ-2C  cool_method_nan  \n",
       "0                    0                1  \n",
       "1                    0                0  \n",
       "2                    0                0  \n",
       "3                    0                0  \n",
       "4                    0                0  \n",
       "..                 ...              ...  \n",
       "798                  0                1  \n",
       "799                  0                0  \n",
       "800                  0                0  \n",
       "801                  0                1  \n",
       "802                  0                0  \n",
       "\n",
       "[803 rows x 75 columns]"
      ]
     },
     "execution_count": 794,
     "metadata": {},
     "output_type": "execute_result"
    }
   ],
   "source": [
    "ohe_main_micrographs\n"
   ]
  },
  {
   "cell_type": "code",
   "execution_count": 1127,
   "id": "d31a41cc",
   "metadata": {},
   "outputs": [
    {
     "data": {
      "text/plain": [
       "['cool_method_650-1H',\n",
       " 'cool_method_AR',\n",
       " 'cool_method_FC',\n",
       " 'cool_method_Q',\n",
       " 'cool_method_WC',\n",
       " 'cool_method_WQ',\n",
       " 'cool_method_WQ-2C',\n",
       " 'cool_method_nan']"
      ]
     },
     "execution_count": 1127,
     "metadata": {},
     "output_type": "execute_result"
    }
   ],
   "source": [
    "y_cols =list (ohe_main_micrographs.columns[42:])\n",
    "\n",
    "P_M_cols = list (ohe_main_micrographs.columns[42:50])\n",
    "Temp_cols = list (ohe_main_micrographs.columns[59:67])\n",
    "cool_cols =list (ohe_main_micrographs.columns[67:75])\n",
    "cool_cols\n",
    "\n"
   ]
  },
  {
   "cell_type": "code",
   "execution_count": 830,
   "id": "8fd7b97b",
   "metadata": {},
   "outputs": [
    {
     "data": {
      "text/plain": [
       "33"
      ]
     },
     "execution_count": 830,
     "metadata": {},
     "output_type": "execute_result"
    }
   ],
   "source": [
    "len(y_cols)"
   ]
  },
  {
   "cell_type": "code",
   "execution_count": 1031,
   "id": "d6381a91",
   "metadata": {},
   "outputs": [],
   "source": [
    "y_cols\n",
    "P_M_cols\n",
    "Temp_cols\n",
    "time_temp_cols = ['anneal_time', 'anneal_temperature']"
   ]
  },
  {
   "cell_type": "code",
   "execution_count": null,
   "id": "3c9738e6",
   "metadata": {},
   "outputs": [],
   "source": []
  },
  {
   "cell_type": "markdown",
   "id": "65215a16",
   "metadata": {},
   "source": [
    "# New Plan for Model"
   ]
  },
  {
   "cell_type": "code",
   "execution_count": null,
   "id": "9cf1f406",
   "metadata": {},
   "outputs": [],
   "source": []
  },
  {
   "cell_type": "code",
   "execution_count": 1,
   "id": "312e570d",
   "metadata": {},
   "outputs": [],
   "source": [
    "##  Construction plan 1\n",
    "\n",
    "#sklearn for (train/validation) - test split using stident split\n",
    "\n",
    "######(any for loop/ reinstatiation of training/validation sets)\n",
    "# use sklearn for training/validation split\n",
    "\n",
    "#imagedatageneator for rescaling & (possible cropping) of data\n",
    "\n",
    "#preproccessing  layers in model for cropping and data augmentation.\n",
    "\n",
    "# better model evaluation set up (altair if im feeling fancy)\n",
    "\n",
    "\n"
   ]
  },
  {
   "cell_type": "markdown",
   "id": "7b0325f5",
   "metadata": {},
   "source": [
    "# Image processing, tensorflow/keras stuff\n"
   ]
  },
  {
   "cell_type": "code",
   "execution_count": 202,
   "id": "fd763530",
   "metadata": {},
   "outputs": [],
   "source": [
    "from tensorflow.keras.models import Sequential\n",
    "from tensorflow.keras.preprocessing.image import ImageDataGenerator\n",
    "\n",
    "\n",
    "from tensorflow.keras.callbacks import EarlyStopping\n",
    "from tensorflow.keras import layers\n",
    "#from tensorflow.keras.optimizers.legacy import Adam"
   ]
  },
  {
   "cell_type": "code",
   "execution_count": 1486,
   "id": "6bd770c5",
   "metadata": {},
   "outputs": [],
   "source": [
    "\n",
    "\n",
    "data_generator = ImageDataGenerator(rescale = 1./255, \n",
    "                                    zoom_range = 0.1, \n",
    "                                    rotation_range = 25, \n",
    "                                    width_shift_range = 0.2,\n",
    "                                    validation_split  = 0.04,\n",
    "                                    height_shift_range = 0.2)\n",
    "\n",
    "validation_generator = ImageDataGenerator(rescale = 1./255, \n",
    "                                          validation_split = .04)\n",
    "\n",
    "DIRECTORY = \"micrographs\"\n",
    "CLASS_MODE = 'categorical'\n",
    "COLOR_MODE = 'rbg'\n",
    "TARGET_SIZE = (645,522)\n",
    "BATCH_SIZE = 32\n",
    "\n",
    "df_dir = 'micrographs'\n",
    "DATAFRAME =  new_df#ohe_main_micrographs\n",
    "XCOL =  'path'\n",
    "YCOL = ['anneal_temperature']"
   ]
  },
  {
   "cell_type": "code",
   "execution_count": 1241,
   "id": "c53fab95",
   "metadata": {},
   "outputs": [
    {
     "data": {
      "text/html": [
       "<div>\n",
       "<style scoped>\n",
       "    .dataframe tbody tr th:only-of-type {\n",
       "        vertical-align: middle;\n",
       "    }\n",
       "\n",
       "    .dataframe tbody tr th {\n",
       "        vertical-align: top;\n",
       "    }\n",
       "\n",
       "    .dataframe thead th {\n",
       "        text-align: right;\n",
       "    }\n",
       "</style>\n",
       "<table border=\"1\" class=\"dataframe\">\n",
       "  <thead>\n",
       "    <tr style=\"text-align: right;\">\n",
       "      <th></th>\n",
       "      <th>path</th>\n",
       "      <th>primary_microconstituent</th>\n",
       "      <th>anneal_time</th>\n",
       "      <th>anneal_temperature</th>\n",
       "      <th>cool_method</th>\n",
       "      <th>time_temp</th>\n",
       "    </tr>\n",
       "  </thead>\n",
       "  <tbody>\n",
       "    <tr>\n",
       "      <th>0</th>\n",
       "      <td>micrograph1.tif</td>\n",
       "      <td>pearlite</td>\n",
       "      <td>Not Annealed</td>\n",
       "      <td>Not Annealed</td>\n",
       "      <td>None</td>\n",
       "      <td>(Not Annealed, Not Annealed)</td>\n",
       "    </tr>\n",
       "    <tr>\n",
       "      <th>1</th>\n",
       "      <td>micrograph2.tif</td>\n",
       "      <td>spheroidite</td>\n",
       "      <td>5100.0</td>\n",
       "      <td>1073.15</td>\n",
       "      <td>WQ</td>\n",
       "      <td>(5100.0, 1073.15)</td>\n",
       "    </tr>\n",
       "    <tr>\n",
       "      <th>2</th>\n",
       "      <td>micrograph4.tif</td>\n",
       "      <td>pearlite+spheroidite</td>\n",
       "      <td>90.0</td>\n",
       "      <td>1243.15</td>\n",
       "      <td>FC</td>\n",
       "      <td>(90.0, 1243.15)</td>\n",
       "    </tr>\n",
       "    <tr>\n",
       "      <th>3</th>\n",
       "      <td>micrograph5.tif</td>\n",
       "      <td>pearlite</td>\n",
       "      <td>5.0</td>\n",
       "      <td>1023.15</td>\n",
       "      <td>WQ</td>\n",
       "      <td>(5.0, 1023.15)</td>\n",
       "    </tr>\n",
       "    <tr>\n",
       "      <th>4</th>\n",
       "      <td>micrograph6.tif</td>\n",
       "      <td>spheroidite</td>\n",
       "      <td>90.0</td>\n",
       "      <td>1243.15</td>\n",
       "      <td>AR</td>\n",
       "      <td>(90.0, 1243.15)</td>\n",
       "    </tr>\n",
       "  </tbody>\n",
       "</table>\n",
       "</div>"
      ],
      "text/plain": [
       "              path primary_microconstituent   anneal_time anneal_temperature  \\\n",
       "0  micrograph1.tif                 pearlite  Not Annealed       Not Annealed   \n",
       "1  micrograph2.tif              spheroidite        5100.0            1073.15   \n",
       "2  micrograph4.tif     pearlite+spheroidite          90.0            1243.15   \n",
       "3  micrograph5.tif                 pearlite           5.0            1023.15   \n",
       "4  micrograph6.tif              spheroidite          90.0            1243.15   \n",
       "\n",
       "  cool_method                     time_temp  \n",
       "0        None  (Not Annealed, Not Annealed)  \n",
       "1          WQ             (5100.0, 1073.15)  \n",
       "2          FC               (90.0, 1243.15)  \n",
       "3          WQ                (5.0, 1023.15)  \n",
       "4          AR               (90.0, 1243.15)  "
      ]
     },
     "execution_count": 1241,
     "metadata": {},
     "output_type": "execute_result"
    }
   ],
   "source": [
    "new_df.head()"
   ]
  },
  {
   "cell_type": "code",
   "execution_count": 1487,
   "id": "3215445a",
   "metadata": {},
   "outputs": [
    {
     "name": "stdout",
     "output_type": "stream",
     "text": [
      "Found 771 validated image filenames belonging to 8 classes.\n",
      "Found 32 validated image filenames belonging to 8 classes.\n"
     ]
    }
   ],
   "source": [
    "df_train_it = data_generator.flow_from_dataframe(dataframe = DATAFRAME,\n",
    "                                                directory = df_dir,\n",
    "                                                x_col = XCOL,\n",
    "                                                y_col = 'anneal_temperature',\n",
    "                                                class_mode = 'categorical',\n",
    "                                                classes = temperature_classes,\n",
    "                                                suffle = True,\n",
    "                                                subset = 'training',\n",
    "                                                target_size = TARGET_SIZE,\n",
    "                                                sample_weights = t_class_weights,\n",
    "                                                batch_size = BATCH_SIZE)\n",
    "\n",
    "df_valid_it = validation_generator.flow_from_dataframe(dataframe = DATAFRAME,\n",
    "                                                directory = df_dir,\n",
    "                                                x_col = XCOL,\n",
    "                                                y_col = 'anneal_temperature',\n",
    "                                                class_mode = 'categorical',\n",
    "                                                classes = temperature_classes,\n",
    "                                                shuffle = True,\n",
    "                                                subset = 'validation',\n",
    "                                                sample_weights = t_class_weights,\n",
    "                                                target_size = TARGET_SIZE,\n",
    "                                                batch_size = BATCH_SIZE)"
   ]
  },
  {
   "cell_type": "code",
   "execution_count": 1557,
   "id": "fefeb800",
   "metadata": {},
   "outputs": [],
   "source": [
    "    rd.randint(low = 1, high = 7)\n",
    "cat_acc_history = cat_acc_history[-25:-1]\n",
    "val_cat_history = val_cat_history[-25:-1]\n"
   ]
  },
  {
   "cell_type": "code",
   "execution_count": 1554,
   "id": "a4723b75",
   "metadata": {},
   "outputs": [],
   "source": [
    "def model_builder(training_data):\n",
    "    model = Sequential()\n",
    "    \n",
    "    #model.add(tf.keras.Input(shape=(522,645,3)))\n",
    "    #model.add(tf.keras.layers.CenterCrop(256, 256))\n",
    "    \n",
    "    '''\n",
    "\n",
    "    model.add(layers.Conv2D(32,5, strides = 3, padding = 'same', activation = 'relu'))\n",
    "    \n",
    "    #maxpool layer\n",
    "    model.add(layers.MaxPooling2D(pool_size = (2,2), strides = (2,2)))\n",
    "    \n",
    "    #dropout layer\n",
    "    model.add(layers.Dropout(0.1))\n",
    "    \n",
    "    #second convultion layer\n",
    "    model.add(layers.Conv2D(32,3, strides =1 , padding = 'same',activation = 'relu'))\n",
    "    \n",
    "    #second max pool and dropout layers\n",
    "    \n",
    "    model.add(layers.MaxPooling2D(pool_size = (2,2), strides = (2,2)))\n",
    "    \n",
    "    #dropout layer\n",
    "    model.add(layers.Dropout(0.2))\n",
    "\n",
    "    '''\n",
    "    \n",
    "    \n",
    "    \n",
    "    #model.add(xception)\n",
    "    \n",
    "    model.add(inception)\n",
    "    \n",
    "    #model.add(resnet50)\n",
    "    \n",
    "    model.add(layers.Flatten())\n",
    "\n",
    "    model.add(layers.Dense(500, activation = 'sigmoid'))\n",
    "    \n",
    "    model.add(layers.Dropout(0.3))\n",
    "\n",
    "    model.add(layers.Dense(8, activation = 'softmax'))\n",
    "    \n",
    "    model.compile(optimizer = tf.keras.optimizers.SGD(learning_rate = .001),\n",
    "                 loss = tf.keras.losses.CategoricalCrossentropy(),\n",
    "                 metrics = tf.keras.metrics.CategoricalAccuracy() #,tf.keras.metrics.AUC()]\n",
    "                 )\n",
    "    \n",
    "    model.summary()\n",
    "    return model\n",
    "    \n",
    "    "
   ]
  },
  {
   "cell_type": "code",
   "execution_count": 1343,
   "id": "50822bf2",
   "metadata": {
    "scrolled": true
   },
   "outputs": [
    {
     "name": "stdout",
     "output_type": "stream",
     "text": [
      "Downloading data from https://storage.googleapis.com/tensorflow/keras-applications/resnet/resnet50_weights_tf_dim_ordering_tf_kernels.h5\n",
      "102967424/102967424 [==============================] - 4s 0us/step\n"
     ]
    }
   ],
   "source": [
    "xception =tf.keras.applications.Xception(\n",
    "    include_top=True,\n",
    "    weights=\"imagenet\",\n",
    "    input_tensor=None,\n",
    "    input_shape=None,\n",
    "    pooling=None,\n",
    "    classes=1000,\n",
    "    classifier_activation=\"softmax\",\n",
    ")\n",
    "\n",
    "resnet50 = tf.keras.applications.ResNet50(\n",
    "    include_top=True,\n",
    "    weights=\"imagenet\",\n",
    "    input_tensor=None,\n",
    "    input_shape=None,\n",
    "    pooling=None,\n",
    "    classes=1000\n",
    ")\n"
   ]
  },
  {
   "cell_type": "code",
   "execution_count": 1555,
   "id": "2c03f31d",
   "metadata": {
    "scrolled": true
   },
   "outputs": [
    {
     "name": "stdout",
     "output_type": "stream",
     "text": [
      "Model: \"sequential_197\"\n",
      "_________________________________________________________________\n",
      " Layer (type)                Output Shape              Param #   \n",
      "=================================================================\n",
      " center_crop_70 (CenterCrop  (None, 256, 256, 3)       0         \n",
      " )                                                               \n",
      "                                                                 \n",
      " inception_v3 (Functional)   (None, 6, 6, 2048)        21802784  \n",
      "                                                                 \n",
      " flatten_180 (Flatten)       (None, 73728)             0         \n",
      "                                                                 \n",
      " dense_450 (Dense)           (None, 500)               36864500  \n",
      "                                                                 \n",
      " dropout_410 (Dropout)       (None, 500)               0         \n",
      "                                                                 \n",
      " dense_451 (Dense)           (None, 8)                 4008      \n",
      "                                                                 \n",
      "=================================================================\n",
      "Total params: 58671292 (223.81 MB)\n",
      "Trainable params: 36868508 (140.64 MB)\n",
      "Non-trainable params: 21802784 (83.17 MB)\n",
      "_________________________________________________________________\n"
     ]
    }
   ],
   "source": [
    "model_df = model_builder(df_train_it)"
   ]
  },
  {
   "cell_type": "code",
   "execution_count": 1345,
   "id": "5b2e565d",
   "metadata": {},
   "outputs": [],
   "source": [
    "for layer in xception.layers:\n",
    "    layer.trainable = False\n",
    "    \n",
    "for layer in resnet50.layers:\n",
    "    layer.trainable = False"
   ]
  },
  {
   "cell_type": "code",
   "execution_count": 1559,
   "id": "9d0a99d0",
   "metadata": {},
   "outputs": [
    {
     "name": "stdout",
     "output_type": "stream",
     "text": [
      "Loop:  1\n",
      "m:  4\n",
      "Found 675 validated image filenames belonging to 8 classes.\n",
      "Found 128 validated image filenames belonging to 8 classes.\n",
      "Epoch 1/5\n",
      "21/21 [==============================] - 69s 3s/step - loss: 0.8203 - categorical_accuracy: 0.7170 - val_loss: 1.0432 - val_categorical_accuracy: 0.6875\n",
      "Epoch 2/5\n",
      "21/21 [==============================] - 63s 3s/step - loss: 0.8025 - categorical_accuracy: 0.7393 - val_loss: 1.0387 - val_categorical_accuracy: 0.6875\n",
      "Epoch 3/5\n",
      "21/21 [==============================] - 66s 3s/step - loss: 0.8182 - categorical_accuracy: 0.7244 - val_loss: 1.0333 - val_categorical_accuracy: 0.6875\n",
      "Epoch 4/5\n",
      "21/21 [==============================] - 66s 3s/step - loss: 0.7697 - categorical_accuracy: 0.7452 - val_loss: 1.0098 - val_categorical_accuracy: 0.6875\n",
      "Epoch 5/5\n",
      "21/21 [==============================] - 50s 2s/step - loss: 0.7852 - categorical_accuracy: 0.7289 - val_loss: 1.0378 - val_categorical_accuracy: 0.6719\n",
      "Loop:  2\n",
      "m:  4\n",
      "Found 675 validated image filenames belonging to 8 classes.\n",
      "Found 128 validated image filenames belonging to 8 classes.\n",
      "Epoch 1/5\n",
      "21/21 [==============================] - 38s 2s/step - loss: 0.8010 - categorical_accuracy: 0.7200 - val_loss: 1.0195 - val_categorical_accuracy: 0.6875\n",
      "Epoch 2/5\n",
      "21/21 [==============================] - 38s 2s/step - loss: 0.7771 - categorical_accuracy: 0.7422 - val_loss: 1.0009 - val_categorical_accuracy: 0.6875\n",
      "Epoch 3/5\n",
      "21/21 [==============================] - 38s 2s/step - loss: 0.7455 - categorical_accuracy: 0.7422 - val_loss: 0.9975 - val_categorical_accuracy: 0.6875\n",
      "Epoch 4/5\n",
      "21/21 [==============================] - 38s 2s/step - loss: 0.7574 - categorical_accuracy: 0.7600 - val_loss: 1.0162 - val_categorical_accuracy: 0.6953\n",
      "Epoch 5/5\n",
      "21/21 [==============================] - 38s 2s/step - loss: 0.7798 - categorical_accuracy: 0.7126 - val_loss: 0.9945 - val_categorical_accuracy: 0.6875\n",
      "Loop:  3\n",
      "m:  3\n",
      "Found 707 validated image filenames belonging to 8 classes.\n",
      "Found 96 validated image filenames belonging to 8 classes.\n",
      "Epoch 1/5\n",
      "22/22 [==============================] - 39s 2s/step - loss: 0.7975 - categorical_accuracy: 0.7341 - val_loss: 0.9044 - val_categorical_accuracy: 0.7083\n",
      "Epoch 2/5\n",
      "22/22 [==============================] - 55s 3s/step - loss: 0.7774 - categorical_accuracy: 0.7468 - val_loss: 0.8996 - val_categorical_accuracy: 0.7292\n",
      "Epoch 3/5\n",
      "22/22 [==============================] - 64s 3s/step - loss: 0.7918 - categorical_accuracy: 0.7298 - val_loss: 0.8973 - val_categorical_accuracy: 0.7188\n",
      "Epoch 4/5\n",
      "22/22 [==============================] - 67s 3s/step - loss: 0.7484 - categorical_accuracy: 0.7412 - val_loss: 0.8842 - val_categorical_accuracy: 0.7188\n",
      "Epoch 5/5\n",
      "22/22 [==============================] - 68s 3s/step - loss: 0.7873 - categorical_accuracy: 0.7270 - val_loss: 0.8879 - val_categorical_accuracy: 0.7188\n",
      "Loop:  4\n",
      "m:  4\n",
      "Found 675 validated image filenames belonging to 8 classes.\n",
      "Found 128 validated image filenames belonging to 8 classes.\n",
      "Epoch 1/5\n",
      "21/21 [==============================] - 64s 3s/step - loss: 0.7173 - categorical_accuracy: 0.7615 - val_loss: 0.9561 - val_categorical_accuracy: 0.6953\n",
      "Epoch 2/5\n",
      "21/21 [==============================] - 68s 3s/step - loss: 0.7043 - categorical_accuracy: 0.7600 - val_loss: 0.9734 - val_categorical_accuracy: 0.7031\n",
      "Epoch 3/5\n",
      "21/21 [==============================] - 64s 3s/step - loss: 0.7579 - categorical_accuracy: 0.7274 - val_loss: 0.9565 - val_categorical_accuracy: 0.7031\n",
      "Epoch 4/5\n",
      "21/21 [==============================] - 67s 3s/step - loss: 0.7100 - categorical_accuracy: 0.7481 - val_loss: 0.9609 - val_categorical_accuracy: 0.7266\n",
      "Epoch 5/5\n",
      "21/21 [==============================] - 67s 3s/step - loss: 0.7073 - categorical_accuracy: 0.7496 - val_loss: 0.9684 - val_categorical_accuracy: 0.7344\n",
      "Loop:  5\n",
      "m:  3\n",
      "Found 707 validated image filenames belonging to 8 classes.\n",
      "Found 96 validated image filenames belonging to 8 classes.\n",
      "Epoch 1/5\n",
      "22/22 [==============================] - 66s 3s/step - loss: 0.7228 - categorical_accuracy: 0.7666 - val_loss: 0.8762 - val_categorical_accuracy: 0.6979\n",
      "Epoch 2/5\n",
      "22/22 [==============================] - 69s 3s/step - loss: 0.7253 - categorical_accuracy: 0.7595 - val_loss: 0.8831 - val_categorical_accuracy: 0.7292\n",
      "Epoch 3/5\n",
      "22/22 [==============================] - 69s 3s/step - loss: 0.6953 - categorical_accuracy: 0.7652 - val_loss: 0.9100 - val_categorical_accuracy: 0.7083\n",
      "Epoch 4/5\n",
      "22/22 [==============================] - 65s 3s/step - loss: 0.7303 - categorical_accuracy: 0.7539 - val_loss: 0.8691 - val_categorical_accuracy: 0.7188\n",
      "Epoch 5/5\n",
      "22/22 [==============================] - 69s 3s/step - loss: 0.7404 - categorical_accuracy: 0.7383 - val_loss: 0.8754 - val_categorical_accuracy: 0.7188\n"
     ]
    },
    {
     "data": {
      "text/plain": [
       "<function matplotlib.pyplot.show(close=None, block=None)>"
      ]
     },
     "execution_count": 1559,
     "metadata": {},
     "output_type": "execute_result"
    },
    {
     "data": {
      "image/png": "[encoded data removed]",
      "text/plain": [
       "<Figure size 640x480 with 1 Axes>"
      ]
     },
     "metadata": {},
     "output_type": "display_data"
    }
   ],
   "source": [
    "                         \n",
    "#cat_acc_history = []\n",
    "#val_cat_history = []\n",
    "\n",
    "\n",
    "for i in range(5):\n",
    "    \n",
    "    m = rd.randint( low = 3, high = 7)\n",
    "    \n",
    "    print('Loop: ',i+1)\n",
    "    print('m: ', m)\n",
    "    data_generator = ImageDataGenerator(rescale = 1./255, \n",
    "                                        zoom_range = 0.1, \n",
    "                                        rotation_range = 25, \n",
    "                                        width_shift_range = 0.2,\n",
    "                                        validation_split  = m*0.04,\n",
    "                                        height_shift_range = 0.2)\n",
    "\n",
    "    validation_generator = ImageDataGenerator(rescale = 1./255, \n",
    "                                              validation_split = m*.04)\n",
    "\n",
    "    DIRECTORY = \"micrographs\"\n",
    "    CLASS_MODE = 'categorical'\n",
    "    COLOR_MODE = 'rbg'\n",
    "    TARGET_SIZE = (645,522)\n",
    "    BATCH_SIZE = 32\n",
    "\n",
    "    df_dir = 'micrographs'\n",
    "    DATAFRAME =  new_df#ohe_main_micrographs\n",
    "    XCOL =  'path'\n",
    "    YCOL = ['anneal_temperature']\n",
    "\n",
    "\n",
    "    df_train_it = data_generator.flow_from_dataframe(dataframe = DATAFRAME,\n",
    "                                                    directory = df_dir,\n",
    "                                                    x_col = XCOL,\n",
    "                                                    y_col = 'anneal_temperature',\n",
    "                                                    class_mode = 'categorical',\n",
    "                                                    classes = temperature_classes,\n",
    "                                                    suffle = True,\n",
    "                                                    subset = 'training',\n",
    "                                                    target_size = TARGET_SIZE,\n",
    "                                                    sample_weights = t_class_weights,\n",
    "                                                    batch_size = BATCH_SIZE)\n",
    "\n",
    "    df_valid_it = validation_generator.flow_from_dataframe(dataframe = DATAFRAME,\n",
    "                                                    directory = df_dir,\n",
    "                                                    x_col = XCOL,\n",
    "                                                    y_col = 'anneal_temperature',\n",
    "                                                    class_mode = 'categorical',\n",
    "                                                    classes = temperature_classes,\n",
    "                                                    shuffle = True,\n",
    "                                                    subset = 'validation',\n",
    "                                                    sample_weights = t_class_weights,\n",
    "                                                    target_size = TARGET_SIZE,\n",
    "                                                    batch_size = BATCH_SIZE)\n",
    "\n",
    "\n",
    "\n",
    "\n",
    "    model_fit_df = model_df.fit(df_train_it,\n",
    "                         steps_per_epoch = df_train_it.samples/BATCH_SIZE,\n",
    "                         epochs = 5,\n",
    "                         validation_data = df_valid_it,\n",
    "                         validation_steps = df_valid_it.samples/BATCH_SIZE\n",
    "\n",
    "                         )\n",
    "    cat_acc_history += model_fit_df.history['categorical_accuracy']\n",
    "    val_cat_history += model_fit_df.history['val_categorical_accuracy']\n",
    "    \n",
    "    \n",
    "    \n",
    "    \n",
    "    \n",
    "fig = plt.figure()\n",
    "\n",
    "ax1 = fig.add_subplot(1,1,1)\n",
    "ax1.plot(cat_acc_history)\n",
    "ax1.plot(val_cat_history)\n",
    "ax1.set_title('model accuracy')\n",
    "ax1.set_xlabel('epoch')\n",
    "ax1.set_ylabel('accuracy')\n",
    "ax1.legend(['training', 'validation'], loc = 'upper left')\n",
    "\n",
    "plt.show"
   ]
  },
  {
   "cell_type": "code",
   "execution_count": 1566,
   "id": "37989cc5",
   "metadata": {},
   "outputs": [
    {
     "data": {
      "text/plain": [
       "<function matplotlib.pyplot.show(close=None, block=None)>"
      ]
     },
     "execution_count": 1566,
     "metadata": {},
     "output_type": "execute_result"
    },
    {
     "data": {
      "image/png": "[encoded data removed]",
      "text/plain": [
       "<Figure size 640x480 with 1 Axes>"
      ]
     },
     "metadata": {},
     "output_type": "display_data"
    }
   ],
   "source": [
    "#model_fit_df.history['categorical_accuracy']\n",
    "\n",
    "#model_fit_df.history['val_categorical_accuracy']\n",
    "\n",
    "fig = plt.figure()\n",
    "\n",
    "ax1 = fig.add_subplot(1,1,1)\n",
    "ax1.plot(cat_acc_history)\n",
    "ax1.plot(val_cat_history)\n",
    "ax1.set_title('model accuracy')\n",
    "ax1.set_xlabel('epoch')\n",
    "ax1.set_ylabel('accuracy')\n",
    "ax1.legend(['training', 'validation'], loc = 'upper left')\n",
    "\n",
    "plt.show"
   ]
  },
  {
   "cell_type": "code",
   "execution_count": 1520,
   "id": "d6342322",
   "metadata": {},
   "outputs": [
    {
     "data": {
      "text/plain": [
       "<function matplotlib.pyplot.show(close=None, block=None)>"
      ]
     },
     "execution_count": 1520,
     "metadata": {},
     "output_type": "execute_result"
    },
    {
     "data": {
      "image/png": "[encoded data removed]",
      "text/plain": [
       "<Figure size 640x480 with 1 Axes>"
      ]
     },
     "metadata": {},
     "output_type": "display_data"
    }
   ],
   "source": [
    "\n",
    "\n",
    "fig = plt.figure()\n",
    "\n",
    "ax1 = fig.add_subplot(2,1,1)\n",
    "ax1.plot(cat_acc_history)\n",
    "ax1.plot(model_fit_df.history['val_categorical_accuracy'])\n",
    "ax1.set_title('model accuracy')\n",
    "ax1.set_xlabel('epoch')\n",
    "ax1.set_ylabel('accuracy')\n",
    "ax1.legend(['training', 'validation'], loc = 'upper left')\n",
    "\n",
    "'''\n",
    "ax2 = fig.add_subplot(2,1,2)\n",
    "ax2.plot(model_fit_df.history['auc_37'])\n",
    "ax2.plot(model_fit_df.history['val_auc_37'])\n",
    "ax2.set_title('model auc')\n",
    "ax2.set_xlabel('epoch')\n",
    "ax2.set_ylabel('auc')\n",
    "ax2.legend(['training', 'validation'], loc = 'upper left')\n",
    "'''\n",
    "plt.show\n",
    "\n"
   ]
  },
  {
   "cell_type": "code",
   "execution_count": 1186,
   "id": "e35e0594",
   "metadata": {},
   "outputs": [],
   "source": [
    "\n",
    "from sklearn.metrics import classification_report"
   ]
  },
  {
   "cell_type": "code",
   "execution_count": 1519,
   "id": "42ef2aee",
   "metadata": {
    "scrolled": true
   },
   "outputs": [
    {
     "name": "stdout",
     "output_type": "stream",
     "text": [
      "1/1 [==============================] - 1s 1s/step\n"
     ]
    },
    {
     "ename": "ValueError",
     "evalue": "Number of classes, 6, does not match size of target_names, 8. Try specifying the labels parameter",
     "output_type": "error",
     "traceback": [
      "\u001b[1;31m---------------------------------------------------------------------------\u001b[0m",
      "\u001b[1;31mValueError\u001b[0m                                Traceback (most recent call last)",
      "Cell \u001b[1;32mIn[1519], line 7\u001b[0m\n\u001b[0;32m      5\u001b[0m true_classes \u001b[38;5;241m=\u001b[39m df_valid_it\u001b[38;5;241m.\u001b[39mclasses\n\u001b[0;32m      6\u001b[0m class_labels \u001b[38;5;241m=\u001b[39m \u001b[38;5;28mlist\u001b[39m(df_valid_it\u001b[38;5;241m.\u001b[39mclass_indices\u001b[38;5;241m.\u001b[39mkeys())\n\u001b[1;32m----> 7\u001b[0m report \u001b[38;5;241m=\u001b[39m classification_report(true_classes, predicted_classes, target_names\u001b[38;5;241m=\u001b[39mclass_labels)\n\u001b[0;32m      8\u001b[0m \u001b[38;5;28mprint\u001b[39m(report)\n",
      "File \u001b[1;32mC:\\ProgramData\\anaconda3\\Lib\\site-packages\\sklearn\\metrics\\_classification.py:2332\u001b[0m, in \u001b[0;36mclassification_report\u001b[1;34m(y_true, y_pred, labels, target_names, sample_weight, digits, output_dict, zero_division)\u001b[0m\n\u001b[0;32m   2326\u001b[0m         warnings\u001b[38;5;241m.\u001b[39mwarn(\n\u001b[0;32m   2327\u001b[0m             \u001b[38;5;124m\"\u001b[39m\u001b[38;5;124mlabels size, \u001b[39m\u001b[38;5;132;01m{0}\u001b[39;00m\u001b[38;5;124m, does not match size of target_names, \u001b[39m\u001b[38;5;132;01m{1}\u001b[39;00m\u001b[38;5;124m\"\u001b[39m\u001b[38;5;241m.\u001b[39mformat(\n\u001b[0;32m   2328\u001b[0m                 \u001b[38;5;28mlen\u001b[39m(labels), \u001b[38;5;28mlen\u001b[39m(target_names)\n\u001b[0;32m   2329\u001b[0m             )\n\u001b[0;32m   2330\u001b[0m         )\n\u001b[0;32m   2331\u001b[0m     \u001b[38;5;28;01melse\u001b[39;00m:\n\u001b[1;32m-> 2332\u001b[0m         \u001b[38;5;28;01mraise\u001b[39;00m \u001b[38;5;167;01mValueError\u001b[39;00m(\n\u001b[0;32m   2333\u001b[0m             \u001b[38;5;124m\"\u001b[39m\u001b[38;5;124mNumber of classes, \u001b[39m\u001b[38;5;132;01m{0}\u001b[39;00m\u001b[38;5;124m, does not match size of \u001b[39m\u001b[38;5;124m\"\u001b[39m\n\u001b[0;32m   2334\u001b[0m             \u001b[38;5;124m\"\u001b[39m\u001b[38;5;124mtarget_names, \u001b[39m\u001b[38;5;132;01m{1}\u001b[39;00m\u001b[38;5;124m. Try specifying the labels \u001b[39m\u001b[38;5;124m\"\u001b[39m\n\u001b[0;32m   2335\u001b[0m             \u001b[38;5;124m\"\u001b[39m\u001b[38;5;124mparameter\u001b[39m\u001b[38;5;124m\"\u001b[39m\u001b[38;5;241m.\u001b[39mformat(\u001b[38;5;28mlen\u001b[39m(labels), \u001b[38;5;28mlen\u001b[39m(target_names))\n\u001b[0;32m   2336\u001b[0m         )\n\u001b[0;32m   2337\u001b[0m \u001b[38;5;28;01mif\u001b[39;00m target_names \u001b[38;5;129;01mis\u001b[39;00m \u001b[38;5;28;01mNone\u001b[39;00m:\n\u001b[0;32m   2338\u001b[0m     target_names \u001b[38;5;241m=\u001b[39m [\u001b[38;5;124m\"\u001b[39m\u001b[38;5;132;01m%s\u001b[39;00m\u001b[38;5;124m\"\u001b[39m \u001b[38;5;241m%\u001b[39m l \u001b[38;5;28;01mfor\u001b[39;00m l \u001b[38;5;129;01min\u001b[39;00m labels]\n",
      "\u001b[1;31mValueError\u001b[0m: Number of classes, 6, does not match size of target_names, 8. Try specifying the labels parameter"
     ]
    }
   ],
   "source": [
    "\n",
    "\n",
    "test_steps_per_epoch = np.math.ceil(df_valid_it.samples / df_valid_it.batch_size)\n",
    "predictions = model_df.predict(df_valid_it, steps=test_steps_per_epoch)\n",
    "test_steps_per_epoch = np.math.ceil(df_valid_it.samples / df_valid_it.batch_size)\n",
    "predicted_classes = np.argmax(predictions, axis=1)\n",
    "true_classes = df_valid_it.classes\n",
    "class_labels = list(df_valid_it.class_indices.keys())\n",
    "report = classification_report(true_classes, predicted_classes, target_names=class_labels)\n",
    "print(report)   \n",
    "\n",
    "\n"
   ]
  },
  {
   "cell_type": "code",
   "execution_count": 1436,
   "id": "ff567934",
   "metadata": {},
   "outputs": [
    {
     "data": {
      "text/plain": [
       "['1273.15',\n",
       " '1243.15',\n",
       " 'Not Annealed',\n",
       " '1023.15',\n",
       " '1173.15',\n",
       " '1373.15',\n",
       " '973.15',\n",
       " '1073.15']"
      ]
     },
     "execution_count": 1436,
     "metadata": {},
     "output_type": "execute_result"
    }
   ],
   "source": [
    "class_labels"
   ]
  },
  {
   "cell_type": "code",
   "execution_count": null,
   "id": "a8c33f54",
   "metadata": {},
   "outputs": [],
   "source": [
    "tt_model_df = model_builder(df_train_it)"
   ]
  },
  {
   "cell_type": "code",
   "execution_count": 1202,
   "id": "7e5f495d",
   "metadata": {},
   "outputs": [
    {
     "data": {
      "text/plain": [
       "array([1.1215320e-06, 7.5080692e-07, 5.4082684e-14, 1.4050298e-04,\n",
       "       1.4521900e-04, 3.0819073e-11, 2.3936154e-13, 2.5846060e-07,\n",
       "       3.1662314e-10, 5.3814210e-07, 9.7411603e-01, 2.6279237e-10,\n",
       "       9.0949343e-14, 7.2270500e-06, 1.6557843e-09, 8.9377186e-11,\n",
       "       3.5331265e-08, 1.6587543e-07, 1.3043757e-09, 2.3187436e-19,\n",
       "       1.4905744e-04, 8.5839096e-09, 3.6615230e-08, 2.0936090e-03,\n",
       "       1.4597202e-09, 1.5867286e-03, 5.8025190e-08, 1.3913878e-09,\n",
       "       4.2138592e-05, 5.2547812e-16, 2.6405969e-09, 5.9475319e-04,\n",
       "       1.9703274e-10, 1.4717085e-12, 8.7623711e-04, 8.0894670e-06,\n",
       "       4.0005876e-08, 4.2004933e-13, 1.2703426e-13, 1.8759007e-11,\n",
       "       1.2786488e-06, 5.2473004e-12, 9.1262255e-04, 1.8863391e-02,\n",
       "       3.5781892e-13, 1.3844173e-06, 2.3264828e-04, 2.3590191e-10,\n",
       "       1.1620334e-06, 7.6398806e-07, 6.1860830e-13, 8.3416496e-11,\n",
       "       4.4429571e-09, 3.6941630e-12, 3.2464132e-11, 5.2399784e-05,\n",
       "       1.1352231e-06, 2.1884688e-08, 1.6085015e-11, 1.1033620e-10,\n",
       "       1.2466363e-07, 1.1822912e-09, 9.7266491e-07, 8.8872260e-12,\n",
       "       1.3903925e-06, 3.5838723e-09, 2.4192259e-10, 1.8371623e-19,\n",
       "       3.9416208e-09, 3.9141319e-06, 5.5736198e-09, 8.2423494e-06,\n",
       "       1.5599826e-04, 1.8832291e-10], dtype=float32)"
      ]
     },
     "execution_count": 1202,
     "metadata": {},
     "output_type": "execute_result"
    }
   ],
   "source": [
    "tt_model_fit_df = tt_model_df.fit(df_train_it,\n",
    "                     steps_per_epoch = df_train_it.samples/BATCH_SIZE,\n",
    "                     epochs = 50,\n",
    "                     validation_data = df_valid_it,\n",
    "                     validation_steps = df_valid_it.samples/BATCH_SIZE\n",
    "                     \n",
    "                     )\n"
   ]
  },
  {
   "cell_type": "code",
   "execution_count": null,
   "id": "7e1c51e9",
   "metadata": {},
   "outputs": [],
   "source": [
    "\n",
    "\n",
    "test_steps_per_epoch = np.math.ceil(df_valid_it.samples / df_valid_it.batch_size)\n",
    "predictions = tt_model_df.predict(df_valid_it, steps=test_steps_per_epoch)\n",
    "test_steps_per_epoch = np.math.ceil(df_valid_it.samples / df_valid_it.batch_size)\n",
    "predicted_classes = np.argmax(predictions, axis=1)\n",
    "true_classes = df_valid_it.classes\n",
    "class_labels = list(df_valid_it.class_indices.keys())\n",
    "report = classification_report(true_classes, predicted_classes, target_names=class_labels)\n",
    "print(report)   \n"
   ]
  },
  {
   "cell_type": "markdown",
   "id": "f6b93d2f",
   "metadata": {},
   "source": [
    "# Tensorflow Keras Regression Model\n"
   ]
  },
  {
   "cell_type": "code",
   "execution_count": 406,
   "id": "e83209da",
   "metadata": {},
   "outputs": [],
   "source": []
  },
  {
   "cell_type": "code",
   "execution_count": 405,
   "id": "8aa108c5",
   "metadata": {},
   "outputs": [],
   "source": []
  },
  {
   "cell_type": "code",
   "execution_count": null,
   "id": "f43a61f5",
   "metadata": {},
   "outputs": [],
   "source": []
  },
  {
   "cell_type": "code",
   "execution_count": null,
   "id": "1d338b82",
   "metadata": {},
   "outputs": [],
   "source": []
  },
  {
   "cell_type": "code",
   "execution_count": null,
   "id": "8818b861",
   "metadata": {},
   "outputs": [],
   "source": []
  },
  {
   "cell_type": "code",
   "execution_count": 413,
   "id": "c9885412",
   "metadata": {},
   "outputs": [],
   "source": [
    "m_a_trunc = m_a[['path','anneal_time_minutes', 'anneal_temperature']]"
   ]
  },
  {
   "cell_type": "code",
   "execution_count": 465,
   "id": "fe826ec3",
   "metadata": {},
   "outputs": [],
   "source": [
    "from sklearn.preprocessing import StandardScaler"
   ]
  },
  {
   "cell_type": "code",
   "execution_count": 494,
   "id": "da0ceb2a",
   "metadata": {
    "scrolled": true
   },
   "outputs": [
    {
     "name": "stderr",
     "output_type": "stream",
     "text": [
      "C:\\Users\\Owner\\AppData\\Local\\Temp\\ipykernel_22316\\232795710.py:3: SettingWithCopyWarning: \n",
      "A value is trying to be set on a copy of a slice from a DataFrame.\n",
      "Try using .loc[row_indexer,col_indexer] = value instead\n",
      "\n",
      "See the caveats in the documentation: https://pandas.pydata.org/pandas-docs/stable/user_guide/indexing.html#returning-a-view-versus-a-copy\n",
      "  m_a_trunc[['anneal_time_minutes', 'anneal_temperature']] = scaler.fit_transform(m_a_trunc[['anneal_time_minutes', 'anneal_temperature']] )\n"
     ]
    }
   ],
   "source": [
    "scaler = StandardScaler()\n",
    "\n",
    "m_a_trunc[['anneal_time_minutes', 'anneal_temperature']] = scaler.fit_transform(m_a_trunc[['anneal_time_minutes', 'anneal_temperature']] )\n"
   ]
  },
  {
   "cell_type": "code",
   "execution_count": 495,
   "id": "0c34c0a1",
   "metadata": {
    "scrolled": true
   },
   "outputs": [
    {
     "data": {
      "text/html": [
       "<div>\n",
       "<style scoped>\n",
       "    .dataframe tbody tr th:only-of-type {\n",
       "        vertical-align: middle;\n",
       "    }\n",
       "\n",
       "    .dataframe tbody tr th {\n",
       "        vertical-align: top;\n",
       "    }\n",
       "\n",
       "    .dataframe thead th {\n",
       "        text-align: right;\n",
       "    }\n",
       "</style>\n",
       "<table border=\"1\" class=\"dataframe\">\n",
       "  <thead>\n",
       "    <tr style=\"text-align: right;\">\n",
       "      <th></th>\n",
       "      <th>path</th>\n",
       "      <th>anneal_time_minutes</th>\n",
       "      <th>anneal_temperature</th>\n",
       "    </tr>\n",
       "  </thead>\n",
       "  <tbody>\n",
       "    <tr>\n",
       "      <th>1</th>\n",
       "      <td>micrograph2.tif</td>\n",
       "      <td>3.917963</td>\n",
       "      <td>-1.439328</td>\n",
       "    </tr>\n",
       "    <tr>\n",
       "      <th>3</th>\n",
       "      <td>micrograph5.tif</td>\n",
       "      <td>-0.588127</td>\n",
       "      <td>-2.039617</td>\n",
       "    </tr>\n",
       "    <tr>\n",
       "      <th>4</th>\n",
       "      <td>micrograph6.tif</td>\n",
       "      <td>-0.512952</td>\n",
       "      <td>0.601656</td>\n",
       "    </tr>\n",
       "    <tr>\n",
       "      <th>5</th>\n",
       "      <td>micrograph7.tif</td>\n",
       "      <td>-0.512952</td>\n",
       "      <td>0.601656</td>\n",
       "    </tr>\n",
       "    <tr>\n",
       "      <th>7</th>\n",
       "      <td>micrograph9.tif</td>\n",
       "      <td>-0.512952</td>\n",
       "      <td>0.601656</td>\n",
       "    </tr>\n",
       "    <tr>\n",
       "      <th>...</th>\n",
       "      <td>...</td>\n",
       "      <td>...</td>\n",
       "      <td>...</td>\n",
       "    </tr>\n",
       "    <tr>\n",
       "      <th>792</th>\n",
       "      <td>micrograph1716.tif</td>\n",
       "      <td>3.917963</td>\n",
       "      <td>-1.439328</td>\n",
       "    </tr>\n",
       "    <tr>\n",
       "      <th>795</th>\n",
       "      <td>micrograph1720.tif</td>\n",
       "      <td>0.681007</td>\n",
       "      <td>-1.439328</td>\n",
       "    </tr>\n",
       "    <tr>\n",
       "      <th>797</th>\n",
       "      <td>micrograph1722.tif</td>\n",
       "      <td>0.681007</td>\n",
       "      <td>0.601656</td>\n",
       "    </tr>\n",
       "    <tr>\n",
       "      <th>799</th>\n",
       "      <td>micrograph1726.tif</td>\n",
       "      <td>-0.588127</td>\n",
       "      <td>0.601656</td>\n",
       "    </tr>\n",
       "    <tr>\n",
       "      <th>800</th>\n",
       "      <td>micrograph1730.png</td>\n",
       "      <td>-0.512952</td>\n",
       "      <td>0.601656</td>\n",
       "    </tr>\n",
       "  </tbody>\n",
       "</table>\n",
       "<p>527 rows × 3 columns</p>\n",
       "</div>"
      ],
      "text/plain": [
       "                   path  anneal_time_minutes  anneal_temperature\n",
       "1       micrograph2.tif             3.917963           -1.439328\n",
       "3       micrograph5.tif            -0.588127           -2.039617\n",
       "4       micrograph6.tif            -0.512952            0.601656\n",
       "5       micrograph7.tif            -0.512952            0.601656\n",
       "7       micrograph9.tif            -0.512952            0.601656\n",
       "..                  ...                  ...                 ...\n",
       "792  micrograph1716.tif             3.917963           -1.439328\n",
       "795  micrograph1720.tif             0.681007           -1.439328\n",
       "797  micrograph1722.tif             0.681007            0.601656\n",
       "799  micrograph1726.tif            -0.588127            0.601656\n",
       "800  micrograph1730.png            -0.512952            0.601656\n",
       "\n",
       "[527 rows x 3 columns]"
      ]
     },
     "execution_count": 495,
     "metadata": {},
     "output_type": "execute_result"
    }
   ],
   "source": [
    "m_a_trunc"
   ]
  },
  {
   "cell_type": "code",
   "execution_count": null,
   "id": "5a8090e0",
   "metadata": {},
   "outputs": [],
   "source": []
  },
  {
   "cell_type": "code",
   "execution_count": null,
   "id": "4962af63",
   "metadata": {},
   "outputs": [],
   "source": []
  },
  {
   "cell_type": "code",
   "execution_count": 522,
   "id": "fa8b50fc",
   "metadata": {},
   "outputs": [],
   "source": []
  },
  {
   "cell_type": "markdown",
   "id": "8158be1d",
   "metadata": {},
   "source": [
    "# Transfer Learning:  InceptionV3 Regeression model"
   ]
  },
  {
   "cell_type": "code",
   "execution_count": 1457,
   "id": "b5b7afad",
   "metadata": {},
   "outputs": [],
   "source": [
    "R_X = 'path'\n",
    "R_Y = [ 'anneal_time_minutes','anneal_temperature']"
   ]
  },
  {
   "cell_type": "code",
   "execution_count": 1470,
   "id": "7e445f6b",
   "metadata": {},
   "outputs": [
    {
     "name": "stdout",
     "output_type": "stream",
     "text": [
      "Found 495 validated image filenames.\n",
      "Found 32 validated image filenames.\n"
     ]
    }
   ],
   "source": [
    "df_train_tr = data_generator.flow_from_dataframe(dataframe = m_a_trunc,\n",
    "                                                directory = df_dir,\n",
    "                                                x_col = R_X,\n",
    "                                                y_col = R_Y,\n",
    "                                                class_mode= 'raw',\n",
    "                                                color_mode = 'rgb',\n",
    "                                                subset = 'training',\n",
    "                                                sample_weights = t_class_weights,\n",
    "                                                target_size = TARGET_SIZE,\n",
    "                                                batch_size = 32)\n",
    "\n",
    "df_valid_tr = validation_generator.flow_from_dataframe(dataframe = m_a_trunc,\n",
    "                                                directory = df_dir,\n",
    "                                                x_col = R_X,\n",
    "                                                y_col = R_Y,\n",
    "                                                class_mode = 'raw',\n",
    "                                                color_mode = 'rgb',\n",
    "                                                subset = 'validation',\n",
    "                                                sample_weights = t_class_weights,\n",
    "                                                target_size = TARGET_SIZE,\n",
    "                                                batch_size = 32)"
   ]
  },
  {
   "cell_type": "code",
   "execution_count": 871,
   "id": "a0e01156",
   "metadata": {},
   "outputs": [],
   "source": [
    "inception = keras.applications.inception_v3.InceptionV3(include_top = False, weights = 'imagenet', input_shape = (256,256,3))"
   ]
  },
  {
   "cell_type": "code",
   "execution_count": 872,
   "id": "5a9b2e11",
   "metadata": {},
   "outputs": [],
   "source": [
    "for layer in inception.layers:\n",
    "    layer.trainable = False"
   ]
  },
  {
   "cell_type": "code",
   "execution_count": null,
   "id": "3dbce36a",
   "metadata": {},
   "outputs": [],
   "source": [
    "    \n",
    "def trans_reg_model_builder(training_data):\n",
    "    model = Sequential()\n",
    "    \n",
    "    model.add(tf.keras.Input(shape=(522,645,3)))\n",
    "    model.add(tf.keras.layers.CenterCrop(256, 256))\n",
    "    model.add(inception)\n",
    "    model.add(layers.Flatten())\n",
    "    \n",
    "    \n",
    "    model.add(layers.Dense(500, activation = 'relu'))\n",
    "    \n",
    "    model.add(layers.Dropout(.3))\n",
    "    \n",
    "    model.add(layers.Dense(2))\n",
    "    \n",
    "    model.compile(optimizer = tf.keras.optimizers.SGD(learning_rate = .001),\n",
    "                loss ='mse',\n",
    "                metrics=[tf.keras.metrics.mean_squared_error]\n",
    "                 )\n",
    "    \n",
    "    model.summary()\n",
    "    return model"
   ]
  },
  {
   "cell_type": "code",
   "execution_count": 1565,
   "id": "65bc0990",
   "metadata": {
    "scrolled": true
   },
   "outputs": [
    {
     "name": "stdout",
     "output_type": "stream",
     "text": [
      "Model: \"sequential_199\"\n",
      "_________________________________________________________________\n",
      " Layer (type)                Output Shape              Param #   \n",
      "=================================================================\n",
      " center_crop_72 (CenterCrop  (None, 256, 256, 3)       0         \n",
      " )                                                               \n",
      "                                                                 \n",
      " inception_v3 (Functional)   (None, 6, 6, 2048)        21802784  \n",
      "                                                                 \n",
      " flatten_182 (Flatten)       (None, 73728)             0         \n",
      "                                                                 \n",
      " dense_454 (Dense)           (None, 500)               36864500  \n",
      "                                                                 \n",
      " dropout_412 (Dropout)       (None, 500)               0         \n",
      "                                                                 \n",
      " dense_455 (Dense)           (None, 2)                 1002      \n",
      "                                                                 \n",
      "=================================================================\n",
      "Total params: 58668286 (223.80 MB)\n",
      "Trainable params: 36865502 (140.63 MB)\n",
      "Non-trainable params: 21802784 (83.17 MB)\n",
      "_________________________________________________________________\n"
     ]
    }
   ],
   "source": [
    "trans_reg_model = trans_reg_model_builder(df_train_tr)\n"
   ]
  },
  {
   "cell_type": "code",
   "execution_count": 1568,
   "id": "5eb1449a",
   "metadata": {},
   "outputs": [],
   "source": [
    "mse_hist = mse_hist[1:]\n",
    "mse_valid_hist = mse_valid_hist[1:]"
   ]
  },
  {
   "cell_type": "code",
   "execution_count": null,
   "id": "08fb3bd1",
   "metadata": {
    "scrolled": true
   },
   "outputs": [
    {
     "name": "stdout",
     "output_type": "stream",
     "text": [
      "Loop:  1\n",
      "Found 431 validated image filenames.\n",
      "Found 96 validated image filenames.\n",
      "Epoch 1/5\n",
      "13/13 [==============================] - 44s 3s/step - loss: 0.2715 - mean_squared_error: 0.2715 - val_loss: 0.3230 - val_mean_squared_error: 0.3230\n",
      "Epoch 2/5\n",
      "13/13 [==============================] - 41s 3s/step - loss: 0.2806 - mean_squared_error: 0.2806 - val_loss: 0.3385 - val_mean_squared_error: 0.3385\n",
      "Epoch 3/5\n",
      "13/13 [==============================] - 43s 3s/step - loss: 0.2320 - mean_squared_error: 0.2320 - val_loss: 0.3644 - val_mean_squared_error: 0.3644\n",
      "Epoch 4/5\n",
      "13/13 [==============================] - 43s 3s/step - loss: 0.2236 - mean_squared_error: 0.2236 - val_loss: 0.3422 - val_mean_squared_error: 0.3422\n",
      "Epoch 5/5\n",
      "13/13 [==============================] - 42s 3s/step - loss: 0.2938 - mean_squared_error: 0.2938 - val_loss: 0.3710 - val_mean_squared_error: 0.3710\n",
      "Loop:  2\n",
      "Found 399 validated image filenames.\n",
      "Found 128 validated image filenames.\n",
      "Epoch 1/5\n",
      "12/12 [==============================] - 42s 3s/step - loss: 0.2992 - mean_squared_error: 0.2992 - val_loss: 0.3374 - val_mean_squared_error: 0.3374\n",
      "Epoch 2/5\n",
      "12/12 [==============================] - 41s 3s/step - loss: 0.2864 - mean_squared_error: 0.2864 - val_loss: 0.2915 - val_mean_squared_error: 0.2915\n",
      "Epoch 3/5\n",
      "12/12 [==============================] - 42s 3s/step - loss: 0.2663 - mean_squared_error: 0.2663 - val_loss: 0.2945 - val_mean_squared_error: 0.2945\n",
      "Epoch 4/5\n",
      "12/12 [==============================] - 30s 2s/step - loss: 0.2526 - mean_squared_error: 0.2526 - val_loss: 0.2787 - val_mean_squared_error: 0.2787\n",
      "Epoch 5/5\n",
      "12/12 [==============================] - 32s 3s/step - loss: 0.2058 - mean_squared_error: 0.2058 - val_loss: 0.2981 - val_mean_squared_error: 0.2981\n",
      "Loop:  3\n",
      "Found 495 validated image filenames.\n",
      "Found 32 validated image filenames.\n",
      "Epoch 1/5\n",
      "15/15 [==============================] - 48s 3s/step - loss: 0.2697 - mean_squared_error: 0.2697 - val_loss: 0.5343 - val_mean_squared_error: 0.5343\n",
      "Epoch 2/5\n",
      "15/15 [==============================] - 47s 3s/step - loss: 0.2746 - mean_squared_error: 0.2746 - val_loss: 0.5097 - val_mean_squared_error: 0.5097\n",
      "Epoch 3/5\n",
      "15/15 [==============================] - 45s 3s/step - loss: 0.2703 - mean_squared_error: 0.2703 - val_loss: 0.5410 - val_mean_squared_error: 0.5410\n",
      "Epoch 4/5\n",
      "15/15 [==============================] - 48s 3s/step - loss: 0.2840 - mean_squared_error: 0.2840 - val_loss: 0.5436 - val_mean_squared_error: 0.5436\n",
      "Epoch 5/5\n",
      "15/15 [==============================] - 48s 3s/step - loss: 0.2769 - mean_squared_error: 0.2769 - val_loss: 0.4907 - val_mean_squared_error: 0.4907\n",
      "Loop:  4\n",
      "Found 399 validated image filenames.\n",
      "Found 128 validated image filenames.\n",
      "Epoch 1/5\n",
      "12/12 [==============================] - 42s 3s/step - loss: 0.2803 - mean_squared_error: 0.2803 - val_loss: 0.3378 - val_mean_squared_error: 0.3378\n",
      "Epoch 2/5\n",
      "12/12 [==============================] - 42s 4s/step - loss: 0.2714 - mean_squared_error: 0.2714 - val_loss: 0.2673 - val_mean_squared_error: 0.2673\n",
      "Epoch 3/5\n",
      "12/12 [==============================] - 40s 3s/step - loss: 0.2713 - mean_squared_error: 0.2713 - val_loss: 0.2956 - val_mean_squared_error: 0.2956\n",
      "Epoch 4/5\n",
      "12/12 [==============================] - 42s 3s/step - loss: 0.2369 - mean_squared_error: 0.2369 - val_loss: 0.2875 - val_mean_squared_error: 0.2875\n",
      "Epoch 5/5\n",
      "12/12 [==============================] - 42s 3s/step - loss: 0.2482 - mean_squared_error: 0.2482 - val_loss: 0.2761 - val_mean_squared_error: 0.2761\n",
      "Loop:  5\n",
      "Found 399 validated image filenames.\n",
      "Found 128 validated image filenames.\n",
      "Epoch 1/5\n",
      "12/12 [==============================] - 40s 3s/step - loss: 0.2701 - mean_squared_error: 0.2701 - val_loss: 0.3361 - val_mean_squared_error: 0.3361\n",
      "Epoch 2/5\n",
      "12/12 [==============================] - 42s 3s/step - loss: 0.2492 - mean_squared_error: 0.2492 - val_loss: 0.2974 - val_mean_squared_error: 0.2974\n",
      "Epoch 3/5\n",
      "12/12 [==============================] - 42s 3s/step - loss: 0.2799 - mean_squared_error: 0.2799 - val_loss: 0.2748 - val_mean_squared_error: 0.2748\n",
      "Epoch 4/5\n",
      "12/12 [==============================] - 41s 3s/step - loss: 0.3269 - mean_squared_error: 0.3269 - val_loss: 0.3413 - val_mean_squared_error: 0.3413\n",
      "Epoch 5/5\n",
      "12/12 [==============================] - 43s 3s/step - loss: 0.2800 - mean_squared_error: 0.2800 - val_loss: 0.2789 - val_mean_squared_error: 0.2789\n",
      "Loop:  6\n",
      "Found 463 validated image filenames.\n",
      "Found 64 validated image filenames.\n",
      "Epoch 1/5\n",
      "14/14 [==============================] - 44s 3s/step - loss: 0.2393 - mean_squared_error: 0.2393 - val_loss: 0.4545 - val_mean_squared_error: 0.4545\n",
      "Epoch 2/5\n",
      "14/14 [==============================] - 45s 3s/step - loss: 0.2624 - mean_squared_error: 0.2624 - val_loss: 0.4423 - val_mean_squared_error: 0.4423\n",
      "Epoch 3/5\n",
      "14/14 [==============================] - 45s 3s/step - loss: 0.2695 - mean_squared_error: 0.2695 - val_loss: 0.3966 - val_mean_squared_error: 0.3966\n",
      "Epoch 4/5\n",
      "14/14 [==============================] - 43s 3s/step - loss: 0.2943 - mean_squared_error: 0.2943 - val_loss: 0.4262 - val_mean_squared_error: 0.4262\n",
      "Epoch 5/5\n",
      "14/14 [==============================] - 45s 3s/step - loss: 0.2634 - mean_squared_error: 0.2634 - val_loss: 0.4397 - val_mean_squared_error: 0.4397\n",
      "Loop:  7\n",
      "Found 463 validated image filenames.\n",
      "Found 64 validated image filenames.\n",
      "Epoch 1/5\n",
      "14/14 [==============================] - 43s 3s/step - loss: 0.2733 - mean_squared_error: 0.2733 - val_loss: 0.4146 - val_mean_squared_error: 0.4146\n",
      "Epoch 2/5\n",
      "14/14 [==============================] - 45s 3s/step - loss: 0.2601 - mean_squared_error: 0.2601 - val_loss: 0.4531 - val_mean_squared_error: 0.4531\n",
      "Epoch 3/5\n",
      "14/14 [==============================] - 45s 3s/step - loss: 0.2667 - mean_squared_error: 0.2667 - val_loss: 0.4642 - val_mean_squared_error: 0.4642\n",
      "Epoch 4/5\n",
      "14/14 [==============================] - 43s 3s/step - loss: 0.2326 - mean_squared_error: 0.2326 - val_loss: 0.4167 - val_mean_squared_error: 0.4167\n",
      "Epoch 5/5\n",
      "14/14 [==============================] - 45s 3s/step - loss: 0.2731 - mean_squared_error: 0.2731 - val_loss: 0.4925 - val_mean_squared_error: 0.4925\n",
      "Loop:  8\n",
      "Found 399 validated image filenames.\n",
      "Found 128 validated image filenames.\n",
      "Epoch 1/5\n",
      "12/12 [==============================] - 42s 3s/step - loss: 0.2543 - mean_squared_error: 0.2543 - val_loss: 0.3023 - val_mean_squared_error: 0.3023\n",
      "Epoch 2/5\n",
      "12/12 [==============================] - 42s 3s/step - loss: 0.2296 - mean_squared_error: 0.2296 - val_loss: 0.2892 - val_mean_squared_error: 0.2892\n",
      "Epoch 3/5\n",
      " 5/12 [===========>..................] - ETA: 18s - loss: 0.3968 - mean_squared_error: 0.3968"
     ]
    }
   ],
   "source": [
    "#mse_hist = []\n",
    "#mse_valid_hist = []\n",
    "\n",
    "for j in range(10):\n",
    "    m = rd.randint( low = 1, high = 5)\n",
    "    \n",
    "    print('Loop: ', j+1)\n",
    "    reg_data_generator = ImageDataGenerator(rescale = 1./255, \n",
    "                                        zoom_range = 0.1, \n",
    "                                        rotation_range = 25, \n",
    "                                        width_shift_range = 0.2,\n",
    "                                        validation_split  = m*0.061,\n",
    "                                        height_shift_range = 0.2)\n",
    "\n",
    "    reg_validation_generator = ImageDataGenerator(rescale = 1./255, \n",
    "                                              validation_split = m*.061)\n",
    "\n",
    "    DIRECTORY = \"micrographs\"\n",
    "    CLASS_MODE = 'categorical'\n",
    "    COLOR_MODE = 'rbg'\n",
    "    TARGET_SIZE = (645,522)\n",
    "    BATCH_SIZE = 32\n",
    "\n",
    "    df_dir = 'micrographs'\n",
    "    DATAFRAME =  new_df#ohe_main_micrographs\n",
    "    XCOL =  'path'\n",
    "    YCOL = ['anneal_temperature']\n",
    "\n",
    "    df_train_tr = reg_data_generator.flow_from_dataframe(dataframe = m_a_trunc,\n",
    "                                                    directory = df_dir,\n",
    "                                                    x_col = R_X,\n",
    "                                                    y_col = R_Y,\n",
    "                                                    class_mode= 'raw',\n",
    "                                                    color_mode = 'rgb',\n",
    "                                                    subset = 'training',\n",
    "                                                    sample_weights = t_class_weights,\n",
    "                                                    target_size = TARGET_SIZE,\n",
    "                                                    batch_size = 32)\n",
    "\n",
    "    df_valid_tr = reg_validation_generator.flow_from_dataframe(dataframe = m_a_trunc,\n",
    "                                                    directory = df_dir,\n",
    "                                                    x_col = R_X,\n",
    "                                                    y_col = R_Y,\n",
    "                                                    class_mode = 'raw',\n",
    "                                                    color_mode = 'rgb',\n",
    "                                                    subset = 'validation',\n",
    "                                                    sample_weights = t_class_weights,\n",
    "                                                    target_size = TARGET_SIZE,\n",
    "                                                    batch_size = 32)\n",
    "\n",
    "\n",
    "\n",
    "\n",
    "    trans_reg_model_fit = trans_reg_model.fit(df_train_tr,\n",
    "                         steps_per_epoch = df_train_tr.samples/BATCH_SIZE,\n",
    "                         epochs = 5,\n",
    "                         validation_data = df_valid_tr,\n",
    "                         validation_steps = df_valid_tr.samples/BATCH_SIZE,\n",
    "                         callbacks = None #[early_stop]\n",
    "                         )\n",
    "    \n",
    "    mse_hist += trans_reg_model_fit.history['mean_squared_error']\n",
    "    mse_valid_hist +=trans_reg_model_fit.history['val_mean_squared_error']\n",
    "    "
   ]
  },
  {
   "cell_type": "code",
   "execution_count": 1582,
   "id": "1ff30829",
   "metadata": {
    "scrolled": true
   },
   "outputs": [
    {
     "data": {
      "text/plain": [
       "<function matplotlib.pyplot.show(close=None, block=None)>"
      ]
     },
     "execution_count": 1582,
     "metadata": {},
     "output_type": "execute_result"
    },
    {
     "data": {
      "image/png": "[encoded data removed]",
      "text/plain": [
       "<Figure size 640x480 with 1 Axes>"
      ]
     },
     "metadata": {},
     "output_type": "display_data"
    }
   ],
   "source": [
    "fig = plt.figure()\n",
    "\n",
    "ax1 = fig.add_subplot(1,1,1)\n",
    "ax1.plot(mse_hist)\n",
    "ax1.plot(mse_valid_hist)\n",
    "ax1.set_title('model mse')\n",
    "ax1.set_xlabel('epoch')\n",
    "ax1.set_ylabel('mse')\n",
    "ax1.legend(['training', 'validation'], loc = 'upper left')\n",
    "\n",
    "plt.show"
   ]
  },
  {
   "cell_type": "markdown",
   "id": "24b4466f",
   "metadata": {},
   "source": [
    "# Keras model with data augmentation in layers stratified train-test validation"
   ]
  },
  {
   "cell_type": "markdown",
   "id": "09455920",
   "metadata": {},
   "source": [
    "I'll be switching the data augmentation to the layers for the keras model rather than using the DataImageGeneartor\n"
   ]
  },
  {
   "cell_type": "code",
   "execution_count": null,
   "id": "38ce7cf3",
   "metadata": {},
   "outputs": [],
   "source": [
    "from sklearn.model_selection import train_test_split"
   ]
  },
  {
   "cell_type": "code",
   "execution_count": null,
   "id": "dec7c170",
   "metadata": {},
   "outputs": [],
   "source": [
    "col_select = ['micrograph_id', 'anneal_time', 'anneal_time_unit', 'anneal_temperature']"
   ]
  },
  {
   "cell_type": "code",
   "execution_count": null,
   "id": "8890dd99",
   "metadata": {},
   "outputs": [],
   "source": [
    "to_min = ToMinutes(time_temp['anneal_time_unit'])\n",
    "anneal_time_minute = to_min.transform(time_temp['anneal_time'])"
   ]
  },
  {
   "cell_type": "code",
   "execution_count": null,
   "id": "6c08338b",
   "metadata": {},
   "outputs": [],
   "source": [
    "time_temp = m_s_pd[col_select]"
   ]
  },
  {
   "cell_type": "code",
   "execution_count": null,
   "id": "973b2ded",
   "metadata": {},
   "outputs": [],
   "source": [
    "time_temp.insert(2, 'anneal_time_minutes', anneal_time_minute,True)"
   ]
  },
  {
   "cell_type": "code",
   "execution_count": null,
   "id": "f2b2d65b",
   "metadata": {},
   "outputs": [],
   "source": [
    "time_temperature = time_temp[['micrograph_id','anneal_time_minutes','anneal_temperature']]\n"
   ]
  },
  {
   "cell_type": "code",
   "execution_count": null,
   "id": "917a7732",
   "metadata": {},
   "outputs": [],
   "source": [
    "tt_df = time_temperature.fillna('Not Annealed')"
   ]
  },
  {
   "cell_type": "code",
   "execution_count": null,
   "id": "2ccf1a18",
   "metadata": {},
   "outputs": [],
   "source": [
    "tt_df['tt_start'] = tt_df['anneal_time_minutes'].astype(str) + \"_\" + tt_df['anneal_temperature'].astype(str)"
   ]
  },
  {
   "cell_type": "code",
   "execution_count": null,
   "id": "9f6a94f6",
   "metadata": {},
   "outputs": [],
   "source": [
    "train, test = train_test_split(tt_df, test_size = 0.3, stratify = tt_df['tt_start'])"
   ]
  },
  {
   "cell_type": "markdown",
   "id": "a5e50173",
   "metadata": {},
   "source": [
    "class weighting using sklearn"
   ]
  },
  {
   "cell_type": "code",
   "execution_count": 3,
   "id": "c8371221",
   "metadata": {},
   "outputs": [],
   "source": [
    "from sklearn.utils.class_weight import compute_class_weight"
   ]
  },
  {
   "cell_type": "code",
   "execution_count": null,
   "id": "beedb72e",
   "metadata": {},
   "outputs": [],
   "source": [
    "class_weights = compute_class_weight(class_weight = 'balanced',\n",
    "                                     classes = train['anneal_time_minutes'].unique(),\n",
    "                                     y = train['anneal_time_minutes'])"
   ]
  },
  {
   "cell_type": "code",
   "execution_count": null,
   "id": "304d1bc1",
   "metadata": {},
   "outputs": [],
   "source": [
    "cw_dict = dict(zip(train['anneal_time_minutes'].unique(),class_weights))"
   ]
  },
  {
   "cell_type": "markdown",
   "id": "402ceacb",
   "metadata": {},
   "source": [
    "New Model Constructions\n"
   ]
  },
  {
   "cell_type": "markdown",
   "id": "a89a9b6d",
   "metadata": {},
   "source": [
    "preprocessing layers \\\n",
    "2D cropping layer \\\n",
    "rescaling (perhaps keep this in dataimagegenerator )\n",
    "\n",
    "\n",
    "data augmentation\\\n",
    "random crop\\\n",
    "random flip\\\n",
    "random trnslation\\\n",
    "random rotation\\\n",
    "random zoon\\\n",
    "random contrast\\"
   ]
  },
  {
   "cell_type": "code",
   "execution_count": null,
   "id": "f6665816",
   "metadata": {},
   "outputs": [],
   "source": [
    "def model_builder(training_data):\n",
    "    model = Sequential()\n",
    "    \n",
    "    model.add(tf.keras.Input(shape=(522,645,3)))\n",
    "\n",
    "    \n",
    "    model.add(layers.Cropping2D(\n",
    "              cropping=((0, 40), (0, 0))\n",
    "                ))\n",
    "    model.add(layers.RandomFlip())\n",
    "    model.add(layers.RandomRotation(factor = 0.4, \n",
    "                                    fill_mode = 'reflect'))\n",
    "    \n",
    "    model.add(layers.RandomZoom(.4,.2)\n",
    "    model.add(layers.RandomContrast(.2))          \n",
    "    model.add(layers.RandomCrop(256,256))\n",
    "    \n",
    "    \n",
    "    model.add(inception)\n",
    "    \n",
    "\n",
    "    \n",
    "    model.add(layers.Flatten())\n",
    "\n",
    "    model.add(layers.Dense(500, activation = 'sigmoid'))\n",
    "    \n",
    "    model.add(layers.Dropout(0.3))\n",
    "\n",
    "    model.add(layers.Dense(8, activation = 'softmax'))\n",
    "    \n",
    "    model.compile(optimizer = tf.keras.optimizers.SGD(learning_rate = .001),\n",
    "                 loss = tf.keras.losses.CategoricalCrossentropy(),\n",
    "                 metrics = tf.keras.metrics.CategoricalAccuracy() #,tf.keras.metrics.AUC()]\n",
    "                 )\n",
    "    \n",
    "    model.summary()\n",
    "    return model\n",
    "    \n",
    "    "
   ]
  },
  {
   "cell_type": "code",
   "execution_count": null,
   "id": "8aaac442",
   "metadata": {},
   "outputs": [],
   "source": [
    "\n",
    "for i in range(5):\n",
    "    \n",
    "    #put the train/validation split here\n",
    "    \n",
    "    m = rd.randint( low = 3, high = 7)\n",
    "    \n",
    "    print('Loop: ',i+1)\n",
    "    print('m: ', m)\n",
    "    data_generator = ImageDataGenerator(rescale = 1./255)\n",
    "\n",
    "    validation_generator = ImageDataGenerator(rescale = 1./255)\n",
    "\n",
    "    DIRECTORY = \"micrographs\"\n",
    "    CLASS_MODE = 'categorical'\n",
    "    COLOR_MODE = 'rbg'\n",
    "    TARGET_SIZE = (645,522)\n",
    "    BATCH_SIZE = 32\n",
    "\n",
    "    df_dir = 'micrographs'\n",
    "    DATAFRAME =  new_df#ohe_main_micrographs\n",
    "    XCOL =  'path'\n",
    "    YCOL = ['anneal_temperature']\n",
    "\n",
    "\n",
    "    df_train_it = data_generator.flow_from_dataframe(dataframe = DATAFRAME,\n",
    "                                                    directory = df_dir,\n",
    "                                                    x_col = XCOL,\n",
    "                                                    y_col = 'anneal_temperature',\n",
    "                                                    class_mode = 'categorical',\n",
    "                                                    classes = temperature_classes,\n",
    "                                                    suffle = True,\n",
    "                                                    subset = 'training',\n",
    "                                                    target_size = TARGET_SIZE,\n",
    "                                                    sample_weights = t_class_weights,\n",
    "                                                    batch_size = BATCH_SIZE)\n",
    "\n",
    "    df_valid_it = validation_generator.flow_from_dataframe(dataframe = DATAFRAME,\n",
    "                                                    directory = df_dir,\n",
    "                                                    x_col = XCOL,\n",
    "                                                    y_col = 'anneal_temperature',\n",
    "                                                    class_mode = 'categorical',\n",
    "                                                    classes = temperature_classes,\n",
    "                                                    shuffle = True,\n",
    "                                                    subset = 'validation',\n",
    "                                                    sample_weights = t_class_weights,\n",
    "                                                    target_size = TARGET_SIZE,\n",
    "                                                    batch_size = BATCH_SIZE)\n",
    "\n",
    "\n",
    "\n",
    "\n",
    "    model_fit_df = model_df.fit(df_train_it,\n",
    "                         steps_per_epoch = df_train_it.samples/BATCH_SIZE,\n",
    "                         epochs = 5,\n",
    "                         validation_data = df_valid_it,\n",
    "                         validation_steps = df_valid_it.samples/BATCH_SIZE\n",
    "\n",
    "                         )\n",
    "    cat_acc_history += model_fit_df.history['categorical_accuracy']\n",
    "    val_cat_history += model_fit_df.history['val_categorical_accuracy']\n",
    "    \n",
    "    \n",
    "    \n",
    "    \n",
    "    \n",
    "fig = plt.figure()\n",
    "\n",
    "ax1 = fig.add_subplot(1,1,1)\n",
    "ax1.plot(cat_acc_history)\n",
    "ax1.plot(val_cat_history)\n",
    "ax1.set_title('model accuracy')\n",
    "ax1.set_xlabel('epoch')\n",
    "ax1.set_ylabel('accuracy')\n",
    "ax1.legend(['training', 'validation'], loc = 'upper left')\n",
    "\n",
    "plt.show"
   ]
  }
 ],
 "metadata": {
  "kernelspec": {
   "display_name": "Python 3 (ipykernel)",
   "language": "python",
   "name": "python3"
  },
  "language_info": {
   "codemirror_mode": {
    "name": "ipython",
    "version": 3
   },
   "file_extension": ".py",
   "mimetype": "text/x-python",
   "name": "python",
   "nbconvert_exporter": "python",
   "pygments_lexer": "ipython3",
   "version": "3.10.9"
  }
 },
 "nbformat": 4,
 "nbformat_minor": 5
}
