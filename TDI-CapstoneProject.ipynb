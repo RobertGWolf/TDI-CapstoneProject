{
 "cells": [
  {
   "cell_type": "code",
   "execution_count": 31,
   "id": "0297ae9c",
   "metadata": {},
   "outputs": [],
   "source": [
    "import seaborn as sns\n",
    "sns.set()\n",
    "import altair as alt"
   ]
  },
  {
   "cell_type": "code",
   "execution_count": 32,
   "id": "b09886df",
   "metadata": {},
   "outputs": [],
   "source": [
    "import numpy as np\n",
    "import pandas as pd\n",
    "from numpy import random as rd\n",
    "import tensorflow as tf\n",
    "from tensorflow import keras\n",
    "\n",
    "from sklearn.compose import ColumnTransformer"
   ]
  },
  {
   "cell_type": "markdown",
   "id": "8f60db88",
   "metadata": {},
   "source": [
    "# SQLite and Data Preprocessing \n"
   ]
  },
  {
   "cell_type": "markdown",
   "id": "dbeb3389",
   "metadata": {},
   "source": [
    "### SQL to Dataframe  "
   ]
  },
  {
   "cell_type": "code",
   "execution_count": 33,
   "id": "780a5cd0",
   "metadata": {},
   "outputs": [],
   "source": [
    "\n",
    "import sqlalchemy\n",
    "from sqlalchemy import create_engine\n",
    "\n",
    "from sqlalchemy import inspect\n"
   ]
  },
  {
   "cell_type": "code",
   "execution_count": 25,
   "id": "2bf5a088",
   "metadata": {},
   "outputs": [],
   "source": [
    "engine = create_engine(\"sqlite:///microstructures.sqlite\")"
   ]
  },
  {
   "cell_type": "code",
   "execution_count": 34,
   "id": "ab0e18fe",
   "metadata": {},
   "outputs": [],
   "source": [
    "MicrostrucureData = sqlalchemy.MetaData(bind = engine)"
   ]
  },
  {
   "cell_type": "code",
   "execution_count": 35,
   "id": "28b4d0cc",
   "metadata": {},
   "outputs": [],
   "source": [
    "conn = engine.connect()"
   ]
  },
  {
   "cell_type": "code",
   "execution_count": 23,
   "id": "a6880ec0",
   "metadata": {},
   "outputs": [],
   "source": [
    "inspector = inspect(engine)"
   ]
  },
  {
   "cell_type": "code",
   "execution_count": 24,
   "id": "fc6c4368",
   "metadata": {},
   "outputs": [],
   "source": [
    "\n",
    "for table_name in inspector.get_table_names():\n",
    "   for column in inspector.get_columns(table_name):\n",
    "       print(\"Table: %s\" % table_name , \" Column: %s\" % column['name'])\n",
    "        "
   ]
  },
  {
   "cell_type": "code",
   "execution_count": 36,
   "id": "59fdb00d",
   "metadata": {},
   "outputs": [],
   "source": [
    "#### JOINS the micrograph table to the sample data table\n",
    "\n",
    "\n",
    "micrographs = \"\"\"\n",
    "\n",
    "SELECT *\n",
    "FROM micrograph JOIN sample ON sample_id = sample_key\n",
    "\n",
    "\n",
    "\"\"\""
   ]
  },
  {
   "cell_type": "code",
   "execution_count": 37,
   "id": "cafe2fde",
   "metadata": {},
   "outputs": [],
   "source": [
    "###  This is the main dataframe\n",
    "micrographs_df =pd.read_sql_query(micrographs, conn)"
   ]
  },
  {
   "cell_type": "code",
   "execution_count": 42,
   "id": "1e00a414",
   "metadata": {},
   "outputs": [
    {
     "data": {
      "text/html": [
       "<div>\n",
       "<style scoped>\n",
       "    .dataframe tbody tr th:only-of-type {\n",
       "        vertical-align: middle;\n",
       "    }\n",
       "\n",
       "    .dataframe tbody tr th {\n",
       "        vertical-align: top;\n",
       "    }\n",
       "\n",
       "    .dataframe thead th {\n",
       "        text-align: right;\n",
       "    }\n",
       "</style>\n",
       "<table border=\"1\" class=\"dataframe\">\n",
       "  <thead>\n",
       "    <tr style=\"text-align: right;\">\n",
       "      <th></th>\n",
       "      <th>micrograph_id</th>\n",
       "      <th>path</th>\n",
       "      <th>micron_bar</th>\n",
       "      <th>micron_bar_units</th>\n",
       "      <th>micron_bar_px</th>\n",
       "      <th>magnification</th>\n",
       "      <th>detector</th>\n",
       "      <th>sample_key</th>\n",
       "      <th>contributor_key</th>\n",
       "      <th>primary_microconstituent</th>\n",
       "      <th>sample_id</th>\n",
       "      <th>label</th>\n",
       "      <th>anneal_time</th>\n",
       "      <th>anneal_time_unit</th>\n",
       "      <th>anneal_temperature</th>\n",
       "      <th>anneal_temp_unit</th>\n",
       "      <th>cool_method</th>\n",
       "    </tr>\n",
       "  </thead>\n",
       "  <tbody>\n",
       "    <tr>\n",
       "      <th>0</th>\n",
       "      <td>1</td>\n",
       "      <td>micrograph1.tif</td>\n",
       "      <td>5.0</td>\n",
       "      <td>um</td>\n",
       "      <td>129</td>\n",
       "      <td>4910x</td>\n",
       "      <td>SE</td>\n",
       "      <td>42</td>\n",
       "      <td>2</td>\n",
       "      <td>pearlite</td>\n",
       "      <td>42</td>\n",
       "      <td>ET Gyro</td>\n",
       "      <td>NaN</td>\n",
       "      <td>None</td>\n",
       "      <td>NaN</td>\n",
       "      <td>None</td>\n",
       "      <td>None</td>\n",
       "    </tr>\n",
       "    <tr>\n",
       "      <th>1</th>\n",
       "      <td>2</td>\n",
       "      <td>micrograph2.tif</td>\n",
       "      <td>10.0</td>\n",
       "      <td>um</td>\n",
       "      <td>103</td>\n",
       "      <td>1964X</td>\n",
       "      <td>SE</td>\n",
       "      <td>18</td>\n",
       "      <td>2</td>\n",
       "      <td>spheroidite</td>\n",
       "      <td>18</td>\n",
       "      <td>AC1 800C 85H WQ</td>\n",
       "      <td>85.0</td>\n",
       "      <td>H</td>\n",
       "      <td>800.0</td>\n",
       "      <td>C</td>\n",
       "      <td>WQ</td>\n",
       "    </tr>\n",
       "    <tr>\n",
       "      <th>2</th>\n",
       "      <td>4</td>\n",
       "      <td>micrograph4.tif</td>\n",
       "      <td>10.0</td>\n",
       "      <td>um</td>\n",
       "      <td>129</td>\n",
       "      <td>None</td>\n",
       "      <td>SE</td>\n",
       "      <td>35</td>\n",
       "      <td>2</td>\n",
       "      <td>pearlite+spheroidite</td>\n",
       "      <td>35</td>\n",
       "      <td>AC1 970C 90M FC</td>\n",
       "      <td>90.0</td>\n",
       "      <td>M</td>\n",
       "      <td>970.0</td>\n",
       "      <td>C</td>\n",
       "      <td>FC</td>\n",
       "    </tr>\n",
       "    <tr>\n",
       "      <th>3</th>\n",
       "      <td>5</td>\n",
       "      <td>micrograph5.tif</td>\n",
       "      <td>5.0</td>\n",
       "      <td>um</td>\n",
       "      <td>129</td>\n",
       "      <td>4910X</td>\n",
       "      <td>SE</td>\n",
       "      <td>10</td>\n",
       "      <td>2</td>\n",
       "      <td>pearlite</td>\n",
       "      <td>10</td>\n",
       "      <td>AC1 750C 5M WQ</td>\n",
       "      <td>5.0</td>\n",
       "      <td>M</td>\n",
       "      <td>750.0</td>\n",
       "      <td>C</td>\n",
       "      <td>WQ</td>\n",
       "    </tr>\n",
       "    <tr>\n",
       "      <th>4</th>\n",
       "      <td>6</td>\n",
       "      <td>micrograph6.tif</td>\n",
       "      <td>20.0</td>\n",
       "      <td>um</td>\n",
       "      <td>124</td>\n",
       "      <td>1178X</td>\n",
       "      <td>SE</td>\n",
       "      <td>29</td>\n",
       "      <td>2</td>\n",
       "      <td>spheroidite</td>\n",
       "      <td>29</td>\n",
       "      <td>AC1 970C 90M AR</td>\n",
       "      <td>90.0</td>\n",
       "      <td>M</td>\n",
       "      <td>970.0</td>\n",
       "      <td>C</td>\n",
       "      <td>AR</td>\n",
       "    </tr>\n",
       "  </tbody>\n",
       "</table>\n",
       "</div>"
      ],
      "text/plain": [
       "   micrograph_id             path  micron_bar micron_bar_units  micron_bar_px  \\\n",
       "0              1  micrograph1.tif         5.0               um            129   \n",
       "1              2  micrograph2.tif        10.0               um            103   \n",
       "2              4  micrograph4.tif        10.0               um            129   \n",
       "3              5  micrograph5.tif         5.0               um            129   \n",
       "4              6  micrograph6.tif        20.0               um            124   \n",
       "\n",
       "  magnification detector  sample_key  contributor_key  \\\n",
       "0         4910x       SE          42                2   \n",
       "1         1964X       SE          18                2   \n",
       "2          None       SE          35                2   \n",
       "3         4910X       SE          10                2   \n",
       "4         1178X       SE          29                2   \n",
       "\n",
       "  primary_microconstituent  sample_id            label  anneal_time  \\\n",
       "0                 pearlite         42          ET Gyro          NaN   \n",
       "1              spheroidite         18  AC1 800C 85H WQ         85.0   \n",
       "2     pearlite+spheroidite         35  AC1 970C 90M FC         90.0   \n",
       "3                 pearlite         10   AC1 750C 5M WQ          5.0   \n",
       "4              spheroidite         29  AC1 970C 90M AR         90.0   \n",
       "\n",
       "  anneal_time_unit  anneal_temperature anneal_temp_unit cool_method  \n",
       "0             None                 NaN             None        None  \n",
       "1                H               800.0                C          WQ  \n",
       "2                M               970.0                C          FC  \n",
       "3                M               750.0                C          WQ  \n",
       "4                M               970.0                C          AR  "
      ]
     },
     "execution_count": 42,
     "metadata": {},
     "output_type": "execute_result"
    }
   ],
   "source": [
    "\n",
    "micrographs_df.head()"
   ]
  },
  {
   "cell_type": "markdown",
   "id": "c96af19f",
   "metadata": {},
   "source": [
    "Above we see that the main features are:\\\n",
    "&emsp; magnification\\\n",
    "&emsp; primary_microconstituent\\\n",
    "&emsp; anneal_time (along with anneal_time_unit)\\\n",
    "&emsp; anneal_temp\\\n",
    "&emsp; cool_method\n",
    "    "
   ]
  },
  {
   "cell_type": "markdown",
   "id": "0dee4094",
   "metadata": {},
   "source": [
    "### Custom Transformers for Data Preprocessing\n",
    "\n",
    "The anneal time is in minutes and hours, and we will convert evething to minutes.\\\n",
    "The anneal temperature is Celsius which is bad for scaling so we will convert to Kelvin"
   ]
  },
  {
   "cell_type": "code",
   "execution_count": 38,
   "id": "84db24da",
   "metadata": {},
   "outputs": [],
   "source": [
    "from sklearn.base import BaseEstimator,TransformerMixin"
   ]
  },
  {
   "cell_type": "code",
   "execution_count": 53,
   "id": "6a56fe96",
   "metadata": {},
   "outputs": [],
   "source": [
    "class ToKelvin(BaseEstimator, TransformerMixin):\n",
    "    \n",
    "    def fit(self, X, y= None):\n",
    "        return self\n",
    "        \n",
    "    def transform(self, X, y = None):\n",
    "        return X + 273.15\n",
    "    "
   ]
  },
  {
   "cell_type": "code",
   "execution_count": 54,
   "id": "e2932b99",
   "metadata": {},
   "outputs": [],
   "source": [
    "class ToMinute(BaseEstimator, TransformerMixin):\n",
    "    \n",
    "    def __init__(self, dataseries):\n",
    "        self.dataseries = dataseries\n",
    "        self.multi = self.dataseries.apply(self._M_to_K)\n",
    "        \n",
    "    def _M_to_K(self, char):\n",
    "        if char == 'H':\n",
    "            return 60\n",
    "        if char == 'M':\n",
    "            return 1\n",
    "        else: \n",
    "            return 0\n",
    "        \n",
    "    def fit(self,X,y = None):\n",
    "        return self\n",
    "    \n",
    "    \n",
    "    def transform(self, X, y = None):\n",
    "        \n",
    "        return X*self.multi\n",
    "    "
   ]
  },
  {
   "cell_type": "markdown",
   "id": "1ee9d918",
   "metadata": {},
   "source": [
    "## This is our main preprocssing dataframe"
   ]
  },
  {
   "cell_type": "code",
   "execution_count": 75,
   "id": "3a6588c4",
   "metadata": {},
   "outputs": [],
   "source": [
    "###  This is our main data frame before preprocessing\n",
    "\n",
    "preprocess_micrographs_df = micrographs_df[['path',\n",
    "                                 'sample_id',\n",
    "                                 'anneal_time',\n",
    "                                 'anneal_time_unit',\n",
    "                                 'anneal_temperature'\n",
    "                                ]]"
   ]
  },
  {
   "cell_type": "code",
   "execution_count": 76,
   "id": "45bd5b48",
   "metadata": {},
   "outputs": [
    {
     "name": "stderr",
     "output_type": "stream",
     "text": [
      "C:\\Users\\Owner\\AppData\\Local\\Temp\\ipykernel_3600\\2128548814.py:3: SettingWithCopyWarning: \n",
      "A value is trying to be set on a copy of a slice from a DataFrame.\n",
      "Try using .loc[row_indexer,col_indexer] = value instead\n",
      "\n",
      "See the caveats in the documentation: https://pandas.pydata.org/pandas-docs/stable/user_guide/indexing.html#returning-a-view-versus-a-copy\n",
      "  preprocess_micrographs_df['anneal_temperature_Kelvin'] = preprocess_micrographs_df['anneal_temperature'] + 273.15\n"
     ]
    }
   ],
   "source": [
    "#convert to Kelvin\n",
    "\n",
    "preprocess_micrographs_df['anneal_temperature_Kelvin'] = preprocess_micrographs_df['anneal_temperature'] + 273.15"
   ]
  },
  {
   "cell_type": "code",
   "execution_count": 84,
   "id": "3379fc4c",
   "metadata": {
    "scrolled": true
   },
   "outputs": [
    {
     "data": {
      "text/html": [
       "<div>\n",
       "<style scoped>\n",
       "    .dataframe tbody tr th:only-of-type {\n",
       "        vertical-align: middle;\n",
       "    }\n",
       "\n",
       "    .dataframe tbody tr th {\n",
       "        vertical-align: top;\n",
       "    }\n",
       "\n",
       "    .dataframe thead th {\n",
       "        text-align: right;\n",
       "    }\n",
       "</style>\n",
       "<table border=\"1\" class=\"dataframe\">\n",
       "  <thead>\n",
       "    <tr style=\"text-align: right;\">\n",
       "      <th></th>\n",
       "      <th>path</th>\n",
       "      <th>sample_id</th>\n",
       "      <th>anneal_time</th>\n",
       "      <th>anneal_time_unit</th>\n",
       "      <th>anneal_temperature</th>\n",
       "      <th>anneal_temperature_Kelvin</th>\n",
       "      <th>anneal_time_minutes</th>\n",
       "    </tr>\n",
       "  </thead>\n",
       "  <tbody>\n",
       "    <tr>\n",
       "      <th>0</th>\n",
       "      <td>micrograph1.tif</td>\n",
       "      <td>42</td>\n",
       "      <td>NaN</td>\n",
       "      <td>None</td>\n",
       "      <td>NaN</td>\n",
       "      <td>NaN</td>\n",
       "      <td>NaN</td>\n",
       "    </tr>\n",
       "    <tr>\n",
       "      <th>1</th>\n",
       "      <td>micrograph2.tif</td>\n",
       "      <td>18</td>\n",
       "      <td>85.0</td>\n",
       "      <td>H</td>\n",
       "      <td>800.0</td>\n",
       "      <td>1073.15</td>\n",
       "      <td>5100.0</td>\n",
       "    </tr>\n",
       "    <tr>\n",
       "      <th>2</th>\n",
       "      <td>micrograph4.tif</td>\n",
       "      <td>35</td>\n",
       "      <td>90.0</td>\n",
       "      <td>M</td>\n",
       "      <td>970.0</td>\n",
       "      <td>1243.15</td>\n",
       "      <td>90.0</td>\n",
       "    </tr>\n",
       "    <tr>\n",
       "      <th>3</th>\n",
       "      <td>micrograph5.tif</td>\n",
       "      <td>10</td>\n",
       "      <td>5.0</td>\n",
       "      <td>M</td>\n",
       "      <td>750.0</td>\n",
       "      <td>1023.15</td>\n",
       "      <td>5.0</td>\n",
       "    </tr>\n",
       "    <tr>\n",
       "      <th>4</th>\n",
       "      <td>micrograph6.tif</td>\n",
       "      <td>29</td>\n",
       "      <td>90.0</td>\n",
       "      <td>M</td>\n",
       "      <td>970.0</td>\n",
       "      <td>1243.15</td>\n",
       "      <td>90.0</td>\n",
       "    </tr>\n",
       "  </tbody>\n",
       "</table>\n",
       "</div>"
      ],
      "text/plain": [
       "              path  sample_id  anneal_time anneal_time_unit  \\\n",
       "0  micrograph1.tif         42          NaN             None   \n",
       "1  micrograph2.tif         18         85.0                H   \n",
       "2  micrograph4.tif         35         90.0                M   \n",
       "3  micrograph5.tif         10          5.0                M   \n",
       "4  micrograph6.tif         29         90.0                M   \n",
       "\n",
       "   anneal_temperature  anneal_temperature_Kelvin  anneal_time_minutes  \n",
       "0                 NaN                        NaN                  NaN  \n",
       "1               800.0                    1073.15               5100.0  \n",
       "2               970.0                    1243.15                 90.0  \n",
       "3               750.0                    1023.15                  5.0  \n",
       "4               970.0                    1243.15                 90.0  "
      ]
     },
     "execution_count": 84,
     "metadata": {},
     "output_type": "execute_result"
    }
   ],
   "source": [
    "preprocess_micrographs_df.head()"
   ]
  },
  {
   "cell_type": "code",
   "execution_count": 82,
   "id": "064e16e3",
   "metadata": {
    "scrolled": true
   },
   "outputs": [
    {
     "name": "stderr",
     "output_type": "stream",
     "text": [
      "C:\\Users\\Owner\\AppData\\Local\\Temp\\ipykernel_3600\\1233792887.py:2: SettingWithCopyWarning: \n",
      "A value is trying to be set on a copy of a slice from a DataFrame.\n",
      "Try using .loc[row_indexer,col_indexer] = value instead\n",
      "\n",
      "See the caveats in the documentation: https://pandas.pydata.org/pandas-docs/stable/user_guide/indexing.html#returning-a-view-versus-a-copy\n",
      "  preprocess_micrographs_df['anneal_time_minutes'] = to_minute.transform(preprocess_micrographs_df['anneal_time'])\n"
     ]
    }
   ],
   "source": [
    "to_minute = ToMinute(preprocess_micrographs_df['anneal_time_unit'])\n",
    "preprocess_micrographs_df['anneal_time_minutes'] = to_minute.transform(preprocess_micrographs_df['anneal_time'])"
   ]
  },
  {
   "cell_type": "markdown",
   "id": "9232084a",
   "metadata": {},
   "source": [
    "## This is our main data frame"
   ]
  },
  {
   "cell_type": "code",
   "execution_count": 88,
   "id": "6ab4a977",
   "metadata": {},
   "outputs": [],
   "source": [
    "# this is our main micrograph data frame. \n",
    "# It contains the file paths, sample_ids (for balancing), temerature in Kelvin, and time in minutes\n",
    "\n",
    "main_micrographs_df = preprocess_micrographs_df[['path',\n",
    "                                                 'sample_id', \n",
    "                                                 'anneal_temperature_Kelvin', \n",
    "                                                 'anneal_time_minutes']]"
   ]
  },
  {
   "cell_type": "code",
   "execution_count": 89,
   "id": "f4a3a5c0",
   "metadata": {
    "scrolled": true
   },
   "outputs": [
    {
     "data": {
      "text/html": [
       "<div>\n",
       "<style scoped>\n",
       "    .dataframe tbody tr th:only-of-type {\n",
       "        vertical-align: middle;\n",
       "    }\n",
       "\n",
       "    .dataframe tbody tr th {\n",
       "        vertical-align: top;\n",
       "    }\n",
       "\n",
       "    .dataframe thead th {\n",
       "        text-align: right;\n",
       "    }\n",
       "</style>\n",
       "<table border=\"1\" class=\"dataframe\">\n",
       "  <thead>\n",
       "    <tr style=\"text-align: right;\">\n",
       "      <th></th>\n",
       "      <th>path</th>\n",
       "      <th>sample_id</th>\n",
       "      <th>anneal_temperature_Kelvin</th>\n",
       "      <th>anneal_time_minutes</th>\n",
       "    </tr>\n",
       "  </thead>\n",
       "  <tbody>\n",
       "    <tr>\n",
       "      <th>0</th>\n",
       "      <td>micrograph1.tif</td>\n",
       "      <td>42</td>\n",
       "      <td>NaN</td>\n",
       "      <td>NaN</td>\n",
       "    </tr>\n",
       "    <tr>\n",
       "      <th>1</th>\n",
       "      <td>micrograph2.tif</td>\n",
       "      <td>18</td>\n",
       "      <td>1073.15</td>\n",
       "      <td>5100.0</td>\n",
       "    </tr>\n",
       "    <tr>\n",
       "      <th>2</th>\n",
       "      <td>micrograph4.tif</td>\n",
       "      <td>35</td>\n",
       "      <td>1243.15</td>\n",
       "      <td>90.0</td>\n",
       "    </tr>\n",
       "    <tr>\n",
       "      <th>3</th>\n",
       "      <td>micrograph5.tif</td>\n",
       "      <td>10</td>\n",
       "      <td>1023.15</td>\n",
       "      <td>5.0</td>\n",
       "    </tr>\n",
       "    <tr>\n",
       "      <th>4</th>\n",
       "      <td>micrograph6.tif</td>\n",
       "      <td>29</td>\n",
       "      <td>1243.15</td>\n",
       "      <td>90.0</td>\n",
       "    </tr>\n",
       "  </tbody>\n",
       "</table>\n",
       "</div>"
      ],
      "text/plain": [
       "              path  sample_id  anneal_temperature_Kelvin  anneal_time_minutes\n",
       "0  micrograph1.tif         42                        NaN                  NaN\n",
       "1  micrograph2.tif         18                    1073.15               5100.0\n",
       "2  micrograph4.tif         35                    1243.15                 90.0\n",
       "3  micrograph5.tif         10                    1023.15                  5.0\n",
       "4  micrograph6.tif         29                    1243.15                 90.0"
      ]
     },
     "execution_count": 89,
     "metadata": {},
     "output_type": "execute_result"
    }
   ],
   "source": [
    "main_micrographs_df.head()"
   ]
  },
  {
   "cell_type": "markdown",
   "id": "a270e99c",
   "metadata": {},
   "source": [
    "## Train-Test Split \n",
    "\n",
    "We are splitting on sample_id with a stratified split to deal with imbalances.\n",
    "\n"
   ]
  },
  {
   "cell_type": "code",
   "execution_count": 91,
   "id": "713953fc",
   "metadata": {},
   "outputs": [],
   "source": [
    "from sklearn.model_selection import train_test_split"
   ]
  },
  {
   "cell_type": "code",
   "execution_count": 96,
   "id": "16868b91",
   "metadata": {},
   "outputs": [],
   "source": [
    "train_main, test_main = train_test_split(main_micrographs_df, test_size = 0.1, stratify = main_micrographs_df['sample_id'])"
   ]
  },
  {
   "cell_type": "markdown",
   "id": "51790647",
   "metadata": {},
   "source": [
    "Replace NaN with 'Not Annealed' Label for classification task."
   ]
  },
  {
   "cell_type": "code",
   "execution_count": 93,
   "id": "46bacf95",
   "metadata": {},
   "outputs": [],
   "source": [
    "train_class = train_main.copy().fillna('Not Annealed')\n",
    "test_class = test_main.copy().fillna('Not Annealed')"
   ]
  },
  {
   "cell_type": "markdown",
   "id": "9a097af2",
   "metadata": {},
   "source": [
    "Drop Nan rows for regression tastk"
   ]
  },
  {
   "cell_type": "code",
   "execution_count": 114,
   "id": "90b6e1a1",
   "metadata": {},
   "outputs": [],
   "source": [
    "train_regression_preweight = train_main.copy().dropna()\n",
    "test_regressioin_preweight = test_main.copy().dropna()"
   ]
  },
  {
   "cell_type": "markdown",
   "id": "f6b93d2f",
   "metadata": {},
   "source": [
    "## Class Weights and StandardScaler"
   ]
  },
  {
   "cell_type": "code",
   "execution_count": 101,
   "id": "fe826ec3",
   "metadata": {},
   "outputs": [],
   "source": [
    "from sklearn.preprocessing import StandardScaler\n",
    "from sklearn.utils.class_weight import compute_class_weight"
   ]
  },
  {
   "cell_type": "code",
   "execution_count": null,
   "id": "ac190301",
   "metadata": {},
   "outputs": [],
   "source": [
    "class_weights = compute_class_weight(class_weight = 'balanced',\n",
    "                                     classes = train_class['sample_id'].unique(),\n",
    "                                     y = train_class['sample_id'])\n",
    "\n",
    "CLASS_WEIGHTS = dict(zip(train_class['sample_id'].unique(),class_weights))"
   ]
  },
  {
   "cell_type": "markdown",
   "id": "bfaad982",
   "metadata": {},
   "source": [
    "For Regression we use sample weights on 'sample_id' and the StandardsScaler on temperature and time"
   ]
  },
  {
   "cell_type": "code",
   "execution_count": 115,
   "id": "8dfba735",
   "metadata": {},
   "outputs": [],
   "source": [
    "sample_weights = compute_class_weight(class_weight = 'balanced',\n",
    "                                     classes = train_regression_preweight['sample_id'].unique(),\n",
    "                                     y = train_regression_preweight['sample_id'])\n",
    "\n",
    "SAMPLE_WEIGHTS = pd.DataFrame(zip(train_regression_preweight['sample_id'].unique(),sample_weights), columns = ['sample_id','sample_weights'])"
   ]
  },
  {
   "cell_type": "code",
   "execution_count": 116,
   "id": "1311b3e6",
   "metadata": {},
   "outputs": [],
   "source": [
    "train_regression = pd.merge(train_regression_preweight, SAMPLE_WEIGHTS, on = 'sample_id')"
   ]
  },
  {
   "cell_type": "code",
   "execution_count": 117,
   "id": "6299d87a",
   "metadata": {},
   "outputs": [
    {
     "data": {
      "text/html": [
       "<div>\n",
       "<style scoped>\n",
       "    .dataframe tbody tr th:only-of-type {\n",
       "        vertical-align: middle;\n",
       "    }\n",
       "\n",
       "    .dataframe tbody tr th {\n",
       "        vertical-align: top;\n",
       "    }\n",
       "\n",
       "    .dataframe thead th {\n",
       "        text-align: right;\n",
       "    }\n",
       "</style>\n",
       "<table border=\"1\" class=\"dataframe\">\n",
       "  <thead>\n",
       "    <tr style=\"text-align: right;\">\n",
       "      <th></th>\n",
       "      <th>path</th>\n",
       "      <th>sample_id</th>\n",
       "      <th>anneal_temperature_Kelvin</th>\n",
       "      <th>anneal_time_minutes</th>\n",
       "      <th>sample_weights</th>\n",
       "    </tr>\n",
       "  </thead>\n",
       "  <tbody>\n",
       "    <tr>\n",
       "      <th>0</th>\n",
       "      <td>micrograph1694.tif</td>\n",
       "      <td>38</td>\n",
       "      <td>1243.15</td>\n",
       "      <td>5.0</td>\n",
       "      <td>1.451351</td>\n",
       "    </tr>\n",
       "    <tr>\n",
       "      <th>1</th>\n",
       "      <td>micrograph1003.tif</td>\n",
       "      <td>38</td>\n",
       "      <td>1243.15</td>\n",
       "      <td>5.0</td>\n",
       "      <td>1.451351</td>\n",
       "    </tr>\n",
       "    <tr>\n",
       "      <th>2</th>\n",
       "      <td>micrograph1013.tif</td>\n",
       "      <td>38</td>\n",
       "      <td>1243.15</td>\n",
       "      <td>5.0</td>\n",
       "      <td>1.451351</td>\n",
       "    </tr>\n",
       "    <tr>\n",
       "      <th>3</th>\n",
       "      <td>micrograph1586.tif</td>\n",
       "      <td>38</td>\n",
       "      <td>1243.15</td>\n",
       "      <td>5.0</td>\n",
       "      <td>1.451351</td>\n",
       "    </tr>\n",
       "    <tr>\n",
       "      <th>4</th>\n",
       "      <td>micrograph286.tif</td>\n",
       "      <td>38</td>\n",
       "      <td>1243.15</td>\n",
       "      <td>5.0</td>\n",
       "      <td>1.451351</td>\n",
       "    </tr>\n",
       "    <tr>\n",
       "      <th>...</th>\n",
       "      <td>...</td>\n",
       "      <td>...</td>\n",
       "      <td>...</td>\n",
       "      <td>...</td>\n",
       "      <td>...</td>\n",
       "    </tr>\n",
       "    <tr>\n",
       "      <th>532</th>\n",
       "      <td>micrograph1063.tif</td>\n",
       "      <td>22</td>\n",
       "      <td>1173.15</td>\n",
       "      <td>5.0</td>\n",
       "      <td>7.256757</td>\n",
       "    </tr>\n",
       "    <tr>\n",
       "      <th>533</th>\n",
       "      <td>micrograph218.tif</td>\n",
       "      <td>10</td>\n",
       "      <td>1023.15</td>\n",
       "      <td>5.0</td>\n",
       "      <td>3.628378</td>\n",
       "    </tr>\n",
       "    <tr>\n",
       "      <th>534</th>\n",
       "      <td>micrograph5.tif</td>\n",
       "      <td>10</td>\n",
       "      <td>1023.15</td>\n",
       "      <td>5.0</td>\n",
       "      <td>3.628378</td>\n",
       "    </tr>\n",
       "    <tr>\n",
       "      <th>535</th>\n",
       "      <td>micrograph301.tif</td>\n",
       "      <td>10</td>\n",
       "      <td>1023.15</td>\n",
       "      <td>5.0</td>\n",
       "      <td>3.628378</td>\n",
       "    </tr>\n",
       "    <tr>\n",
       "      <th>536</th>\n",
       "      <td>micrograph247.tif</td>\n",
       "      <td>10</td>\n",
       "      <td>1023.15</td>\n",
       "      <td>5.0</td>\n",
       "      <td>3.628378</td>\n",
       "    </tr>\n",
       "  </tbody>\n",
       "</table>\n",
       "<p>537 rows × 5 columns</p>\n",
       "</div>"
      ],
      "text/plain": [
       "                   path  sample_id  anneal_temperature_Kelvin  \\\n",
       "0    micrograph1694.tif         38                    1243.15   \n",
       "1    micrograph1003.tif         38                    1243.15   \n",
       "2    micrograph1013.tif         38                    1243.15   \n",
       "3    micrograph1586.tif         38                    1243.15   \n",
       "4     micrograph286.tif         38                    1243.15   \n",
       "..                  ...        ...                        ...   \n",
       "532  micrograph1063.tif         22                    1173.15   \n",
       "533   micrograph218.tif         10                    1023.15   \n",
       "534     micrograph5.tif         10                    1023.15   \n",
       "535   micrograph301.tif         10                    1023.15   \n",
       "536   micrograph247.tif         10                    1023.15   \n",
       "\n",
       "     anneal_time_minutes  sample_weights  \n",
       "0                    5.0        1.451351  \n",
       "1                    5.0        1.451351  \n",
       "2                    5.0        1.451351  \n",
       "3                    5.0        1.451351  \n",
       "4                    5.0        1.451351  \n",
       "..                   ...             ...  \n",
       "532                  5.0        7.256757  \n",
       "533                  5.0        3.628378  \n",
       "534                  5.0        3.628378  \n",
       "535                  5.0        3.628378  \n",
       "536                  5.0        3.628378  \n",
       "\n",
       "[537 rows x 5 columns]"
      ]
     },
     "execution_count": 117,
     "metadata": {},
     "output_type": "execute_result"
    }
   ],
   "source": [
    "train_regression"
   ]
  },
  {
   "cell_type": "code",
   "execution_count": 494,
   "id": "da0ceb2a",
   "metadata": {
    "scrolled": true
   },
   "outputs": [
    {
     "name": "stderr",
     "output_type": "stream",
     "text": [
      "C:\\Users\\Owner\\AppData\\Local\\Temp\\ipykernel_22316\\232795710.py:3: SettingWithCopyWarning: \n",
      "A value is trying to be set on a copy of a slice from a DataFrame.\n",
      "Try using .loc[row_indexer,col_indexer] = value instead\n",
      "\n",
      "See the caveats in the documentation: https://pandas.pydata.org/pandas-docs/stable/user_guide/indexing.html#returning-a-view-versus-a-copy\n",
      "  m_a_trunc[['anneal_time_minutes', 'anneal_temperature']] = scaler.fit_transform(m_a_trunc[['anneal_time_minutes', 'anneal_temperature']] )\n"
     ]
    }
   ],
   "source": [
    "scaler = StandardScaler()\n",
    "\n",
    "m_a_trunc[['anneal_time_minutes', 'anneal_temperature']] = scaler.fit_transform(m_a_trunc[['anneal_time_minutes', 'anneal_temperature']] )\n"
   ]
  },
  {
   "cell_type": "code",
   "execution_count": 495,
   "id": "0c34c0a1",
   "metadata": {
    "scrolled": true
   },
   "outputs": [
    {
     "data": {
      "text/html": [
       "<div>\n",
       "<style scoped>\n",
       "    .dataframe tbody tr th:only-of-type {\n",
       "        vertical-align: middle;\n",
       "    }\n",
       "\n",
       "    .dataframe tbody tr th {\n",
       "        vertical-align: top;\n",
       "    }\n",
       "\n",
       "    .dataframe thead th {\n",
       "        text-align: right;\n",
       "    }\n",
       "</style>\n",
       "<table border=\"1\" class=\"dataframe\">\n",
       "  <thead>\n",
       "    <tr style=\"text-align: right;\">\n",
       "      <th></th>\n",
       "      <th>path</th>\n",
       "      <th>anneal_time_minutes</th>\n",
       "      <th>anneal_temperature</th>\n",
       "    </tr>\n",
       "  </thead>\n",
       "  <tbody>\n",
       "    <tr>\n",
       "      <th>1</th>\n",
       "      <td>micrograph2.tif</td>\n",
       "      <td>3.917963</td>\n",
       "      <td>-1.439328</td>\n",
       "    </tr>\n",
       "    <tr>\n",
       "      <th>3</th>\n",
       "      <td>micrograph5.tif</td>\n",
       "      <td>-0.588127</td>\n",
       "      <td>-2.039617</td>\n",
       "    </tr>\n",
       "    <tr>\n",
       "      <th>4</th>\n",
       "      <td>micrograph6.tif</td>\n",
       "      <td>-0.512952</td>\n",
       "      <td>0.601656</td>\n",
       "    </tr>\n",
       "    <tr>\n",
       "      <th>5</th>\n",
       "      <td>micrograph7.tif</td>\n",
       "      <td>-0.512952</td>\n",
       "      <td>0.601656</td>\n",
       "    </tr>\n",
       "    <tr>\n",
       "      <th>7</th>\n",
       "      <td>micrograph9.tif</td>\n",
       "      <td>-0.512952</td>\n",
       "      <td>0.601656</td>\n",
       "    </tr>\n",
       "    <tr>\n",
       "      <th>...</th>\n",
       "      <td>...</td>\n",
       "      <td>...</td>\n",
       "      <td>...</td>\n",
       "    </tr>\n",
       "    <tr>\n",
       "      <th>792</th>\n",
       "      <td>micrograph1716.tif</td>\n",
       "      <td>3.917963</td>\n",
       "      <td>-1.439328</td>\n",
       "    </tr>\n",
       "    <tr>\n",
       "      <th>795</th>\n",
       "      <td>micrograph1720.tif</td>\n",
       "      <td>0.681007</td>\n",
       "      <td>-1.439328</td>\n",
       "    </tr>\n",
       "    <tr>\n",
       "      <th>797</th>\n",
       "      <td>micrograph1722.tif</td>\n",
       "      <td>0.681007</td>\n",
       "      <td>0.601656</td>\n",
       "    </tr>\n",
       "    <tr>\n",
       "      <th>799</th>\n",
       "      <td>micrograph1726.tif</td>\n",
       "      <td>-0.588127</td>\n",
       "      <td>0.601656</td>\n",
       "    </tr>\n",
       "    <tr>\n",
       "      <th>800</th>\n",
       "      <td>micrograph1730.png</td>\n",
       "      <td>-0.512952</td>\n",
       "      <td>0.601656</td>\n",
       "    </tr>\n",
       "  </tbody>\n",
       "</table>\n",
       "<p>527 rows × 3 columns</p>\n",
       "</div>"
      ],
      "text/plain": [
       "                   path  anneal_time_minutes  anneal_temperature\n",
       "1       micrograph2.tif             3.917963           -1.439328\n",
       "3       micrograph5.tif            -0.588127           -2.039617\n",
       "4       micrograph6.tif            -0.512952            0.601656\n",
       "5       micrograph7.tif            -0.512952            0.601656\n",
       "7       micrograph9.tif            -0.512952            0.601656\n",
       "..                  ...                  ...                 ...\n",
       "792  micrograph1716.tif             3.917963           -1.439328\n",
       "795  micrograph1720.tif             0.681007           -1.439328\n",
       "797  micrograph1722.tif             0.681007            0.601656\n",
       "799  micrograph1726.tif            -0.588127            0.601656\n",
       "800  micrograph1730.png            -0.512952            0.601656\n",
       "\n",
       "[527 rows x 3 columns]"
      ]
     },
     "execution_count": 495,
     "metadata": {},
     "output_type": "execute_result"
    }
   ],
   "source": [
    "m_a_trunc"
   ]
  },
  {
   "cell_type": "code",
   "execution_count": null,
   "id": "5a8090e0",
   "metadata": {},
   "outputs": [],
   "source": []
  },
  {
   "cell_type": "code",
   "execution_count": null,
   "id": "4962af63",
   "metadata": {},
   "outputs": [],
   "source": []
  },
  {
   "cell_type": "code",
   "execution_count": 522,
   "id": "fa8b50fc",
   "metadata": {},
   "outputs": [],
   "source": []
  },
  {
   "cell_type": "markdown",
   "id": "9208847c",
   "metadata": {},
   "source": []
  },
  {
   "cell_type": "markdown",
   "id": "8158be1d",
   "metadata": {},
   "source": [
    "# Transfer Learning:  InceptionV3 Regeression model with stratified train test data\n"
   ]
  },
  {
   "cell_type": "code",
   "execution_count": null,
   "id": "8b59026d",
   "metadata": {},
   "outputs": [],
   "source": [
    "\n",
    "\n",
    "from tensorflow.keras.models import Sequential\n",
    "from tensorflow.keras.preprocessing.image import ImageDataGenerator\n",
    "\n",
    "\n",
    "from tensorflow.keras.callbacks import EarlyStopping\n",
    "from tensorflow.keras import layers\n",
    "\n",
    "from sklearn.metrics import classification_report"
   ]
  },
  {
   "cell_type": "code",
   "execution_count": 1457,
   "id": "b5b7afad",
   "metadata": {},
   "outputs": [],
   "source": [
    "R_X = 'path'\n",
    "R_Y = [ 'anneal_time_minutes','anneal_temperature']"
   ]
  },
  {
   "cell_type": "code",
   "execution_count": null,
   "id": "08803ce6",
   "metadata": {},
   "outputs": [],
   "source": []
  },
  {
   "cell_type": "code",
   "execution_count": null,
   "id": "8b37cbc0",
   "metadata": {},
   "outputs": [],
   "source": [
    "# do the sample weights by sample_id.  we make a column in the dataframe that containst the sampleweights"
   ]
  },
  {
   "cell_type": "code",
   "execution_count": 1470,
   "id": "7e445f6b",
   "metadata": {},
   "outputs": [
    {
     "name": "stdout",
     "output_type": "stream",
     "text": [
      "Found 495 validated image filenames.\n",
      "Found 32 validated image filenames.\n"
     ]
    }
   ],
   "source": [
    "train_regression = data_generator.flow_from_dataframe(dataframe = m_a_trunc,\n",
    "                                                directory = df_dir,\n",
    "                                                x_col = R_X,\n",
    "                                                y_col = R_Y,\n",
    "                                                class_mode= 'raw',\n",
    "                                                color_mode = 'rgb',\n",
    "                                                sample_weights = t_class_weights,\n",
    "                                                target_size = TARGET_SIZE,\n",
    "                                                batch_size = 32)\n",
    "\n",
    "validation_regression = validation_generator.flow_from_dataframe(dataframe = m_a_trunc,\n",
    "                                                directory = df_dir,\n",
    "                                                x_col = R_X,\n",
    "                                                y_col = R_Y,\n",
    "                                                class_mode = 'raw',\n",
    "                                                color_mode = 'rgb',\n",
    "                                                sample_weights = t_class_weights,\n",
    "                                                target_size = TARGET_SIZE,\n",
    "                                                batch_size = 32)"
   ]
  },
  {
   "cell_type": "code",
   "execution_count": 871,
   "id": "a0e01156",
   "metadata": {},
   "outputs": [],
   "source": [
    "inception = keras.applications.inception_v3.InceptionV3(include_top = False, weights = 'imagenet', input_shape = (256,256,3))"
   ]
  },
  {
   "cell_type": "code",
   "execution_count": 872,
   "id": "5a9b2e11",
   "metadata": {},
   "outputs": [],
   "source": [
    "for layer in inception.layers:\n",
    "    layer.trainable = False"
   ]
  },
  {
   "cell_type": "code",
   "execution_count": null,
   "id": "3dbce36a",
   "metadata": {},
   "outputs": [],
   "source": [
    "    \n",
    "def trans_reg_model_builder(training_data):\n",
    "    model = Sequential()\n",
    "    \n",
    "    model.add(tf.keras.Input(shape=(522,645,3)))\n",
    "    model.add(layers.Rescaling(scale = 1./255))\n",
    "    model.add(layers.Cropping2D(\n",
    "              cropping=((0, 40), (0, 0))\n",
    "                ))\n",
    "    \n",
    "    model.add(layers.RandomFlip())\n",
    "    model.add(layers.RandomRotation(factor = 0.4, \n",
    "                                    fill_mode = 'reflect'))\n",
    "    \n",
    "    model.add(layers.RandomZoom(.4,.2)\n",
    "    model.add(layers.RandomContrast(.2))          \n",
    "    model.add(layers.RandomCrop(256,256))\n",
    "    \n",
    "    model.add(inception)\n",
    "    model.add(layers.Flatten())\n",
    "    \n",
    "    \n",
    "    model.add(layers.Dense(500, activation = 'relu'))\n",
    "    \n",
    "    model.add(layers.Dropout(.3))\n",
    "    \n",
    "    model.add(layers.Dense(2))\n",
    "    \n",
    "    model.compile(optimizer = tf.keras.optimizers.SGD(learning_rate = .001),\n",
    "                loss ='mse',\n",
    "                metrics=[tf.keras.metrics.mean_squared_error]\n",
    "                 )\n",
    "    \n",
    "    model.summary()\n",
    "    return model"
   ]
  },
  {
   "cell_type": "code",
   "execution_count": 1565,
   "id": "65bc0990",
   "metadata": {
    "scrolled": true
   },
   "outputs": [
    {
     "name": "stdout",
     "output_type": "stream",
     "text": [
      "Model: \"sequential_199\"\n",
      "_________________________________________________________________\n",
      " Layer (type)                Output Shape              Param #   \n",
      "=================================================================\n",
      " center_crop_72 (CenterCrop  (None, 256, 256, 3)       0         \n",
      " )                                                               \n",
      "                                                                 \n",
      " inception_v3 (Functional)   (None, 6, 6, 2048)        21802784  \n",
      "                                                                 \n",
      " flatten_182 (Flatten)       (None, 73728)             0         \n",
      "                                                                 \n",
      " dense_454 (Dense)           (None, 500)               36864500  \n",
      "                                                                 \n",
      " dropout_412 (Dropout)       (None, 500)               0         \n",
      "                                                                 \n",
      " dense_455 (Dense)           (None, 2)                 1002      \n",
      "                                                                 \n",
      "=================================================================\n",
      "Total params: 58668286 (223.80 MB)\n",
      "Trainable params: 36865502 (140.63 MB)\n",
      "Non-trainable params: 21802784 (83.17 MB)\n",
      "_________________________________________________________________\n"
     ]
    }
   ],
   "source": [
    "trans_reg_model = trans_reg_model_builder(train_regression)\n"
   ]
  },
  {
   "cell_type": "code",
   "execution_count": 1568,
   "id": "5eb1449a",
   "metadata": {},
   "outputs": [],
   "source": [
    "mse_hist = mse_hist[1:]\n",
    "mse_valid_hist = mse_valid_hist[1:]"
   ]
  },
  {
   "cell_type": "code",
   "execution_count": null,
   "id": "08fb3bd1",
   "metadata": {
    "scrolled": true
   },
   "outputs": [
    {
     "name": "stdout",
     "output_type": "stream",
     "text": [
      "Loop:  1\n",
      "Found 431 validated image filenames.\n",
      "Found 96 validated image filenames.\n",
      "Epoch 1/5\n",
      "13/13 [==============================] - 44s 3s/step - loss: 0.2715 - mean_squared_error: 0.2715 - val_loss: 0.3230 - val_mean_squared_error: 0.3230\n",
      "Epoch 2/5\n",
      "13/13 [==============================] - 41s 3s/step - loss: 0.2806 - mean_squared_error: 0.2806 - val_loss: 0.3385 - val_mean_squared_error: 0.3385\n",
      "Epoch 3/5\n",
      "13/13 [==============================] - 43s 3s/step - loss: 0.2320 - mean_squared_error: 0.2320 - val_loss: 0.3644 - val_mean_squared_error: 0.3644\n",
      "Epoch 4/5\n",
      "13/13 [==============================] - 43s 3s/step - loss: 0.2236 - mean_squared_error: 0.2236 - val_loss: 0.3422 - val_mean_squared_error: 0.3422\n",
      "Epoch 5/5\n",
      "13/13 [==============================] - 42s 3s/step - loss: 0.2938 - mean_squared_error: 0.2938 - val_loss: 0.3710 - val_mean_squared_error: 0.3710\n",
      "Loop:  2\n",
      "Found 399 validated image filenames.\n",
      "Found 128 validated image filenames.\n",
      "Epoch 1/5\n",
      "12/12 [==============================] - 42s 3s/step - loss: 0.2992 - mean_squared_error: 0.2992 - val_loss: 0.3374 - val_mean_squared_error: 0.3374\n",
      "Epoch 2/5\n",
      "12/12 [==============================] - 41s 3s/step - loss: 0.2864 - mean_squared_error: 0.2864 - val_loss: 0.2915 - val_mean_squared_error: 0.2915\n",
      "Epoch 3/5\n",
      "12/12 [==============================] - 42s 3s/step - loss: 0.2663 - mean_squared_error: 0.2663 - val_loss: 0.2945 - val_mean_squared_error: 0.2945\n",
      "Epoch 4/5\n",
      "12/12 [==============================] - 30s 2s/step - loss: 0.2526 - mean_squared_error: 0.2526 - val_loss: 0.2787 - val_mean_squared_error: 0.2787\n",
      "Epoch 5/5\n",
      "12/12 [==============================] - 32s 3s/step - loss: 0.2058 - mean_squared_error: 0.2058 - val_loss: 0.2981 - val_mean_squared_error: 0.2981\n",
      "Loop:  3\n",
      "Found 495 validated image filenames.\n",
      "Found 32 validated image filenames.\n",
      "Epoch 1/5\n",
      "15/15 [==============================] - 48s 3s/step - loss: 0.2697 - mean_squared_error: 0.2697 - val_loss: 0.5343 - val_mean_squared_error: 0.5343\n",
      "Epoch 2/5\n",
      "15/15 [==============================] - 47s 3s/step - loss: 0.2746 - mean_squared_error: 0.2746 - val_loss: 0.5097 - val_mean_squared_error: 0.5097\n",
      "Epoch 3/5\n",
      "15/15 [==============================] - 45s 3s/step - loss: 0.2703 - mean_squared_error: 0.2703 - val_loss: 0.5410 - val_mean_squared_error: 0.5410\n",
      "Epoch 4/5\n",
      "15/15 [==============================] - 48s 3s/step - loss: 0.2840 - mean_squared_error: 0.2840 - val_loss: 0.5436 - val_mean_squared_error: 0.5436\n",
      "Epoch 5/5\n",
      "15/15 [==============================] - 48s 3s/step - loss: 0.2769 - mean_squared_error: 0.2769 - val_loss: 0.4907 - val_mean_squared_error: 0.4907\n",
      "Loop:  4\n",
      "Found 399 validated image filenames.\n",
      "Found 128 validated image filenames.\n",
      "Epoch 1/5\n",
      "12/12 [==============================] - 42s 3s/step - loss: 0.2803 - mean_squared_error: 0.2803 - val_loss: 0.3378 - val_mean_squared_error: 0.3378\n",
      "Epoch 2/5\n",
      "12/12 [==============================] - 42s 4s/step - loss: 0.2714 - mean_squared_error: 0.2714 - val_loss: 0.2673 - val_mean_squared_error: 0.2673\n",
      "Epoch 3/5\n",
      "12/12 [==============================] - 40s 3s/step - loss: 0.2713 - mean_squared_error: 0.2713 - val_loss: 0.2956 - val_mean_squared_error: 0.2956\n",
      "Epoch 4/5\n",
      "12/12 [==============================] - 42s 3s/step - loss: 0.2369 - mean_squared_error: 0.2369 - val_loss: 0.2875 - val_mean_squared_error: 0.2875\n",
      "Epoch 5/5\n",
      "12/12 [==============================] - 42s 3s/step - loss: 0.2482 - mean_squared_error: 0.2482 - val_loss: 0.2761 - val_mean_squared_error: 0.2761\n",
      "Loop:  5\n",
      "Found 399 validated image filenames.\n",
      "Found 128 validated image filenames.\n",
      "Epoch 1/5\n",
      "12/12 [==============================] - 40s 3s/step - loss: 0.2701 - mean_squared_error: 0.2701 - val_loss: 0.3361 - val_mean_squared_error: 0.3361\n",
      "Epoch 2/5\n",
      "12/12 [==============================] - 42s 3s/step - loss: 0.2492 - mean_squared_error: 0.2492 - val_loss: 0.2974 - val_mean_squared_error: 0.2974\n",
      "Epoch 3/5\n",
      "12/12 [==============================] - 42s 3s/step - loss: 0.2799 - mean_squared_error: 0.2799 - val_loss: 0.2748 - val_mean_squared_error: 0.2748\n",
      "Epoch 4/5\n",
      "12/12 [==============================] - 41s 3s/step - loss: 0.3269 - mean_squared_error: 0.3269 - val_loss: 0.3413 - val_mean_squared_error: 0.3413\n",
      "Epoch 5/5\n",
      "12/12 [==============================] - 43s 3s/step - loss: 0.2800 - mean_squared_error: 0.2800 - val_loss: 0.2789 - val_mean_squared_error: 0.2789\n",
      "Loop:  6\n",
      "Found 463 validated image filenames.\n",
      "Found 64 validated image filenames.\n",
      "Epoch 1/5\n",
      "14/14 [==============================] - 44s 3s/step - loss: 0.2393 - mean_squared_error: 0.2393 - val_loss: 0.4545 - val_mean_squared_error: 0.4545\n",
      "Epoch 2/5\n",
      "14/14 [==============================] - 45s 3s/step - loss: 0.2624 - mean_squared_error: 0.2624 - val_loss: 0.4423 - val_mean_squared_error: 0.4423\n",
      "Epoch 3/5\n",
      "14/14 [==============================] - 45s 3s/step - loss: 0.2695 - mean_squared_error: 0.2695 - val_loss: 0.3966 - val_mean_squared_error: 0.3966\n",
      "Epoch 4/5\n",
      "14/14 [==============================] - 43s 3s/step - loss: 0.2943 - mean_squared_error: 0.2943 - val_loss: 0.4262 - val_mean_squared_error: 0.4262\n",
      "Epoch 5/5\n",
      "14/14 [==============================] - 45s 3s/step - loss: 0.2634 - mean_squared_error: 0.2634 - val_loss: 0.4397 - val_mean_squared_error: 0.4397\n",
      "Loop:  7\n",
      "Found 463 validated image filenames.\n",
      "Found 64 validated image filenames.\n",
      "Epoch 1/5\n",
      "14/14 [==============================] - 43s 3s/step - loss: 0.2733 - mean_squared_error: 0.2733 - val_loss: 0.4146 - val_mean_squared_error: 0.4146\n",
      "Epoch 2/5\n",
      "14/14 [==============================] - 45s 3s/step - loss: 0.2601 - mean_squared_error: 0.2601 - val_loss: 0.4531 - val_mean_squared_error: 0.4531\n",
      "Epoch 3/5\n",
      "14/14 [==============================] - 45s 3s/step - loss: 0.2667 - mean_squared_error: 0.2667 - val_loss: 0.4642 - val_mean_squared_error: 0.4642\n",
      "Epoch 4/5\n",
      "14/14 [==============================] - 43s 3s/step - loss: 0.2326 - mean_squared_error: 0.2326 - val_loss: 0.4167 - val_mean_squared_error: 0.4167\n",
      "Epoch 5/5\n",
      "14/14 [==============================] - 45s 3s/step - loss: 0.2731 - mean_squared_error: 0.2731 - val_loss: 0.4925 - val_mean_squared_error: 0.4925\n",
      "Loop:  8\n",
      "Found 399 validated image filenames.\n",
      "Found 128 validated image filenames.\n",
      "Epoch 1/5\n",
      "12/12 [==============================] - 42s 3s/step - loss: 0.2543 - mean_squared_error: 0.2543 - val_loss: 0.3023 - val_mean_squared_error: 0.3023\n",
      "Epoch 2/5\n",
      "12/12 [==============================] - 42s 3s/step - loss: 0.2296 - mean_squared_error: 0.2296 - val_loss: 0.2892 - val_mean_squared_error: 0.2892\n",
      "Epoch 3/5\n",
      " 5/12 [===========>..................] - ETA: 18s - loss: 0.3968 - mean_squared_error: 0.3968"
     ]
    }
   ],
   "source": [
    "#mse_hist = []\n",
    "#mse_valid_hist = []\n",
    "\n",
    "\n",
    "reg_data_generator = ImageDataGenerator()\n",
    "\n",
    "reg_validation_generator = ImageDataGenerator()\n",
    "\n",
    "DIRECTORY = \"micrographs\"\n",
    "CLASS_MODE = 'categorical'\n",
    "COLOR_MODE = 'rbg'\n",
    "TARGET_SIZE = (645,522)\n",
    "BATCH_SIZE = 32\n",
    "\n",
    "    df_dir = 'micrographs'\n",
    "    DATAFRAME =  new_df#ohe_main_micrographs\n",
    "    XCOL =  'path'\n",
    "    YCOL = ['anneal_temperature']\n",
    "\n",
    "    df_train_tr = reg_data_generator.flow_from_dataframe(dataframe = m_a_trunc,\n",
    "                                                    directory = df_dir,\n",
    "                                                    x_col = R_X,\n",
    "                                                    y_col = R_Y,\n",
    "                                                    class_mode= 'raw',\n",
    "                                                    color_mode = 'rgb',\n",
    "                                                    subset = 'training',\n",
    "                                                    sample_weights = t_class_weights,\n",
    "                                                    target_size = TARGET_SIZE,\n",
    "                                                    batch_size = 32)\n",
    "\n",
    "    df_valid_tr = reg_validation_generator.flow_from_dataframe(dataframe = m_a_trunc,\n",
    "                                                    directory = df_dir,\n",
    "                                                    x_col = R_X,\n",
    "                                                    y_col = R_Y,\n",
    "                                                    class_mode = 'raw',\n",
    "                                                    color_mode = 'rgb',\n",
    "                                                    sample_weights = t_class_weights,\n",
    "                                                    target_size = TARGET_SIZE,\n",
    "                                                    batch_size = 32)\n",
    "\n",
    "\n",
    "\n",
    "\n",
    "    trans_reg_model_fit = trans_reg_model.fit(df_train_tr,\n",
    "                         steps_per_epoch = df_train_tr.samples/BATCH_SIZE,\n",
    "                         epochs = 5,\n",
    "                         validation_data = df_valid_tr,\n",
    "                         validation_steps = df_valid_tr.samples/BATCH_SIZE,\n",
    "                         callbacks = None #[early_stop]\n",
    "                         )\n",
    "    \n",
    "    mse_hist += trans_reg_model_fit.history['mean_squared_error']\n",
    "    mse_valid_hist +=trans_reg_model_fit.history['val_mean_squared_error']\n",
    "    "
   ]
  },
  {
   "cell_type": "code",
   "execution_count": 1582,
   "id": "1ff30829",
   "metadata": {
    "scrolled": true
   },
   "outputs": [
    {
     "data": {
      "text/plain": [
       "<function matplotlib.pyplot.show(close=None, block=None)>"
      ]
     },
     "execution_count": 1582,
     "metadata": {},
     "output_type": "execute_result"
    },
    {
     "data": {
      "image/png": "[encoded data removed]",
      "text/plain": [
       "<Figure size 640x480 with 1 Axes>"
      ]
     },
     "metadata": {},
     "output_type": "display_data"
    }
   ],
   "source": [
    "fig = plt.figure()\n",
    "\n",
    "ax1 = fig.add_subplot(1,1,1)\n",
    "ax1.plot(mse_hist)\n",
    "ax1.plot(mse_valid_hist)\n",
    "ax1.set_title('model mse')\n",
    "ax1.set_xlabel('epoch')\n",
    "ax1.set_ylabel('mse')\n",
    "ax1.legend(['training', 'validation'], loc = 'upper left')\n",
    "\n",
    "plt.show"
   ]
  },
  {
   "cell_type": "code",
   "execution_count": null,
   "id": "cf9b582f",
   "metadata": {},
   "outputs": [],
   "source": [
    "from sklearn.metrics import classification_report"
   ]
  },
  {
   "cell_type": "code",
   "execution_count": null,
   "id": "d32d2419",
   "metadata": {},
   "outputs": [],
   "source": [
    "#classification report \n",
    "\n",
    "test_steps_per_epoch = np.math.ceil(df_valid_it.samples / df_valid_it.batch_size)\n",
    "predictions = model_df.predict(df_valid_it, steps=test_steps_per_epoch)\n",
    "test_steps_per_epoch = np.math.ceil(df_valid_it.samples / df_valid_it.batch_size)\n",
    "predicted_classes = np.argmax(predictions, axis=1)\n",
    "true_classes = df_valid_it.classes\n",
    "class_labels = list(df_valid_it.class_indices.keys())\n",
    "report = classification_report(true_classes, predicted_classes, target_names=class_labels)\n",
    "print(report)   \n",
    "\n"
   ]
  },
  {
   "cell_type": "markdown",
   "id": "24b4466f",
   "metadata": {},
   "source": [
    "# Classification model with data augmentation in layers stratified train-test validation"
   ]
  },
  {
   "cell_type": "markdown",
   "id": "09455920",
   "metadata": {},
   "source": [
    "I'll be switching the data augmentation to the layers for the keras model rather than using the DataImageGeneartor\n"
   ]
  },
  {
   "cell_type": "code",
   "execution_count": null,
   "id": "38ce7cf3",
   "metadata": {},
   "outputs": [],
   "source": [
    "\n",
    "\n",
    "from tensorflow.keras.models import Sequential\n",
    "from tensorflow.keras.preprocessing.image import ImageDataGenerator\n",
    "\n",
    "\n",
    "from tensorflow.keras.callbacks import EarlyStopping\n",
    "from tensorflow.keras import layers"
   ]
  },
  {
   "cell_type": "code",
   "execution_count": null,
   "id": "dec7c170",
   "metadata": {},
   "outputs": [],
   "source": [
    "col_select = ['micrograph_id', 'anneal_time', 'anneal_time_unit', 'anneal_temperature']"
   ]
  },
  {
   "cell_type": "code",
   "execution_count": null,
   "id": "8890dd99",
   "metadata": {},
   "outputs": [],
   "source": [
    "to_min = ToMinutes(time_temp['anneal_time_unit'])\n",
    "anneal_time_minute = to_min.transform(time_temp['anneal_time'])"
   ]
  },
  {
   "cell_type": "code",
   "execution_count": null,
   "id": "6c08338b",
   "metadata": {},
   "outputs": [],
   "source": [
    "time_temp = m_s_pd[col_select]"
   ]
  },
  {
   "cell_type": "code",
   "execution_count": null,
   "id": "973b2ded",
   "metadata": {},
   "outputs": [],
   "source": [
    "time_temp.insert(2, 'anneal_time_minutes', anneal_time_minute,True)"
   ]
  },
  {
   "cell_type": "code",
   "execution_count": null,
   "id": "f2b2d65b",
   "metadata": {},
   "outputs": [],
   "source": [
    "time_temperature = time_temp[['micrograph_id','anneal_time_minutes','anneal_temperature']]\n"
   ]
  },
  {
   "cell_type": "code",
   "execution_count": null,
   "id": "917a7732",
   "metadata": {},
   "outputs": [],
   "source": []
  },
  {
   "cell_type": "code",
   "execution_count": null,
   "id": "2ccf1a18",
   "metadata": {},
   "outputs": [],
   "source": [
    "tt_df['tt_start'] = tt_df['anneal_time_minutes'].astype(str) + \"_\" + tt_df['anneal_temperature'].astype(str)"
   ]
  },
  {
   "cell_type": "code",
   "execution_count": null,
   "id": "9f6a94f6",
   "metadata": {},
   "outputs": [],
   "source": [
    "train, test = train_test_split(tt_df, test_size = 0.3, stratify = tt_df['tt_start'])"
   ]
  },
  {
   "cell_type": "markdown",
   "id": "a5e50173",
   "metadata": {},
   "source": [
    "class weighting using sklearn"
   ]
  },
  {
   "cell_type": "code",
   "execution_count": 3,
   "id": "c8371221",
   "metadata": {},
   "outputs": [],
   "source": []
  },
  {
   "cell_type": "code",
   "execution_count": null,
   "id": "beedb72e",
   "metadata": {},
   "outputs": [],
   "source": []
  },
  {
   "cell_type": "code",
   "execution_count": null,
   "id": "304d1bc1",
   "metadata": {},
   "outputs": [],
   "source": [
    "cw_dict = dict(zip(train['anneal_time_minutes'].unique(),class_weights))"
   ]
  },
  {
   "cell_type": "markdown",
   "id": "402ceacb",
   "metadata": {},
   "source": [
    "New Model Constructions\n"
   ]
  },
  {
   "cell_type": "markdown",
   "id": "a89a9b6d",
   "metadata": {},
   "source": [
    "preprocessing layers \\\n",
    "2D cropping layer \\\n",
    "rescaling (perhaps keep this in dataimagegenerator )\n",
    "\n",
    "\n",
    "data augmentation\\\n",
    "random crop\\\n",
    "random flip\\\n",
    "random trnslation\\\n",
    "random rotation\\\n",
    "random zoon\\\n",
    "random contrast\\"
   ]
  },
  {
   "cell_type": "code",
   "execution_count": 2,
   "id": "b73bfe71",
   "metadata": {},
   "outputs": [],
   "source": [
    "from sklearn.utils.class_weight import compute_class_weight\n",
    "from sklearn.model_selection import train_test_split\n",
    "from sklearn.metrics import classification_report"
   ]
  },
  {
   "cell_type": "code",
   "execution_count": null,
   "id": "4da37477",
   "metadata": {},
   "outputs": [],
   "source": [
    "tt_df = time_temperature.fillna('Not Annealed')"
   ]
  },
  {
   "cell_type": "code",
   "execution_count": null,
   "id": "bd0affa6",
   "metadata": {},
   "outputs": [],
   "source": [
    "class_weights = compute_class_weight(class_weight = 'balanced',\n",
    "                                     classes = train['anneal_time_minutes'].unique(),\n",
    "                                     y = train['anneal_time_minutes'])\n",
    "\n",
    "CLASS_WEIGHTS = dict(zip(train['anneal_time_minutes'].unique(),class_weights))"
   ]
  },
  {
   "cell_type": "code",
   "execution_count": null,
   "id": "238a894d",
   "metadata": {},
   "outputs": [],
   "source": [
    "\n",
    "\n",
    "data_generator = ImageDataGenerator(rescale = 1./255)\n",
    "\n",
    "validation_generator = ImageDataGenerator(rescale = 1./255)\n",
    "\n",
    "\n",
    "    \n",
    "BATCH_SIZE = 32\n",
    "DIRECTORY = \"micrographs\"\n",
    "DATAFRAME =  new_df#ohe_main_micrographs\n",
    "XCOL =  'path'\n",
    "YCOL = 'time_temperature'\n",
    "COLOR_MODE = 'rbg'\n",
    "TARGET_SIZE = (645,522)\n",
    "\n",
    "\n",
    "train_tt = data_generator.flow_from_dataframe(dataframe = DATAFRAME,\n",
    "                                              directory = DIRECTORY,\n",
    "                                              x_col = XCOL,\n",
    "                                              y_col = YCOL,\n",
    "                                              class_mode = 'categorical',\n",
    "                                              classes = tt_classes,\n",
    "                                              shuffle = True,\n",
    "                                              target_size = TARGET_SIZE,\n",
    "                                              sample_weights = CLASS_WEIGHTS,\n",
    "                                              batch_size = BATCH_SIZE)\n",
    "\n",
    "validation_tt = validation_generator.flow_from_dataframe(dataframe = DATAFRAME,\n",
    "                                                        directory = DIRECTORY,\n",
    "                                                        x_col = XCOL,\n",
    "                                                        y_col = YCOL,\n",
    "                                                        class_mode = 'categorical',\n",
    "                                                        classes = tt_classes,\n",
    "                                                        target_size = TARGET_SIZE,\n",
    "                                                        batch_size = BATCH_SIZE)\n",
    "\n",
    "\n",
    "\n"
   ]
  },
  {
   "cell_type": "code",
   "execution_count": null,
   "id": "f6665816",
   "metadata": {},
   "outputs": [],
   "source": [
    "def cat_model_builder(training_data):\n",
    "    model = Sequential()\n",
    "    \n",
    "    model.add(tf.keras.Input(shape=(522,645,3)))\n",
    "\n",
    "    model.add(layers.Rescaling(scale = 1./255))\n",
    "    model.add(layers.Cropping2D(cropping=((0, 40), (0, 0))))\n",
    "    \n",
    "    model.add(layers.RandomFlip())\n",
    "    model.add(layers.RandomRotation(factor = 0.4, \n",
    "                                    fill_mode = 'reflect'))\n",
    "    model.add(layers.RandomZoom(.4,.2)\n",
    "    model.add(layers.RandomContrast(.2))          \n",
    "    model.add(layers.RandomCrop(256,256))\n",
    "    \n",
    "    \n",
    "    model.add(inception)\n",
    "    \n",
    "    model.add(layers.Flatten())\n",
    "\n",
    "    model.add(layers.Dense(500, activation = 'sigmoid'))\n",
    "    \n",
    "    model.add(layers.Dropout(0.3))\n",
    "\n",
    "    model.add(layers.Dense(21, activation = 'softmax'))\n",
    "    \n",
    "    model.compile(optimizer = tf.keras.optimizers.SGD(learning_rate = .001),\n",
    "                 loss = tf.keras.losses.CategoricalCrossentropy(),\n",
    "                 metrics = tf.keras.metrics.CategoricalAccuracy() #,tf.keras.metrics.AUC()]\n",
    "                 )\n",
    "    \n",
    "    model.summary()\n",
    "    return model\n",
    "    \n",
    "    "
   ]
  },
  {
   "cell_type": "code",
   "execution_count": null,
   "id": "dbdd65b9",
   "metadata": {},
   "outputs": [],
   "source": [
    "tt_categorical_ model = cat_model_builder(train_tt)"
   ]
  },
  {
   "cell_type": "code",
   "execution_count": null,
   "id": "cfcfb92c",
   "metadata": {},
   "outputs": [],
   "source": [
    "cat_acc_history = []\n",
    "val_cat_history = []"
   ]
  },
  {
   "cell_type": "code",
   "execution_count": null,
   "id": "8aaac442",
   "metadata": {},
   "outputs": [],
   "source": [
    "\n",
    "\n",
    " \n",
    "model_fit_df = model_df.fit(train_tt,\n",
    "                           steps_per_epoch = df_train_it.samples/BATCH_SIZE,\n",
    "                           epochs = 5,\n",
    "                           validation_data = validation_tt,\n",
    "                           validation_steps = df_valid_it.samples/BATCH_SIZE\n",
    "                            )\n",
    "\n",
    "cat_acc_history += model_fit_df.history['categorical_accuracy']\n",
    "val_cat_history += model_fit_df.history['val_categorical_accuracy']\n",
    "    \n",
    "    \n",
    "       \n",
    "    \n",
    "fig = plt.figure()\n",
    "\n",
    "ax1 = fig.add_subplot(1,1,1)\n",
    "ax1.plot(cat_acc_history)\n",
    "ax1.plot(val_cat_history)\n",
    "ax1.set_title('model accuracy')\n",
    "ax1.set_xlabel('epoch')\n",
    "ax1.set_ylabel('accuracy')\n",
    "ax1.legend(['training', 'validation'], loc = 'upper left')\n",
    "\n",
    "plt.show"
   ]
  },
  {
   "cell_type": "code",
   "execution_count": null,
   "id": "2821079a",
   "metadata": {},
   "outputs": [],
   "source": [
    "from sklearn.metrics import classification_report"
   ]
  },
  {
   "cell_type": "code",
   "execution_count": null,
   "id": "21346113",
   "metadata": {},
   "outputs": [],
   "source": [
    "# classification report\n",
    "\n",
    "test_steps_per_epoch = np.math.ceil(df_valid_it.samples / df_valid_it.batch_size)\n",
    "predictions = model_df.predict(df_valid_it, steps=test_steps_per_epoch)\n",
    "test_steps_per_epoch = np.math.ceil(df_valid_it.samples / df_valid_it.batch_size)\n",
    "predicted_classes = np.argmax(predictions, axis=1)\n",
    "true_classes = df_valid_it.classes\n",
    "class_labels = list(df_valid_it.class_indices.keys())\n",
    "report = classification_report(true_classes, predicted_classes, target_names=class_labels)\n",
    "print(report)   \n",
    "\n"
   ]
  }
 ],
 "metadata": {
  "kernelspec": {
   "display_name": "Python 3 (ipykernel)",
   "language": "python",
   "name": "python3"
  },
  "language_info": {
   "codemirror_mode": {
    "name": "ipython",
    "version": 3
   },
   "file_extension": ".py",
   "mimetype": "text/x-python",
   "name": "python",
   "nbconvert_exporter": "python",
   "pygments_lexer": "ipython3",
   "version": "3.10.9"
  }
 },
 "nbformat": 4,
 "nbformat_minor": 5
}
