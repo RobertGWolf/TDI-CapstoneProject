{
 "cells": [
  {
   "cell_type": "code",
   "execution_count": 50,
   "id": "e93d8fc1",
   "metadata": {},
   "outputs": [],
   "source": [
    "import altair as alt\n",
    "import numpy as np\n",
    "import pandas as pd\n",
    "import tensorflow as tf\n",
    "\n",
    "from sklearn.preprocessing import StandardScaler\n",
    "from sklearn.compose import ColumnTransformer\n"
   ]
  },
  {
   "cell_type": "code",
   "execution_count": 46,
   "id": "2e51f3aa",
   "metadata": {},
   "outputs": [],
   "source": [
    "import boto3\n",
    "from botocore import UNSIGNED\n",
    "from botocore.client import Config"
   ]
  },
  {
   "cell_type": "markdown",
   "id": "c788b0d6",
   "metadata": {},
   "source": [
    "You can get the model from my s3 bucket.  This does take awhile to download as it is ~5GB"
   ]
  },
  {
   "cell_type": "code",
   "execution_count": 32,
   "id": "22425c2d",
   "metadata": {},
   "outputs": [],
   "source": [
    "#download for the model\n",
    "\n",
    "file_name = \"UHCS_Microstructure_Model.keras\"\n",
    "\n",
    "s3 = boto3.resource('s3',config=Config(signature_version=UNSIGNED))\n",
    "bucket = s3.Bucket(\"robertgwolf-tdi-capstone-project\")\n",
    "bucket.download_file(file_name,file_name)"
   ]
  },
  {
   "cell_type": "code",
   "execution_count": 48,
   "id": "7ed3f1f8",
   "metadata": {},
   "outputs": [],
   "source": [
    "col_transformer_data = pd.read_csv('col_transformer_data.csv')"
   ]
  },
  {
   "cell_type": "code",
   "execution_count": 51,
   "id": "9b50a13e",
   "metadata": {},
   "outputs": [
    {
     "data": {
      "text/html": [
       "<style>#sk-container-id-1 {color: black;background-color: white;}#sk-container-id-1 pre{padding: 0;}#sk-container-id-1 div.sk-toggleable {background-color: white;}#sk-container-id-1 label.sk-toggleable__label {cursor: pointer;display: block;width: 100%;margin-bottom: 0;padding: 0.3em;box-sizing: border-box;text-align: center;}#sk-container-id-1 label.sk-toggleable__label-arrow:before {content: \"▸\";float: left;margin-right: 0.25em;color: #696969;}#sk-container-id-1 label.sk-toggleable__label-arrow:hover:before {color: black;}#sk-container-id-1 div.sk-estimator:hover label.sk-toggleable__label-arrow:before {color: black;}#sk-container-id-1 div.sk-toggleable__content {max-height: 0;max-width: 0;overflow: hidden;text-align: left;background-color: #f0f8ff;}#sk-container-id-1 div.sk-toggleable__content pre {margin: 0.2em;color: black;border-radius: 0.25em;background-color: #f0f8ff;}#sk-container-id-1 input.sk-toggleable__control:checked~div.sk-toggleable__content {max-height: 200px;max-width: 100%;overflow: auto;}#sk-container-id-1 input.sk-toggleable__control:checked~label.sk-toggleable__label-arrow:before {content: \"▾\";}#sk-container-id-1 div.sk-estimator input.sk-toggleable__control:checked~label.sk-toggleable__label {background-color: #d4ebff;}#sk-container-id-1 div.sk-label input.sk-toggleable__control:checked~label.sk-toggleable__label {background-color: #d4ebff;}#sk-container-id-1 input.sk-hidden--visually {border: 0;clip: rect(1px 1px 1px 1px);clip: rect(1px, 1px, 1px, 1px);height: 1px;margin: -1px;overflow: hidden;padding: 0;position: absolute;width: 1px;}#sk-container-id-1 div.sk-estimator {font-family: monospace;background-color: #f0f8ff;border: 1px dotted black;border-radius: 0.25em;box-sizing: border-box;margin-bottom: 0.5em;}#sk-container-id-1 div.sk-estimator:hover {background-color: #d4ebff;}#sk-container-id-1 div.sk-parallel-item::after {content: \"\";width: 100%;border-bottom: 1px solid gray;flex-grow: 1;}#sk-container-id-1 div.sk-label:hover label.sk-toggleable__label {background-color: #d4ebff;}#sk-container-id-1 div.sk-serial::before {content: \"\";position: absolute;border-left: 1px solid gray;box-sizing: border-box;top: 0;bottom: 0;left: 50%;z-index: 0;}#sk-container-id-1 div.sk-serial {display: flex;flex-direction: column;align-items: center;background-color: white;padding-right: 0.2em;padding-left: 0.2em;position: relative;}#sk-container-id-1 div.sk-item {position: relative;z-index: 1;}#sk-container-id-1 div.sk-parallel {display: flex;align-items: stretch;justify-content: center;background-color: white;position: relative;}#sk-container-id-1 div.sk-item::before, #sk-container-id-1 div.sk-parallel-item::before {content: \"\";position: absolute;border-left: 1px solid gray;box-sizing: border-box;top: 0;bottom: 0;left: 50%;z-index: -1;}#sk-container-id-1 div.sk-parallel-item {display: flex;flex-direction: column;z-index: 1;position: relative;background-color: white;}#sk-container-id-1 div.sk-parallel-item:first-child::after {align-self: flex-end;width: 50%;}#sk-container-id-1 div.sk-parallel-item:last-child::after {align-self: flex-start;width: 50%;}#sk-container-id-1 div.sk-parallel-item:only-child::after {width: 0;}#sk-container-id-1 div.sk-dashed-wrapped {border: 1px dashed gray;margin: 0 0.4em 0.5em 0.4em;box-sizing: border-box;padding-bottom: 0.4em;background-color: white;}#sk-container-id-1 div.sk-label label {font-family: monospace;font-weight: bold;display: inline-block;line-height: 1.2em;}#sk-container-id-1 div.sk-label-container {text-align: center;}#sk-container-id-1 div.sk-container {/* jupyter's `normalize.less` sets `[hidden] { display: none; }` but bootstrap.min.css set `[hidden] { display: none !important; }` so we also need the `!important` here to be able to override the default hidden behavior on the sphinx rendered scikit-learn.org. See: https://github.com/scikit-learn/scikit-learn/issues/21755 */display: inline-block !important;position: relative;}#sk-container-id-1 div.sk-text-repr-fallback {display: none;}</style><div id=\"sk-container-id-1\" class=\"sk-top-container\"><div class=\"sk-text-repr-fallback\"><pre>ColumnTransformer(transformers=[(&#x27;scaler&#x27;, StandardScaler(),\n",
       "                                 [&#x27;inverse_anneal_temperature_Kelvin&#x27;,\n",
       "                                  &#x27;log_time&#x27;])])</pre><b>In a Jupyter environment, please rerun this cell to show the HTML representation or trust the notebook. <br />On GitHub, the HTML representation is unable to render, please try loading this page with nbviewer.org.</b></div><div class=\"sk-container\" hidden><div class=\"sk-item sk-dashed-wrapped\"><div class=\"sk-label-container\"><div class=\"sk-label sk-toggleable\"><input class=\"sk-toggleable__control sk-hidden--visually\" id=\"sk-estimator-id-1\" type=\"checkbox\" ><label for=\"sk-estimator-id-1\" class=\"sk-toggleable__label sk-toggleable__label-arrow\">ColumnTransformer</label><div class=\"sk-toggleable__content\"><pre>ColumnTransformer(transformers=[(&#x27;scaler&#x27;, StandardScaler(),\n",
       "                                 [&#x27;inverse_anneal_temperature_Kelvin&#x27;,\n",
       "                                  &#x27;log_time&#x27;])])</pre></div></div></div><div class=\"sk-parallel\"><div class=\"sk-parallel-item\"><div class=\"sk-item\"><div class=\"sk-label-container\"><div class=\"sk-label sk-toggleable\"><input class=\"sk-toggleable__control sk-hidden--visually\" id=\"sk-estimator-id-2\" type=\"checkbox\" ><label for=\"sk-estimator-id-2\" class=\"sk-toggleable__label sk-toggleable__label-arrow\">scaler</label><div class=\"sk-toggleable__content\"><pre>[&#x27;inverse_anneal_temperature_Kelvin&#x27;, &#x27;log_time&#x27;]</pre></div></div></div><div class=\"sk-serial\"><div class=\"sk-item\"><div class=\"sk-estimator sk-toggleable\"><input class=\"sk-toggleable__control sk-hidden--visually\" id=\"sk-estimator-id-3\" type=\"checkbox\" ><label for=\"sk-estimator-id-3\" class=\"sk-toggleable__label sk-toggleable__label-arrow\">StandardScaler</label><div class=\"sk-toggleable__content\"><pre>StandardScaler()</pre></div></div></div></div></div></div></div></div></div></div>"
      ],
      "text/plain": [
       "ColumnTransformer(transformers=[('scaler', StandardScaler(),\n",
       "                                 ['inverse_anneal_temperature_Kelvin',\n",
       "                                  'log_time'])])"
      ]
     },
     "execution_count": 51,
     "metadata": {},
     "output_type": "execute_result"
    }
   ],
   "source": [
    "ColScaler = ColumnTransformer([('scaler',StandardScaler(),['inverse_anneal_temperature_Kelvin',\n",
    "                                                                   'log_time',\n",
    "                                                                  ])])\n",
    "\n",
    "ColScaler.set_output(transform ='pandas')\n",
    "\n",
    "ColScaler.fit(col_transformer_data)\n"
   ]
  },
  {
   "cell_type": "code",
   "execution_count": null,
   "id": "be8fa8bd",
   "metadata": {},
   "outputs": [],
   "source": [
    "model = tf.keras.models.load_model('Microstructre_Model.keras')"
   ]
  },
  {
   "cell_type": "code",
   "execution_count": null,
   "id": "681d69e2",
   "metadata": {},
   "outputs": [],
   "source": [
    "DIRECTORY = 'sample_micrographs'\n",
    "\n",
    "image_generator = DataImageGeneartor()\n",
    "images = image_generator.flow_from_dataframe(dataframe = images_df,\n",
    "                                                        directory = DIRECTORY,\n",
    "                                                        x_col = 'path',\n",
    "                                                        class_mode = 'input',\n",
    "                                                        color_mode = 'rgb',\n",
    "                                                        shuffle = False,\n",
    "                                                        target_size = (522,645),\n",
    "                                                        batch_size = 1)"
   ]
  },
  {
   "cell_type": "code",
   "execution_count": null,
   "id": "67c5a56a",
   "metadata": {},
   "outputs": [],
   "source": [
    "predictions = model.predict(images)"
   ]
  },
  {
   "cell_type": "code",
   "execution_count": null,
   "id": "f00a4b6c",
   "metadata": {},
   "outputs": [],
   "source": [
    "predictions = ColScaler.named_transformers_['scaler'].inverse_transform(predictions[:,:2])\n",
    "predictions_df = pd.DataFrame(predictictions, columns = ['inverse_temperature','anneal_time_minutes'])\n",
    "predictions_df['time'] = predictions_df['anneal_time_minutes'].apply(lambda x: np.exp(x))\n",
    "predictions_df['temperature'] = 1/predictions_df['inverse_temperature']"
   ]
  },
  {
   "cell_type": "code",
   "execution_count": null,
   "id": "9e25e6fe",
   "metadata": {},
   "outputs": [],
   "source": []
  },
  {
   "cell_type": "code",
   "execution_count": 14,
   "id": "d6990312",
   "metadata": {},
   "outputs": [],
   "source": [
    "test_predictions = pd.read_csv('test_dataframe.csv')\n"
   ]
  },
  {
   "cell_type": "code",
   "execution_count": 15,
   "id": "d0ab7d2d",
   "metadata": {},
   "outputs": [
    {
     "data": {
      "text/html": [
       "\n",
       "<style>\n",
       "  #altair-viz-f40b745725bb4388aaa6693a56345ef7.vega-embed {\n",
       "    width: 100%;\n",
       "    display: flex;\n",
       "  }\n",
       "\n",
       "  #altair-viz-f40b745725bb4388aaa6693a56345ef7.vega-embed details,\n",
       "  #altair-viz-f40b745725bb4388aaa6693a56345ef7.vega-embed details summary {\n",
       "    position: relative;\n",
       "  }\n",
       "</style>\n",
       "<div id=\"altair-viz-f40b745725bb4388aaa6693a56345ef7\"></div>\n",
       "<script type=\"text/javascript\">\n",
       "  var VEGA_DEBUG = (typeof VEGA_DEBUG == \"undefined\") ? {} : VEGA_DEBUG;\n",
       "  (function(spec, embedOpt){\n",
       "    let outputDiv = document.currentScript.previousElementSibling;\n",
       "    if (outputDiv.id !== \"altair-viz-f40b745725bb4388aaa6693a56345ef7\") {\n",
       "      outputDiv = document.getElementById(\"altair-viz-f40b745725bb4388aaa6693a56345ef7\");\n",
       "    }\n",
       "    const paths = {\n",
       "      \"vega\": \"https://cdn.jsdelivr.net/npm/vega@5?noext\",\n",
       "      \"vega-lib\": \"https://cdn.jsdelivr.net/npm/vega-lib?noext\",\n",
       "      \"vega-lite\": \"https://cdn.jsdelivr.net/npm/vega-lite@5.15.1?noext\",\n",
       "      \"vega-embed\": \"https://cdn.jsdelivr.net/npm/vega-embed@6?noext\",\n",
       "    };\n",
       "\n",
       "    function maybeLoadScript(lib, version) {\n",
       "      var key = `${lib.replace(\"-\", \"\")}_version`;\n",
       "      return (VEGA_DEBUG[key] == version) ?\n",
       "        Promise.resolve(paths[lib]) :\n",
       "        new Promise(function(resolve, reject) {\n",
       "          var s = document.createElement('script');\n",
       "          document.getElementsByTagName(\"head\")[0].appendChild(s);\n",
       "          s.async = true;\n",
       "          s.onload = () => {\n",
       "            VEGA_DEBUG[key] = version;\n",
       "            return resolve(paths[lib]);\n",
       "          };\n",
       "          s.onerror = () => reject(`Error loading script: ${paths[lib]}`);\n",
       "          s.src = paths[lib];\n",
       "        });\n",
       "    }\n",
       "\n",
       "    function showError(err) {\n",
       "      outputDiv.innerHTML = `<div class=\"error\" style=\"color:red;\">${err}</div>`;\n",
       "      throw err;\n",
       "    }\n",
       "\n",
       "    function displayChart(vegaEmbed) {\n",
       "      vegaEmbed(outputDiv, spec, embedOpt)\n",
       "        .catch(err => showError(`Javascript Error: ${err.message}<br>This usually means there's a typo in your chart specification. See the javascript console for the full traceback.`));\n",
       "    }\n",
       "\n",
       "    if(typeof define === \"function\" && define.amd) {\n",
       "      requirejs.config({paths});\n",
       "      require([\"vega-embed\"], displayChart, err => showError(`Error loading script: ${err.message}`));\n",
       "    } else {\n",
       "      maybeLoadScript(\"vega\", \"5\")\n",
       "        .then(() => maybeLoadScript(\"vega-lite\", \"5.15.1\"))\n",
       "        .then(() => maybeLoadScript(\"vega-embed\", \"6\"))\n",
       "        .catch(showError)\n",
       "        .then(() => displayChart(vegaEmbed));\n",
       "    }\n",
       "  })({\"config\": {\"view\": {\"continuousWidth\": 300, \"continuousHeight\": 300}}, \"data\": {\"name\": \"data-7a9e6d880d4e6574cdc14fcb8ca00bad\"}, \"mark\": {\"type\": \"point\", \"color\": \"orangered\"}, \"encoding\": {\"tooltip\": [{\"field\": \"predicted_time\", \"title\": \"Predicted Time\", \"type\": \"quantitative\"}, {\"field\": \"predicted_temperature\", \"title\": \"Predicted Temperature\", \"type\": \"quantitative\"}, {\"field\": \"true_time\", \"title\": \"True Time\", \"type\": \"quantitative\"}, {\"field\": \"true_temperature\", \"title\": \"True Temperature\", \"type\": \"quantitative\"}], \"x\": {\"axis\": {\"offset\": -150, \"title\": \"Time Difference (Minutes)\", \"titleY\": 175}, \"field\": \"delta_time\", \"scale\": {\"domain\": [-3000, 3000]}, \"type\": \"quantitative\"}, \"y\": {\"axis\": {\"offset\": -150, \"title\": \"Temperature Difference (K)\", \"titleX\": -175}, \"field\": \"delta_temperature\", \"scale\": {\"domain\": [-100, 100]}, \"type\": \"quantitative\"}}, \"params\": [{\"name\": \"param_1\", \"select\": {\"type\": \"interval\", \"encodings\": [\"x\", \"y\"]}, \"bind\": \"scales\"}], \"$schema\": \"https://vega.github.io/schema/vega-lite/v5.15.1.json\", \"datasets\": {\"data-7a9e6d880d4e6574cdc14fcb8ca00bad\": [{\"Unnamed: 0\": 0, \"predicted_time\": 4.170390800053963, \"predicted_temperature\": 972.4918, \"true_time\": 5.000000000000001, \"true_temperature\": 970.0, \"delta_time\": -0.829609199946038, \"delta_temperature\": 2.491845703124909}, {\"Unnamed: 0\": 1, \"predicted_time\": 7.659303837593834, \"predicted_temperature\": 974.1714, \"true_time\": 5.000000000000001, \"true_temperature\": 970.0, \"delta_time\": 2.659303837593833, \"delta_temperature\": 4.171411132812409}, {\"Unnamed: 0\": 2, \"predicted_time\": 5.534388772923166, \"predicted_temperature\": 978.1962, \"true_time\": 5.000000000000001, \"true_temperature\": 970.0, \"delta_time\": 0.5343887729231653, \"delta_temperature\": 8.196191406249909}, {\"Unnamed: 0\": 3, \"predicted_time\": 63.30567439076491, \"predicted_temperature\": 1089.9200999999998, \"true_time\": 59.99999999999999, \"true_temperature\": 1100.0, \"delta_time\": 3.305674390764928, \"delta_temperature\": -10.079931640625093}, {\"Unnamed: 0\": 4, \"predicted_time\": 190.8263313120352, \"predicted_temperature\": 895.6244, \"true_time\": 180.0, \"true_temperature\": 900.0000000000001, \"delta_time\": 10.826331312035135, \"delta_temperature\": -4.375585937500091}, {\"Unnamed: 0\": 5, \"predicted_time\": 9.983255911721768, \"predicted_temperature\": 811.6547999999999, \"true_time\": 5.000000000000001, \"true_temperature\": 800.0000000000001, \"delta_time\": 4.983255911721767, \"delta_temperature\": 11.654809570312407}, {\"Unnamed: 0\": 6, \"predicted_time\": 86.87496575240597, \"predicted_temperature\": 985.7604, \"true_time\": 90.0, \"true_temperature\": 970.0, \"delta_time\": -3.12503424759403, \"delta_temperature\": 15.760400390624907}, {\"Unnamed: 0\": 7, \"predicted_time\": 167.97418238100147, \"predicted_temperature\": 789.2934000000001, \"true_time\": 180.0, \"true_temperature\": 800.0000000000001, \"delta_time\": -12.02581761899853, \"delta_temperature\": -10.706640625000093}, {\"Unnamed: 0\": 8, \"predicted_time\": 196.2632935661617, \"predicted_temperature\": 969.5983, \"true_time\": 180.0, \"true_temperature\": 970.0, \"delta_time\": 16.263293566161707, \"delta_temperature\": -0.4017089843750909}, {\"Unnamed: 0\": 9, \"predicted_time\": 104.0300236432542, \"predicted_temperature\": 979.5498, \"true_time\": 90.0, \"true_temperature\": 970.0, \"delta_time\": 14.03002364325421, \"delta_temperature\": 9.549829101562407}, {\"Unnamed: 0\": 10, \"predicted_time\": 106.96718102524734, \"predicted_temperature\": 905.2239, \"true_time\": 90.0, \"true_temperature\": 900.0000000000001, \"delta_time\": 16.967181025247342, \"delta_temperature\": 5.223901367187409}, {\"Unnamed: 0\": 11, \"predicted_time\": 73.59206845226647, \"predicted_temperature\": 960.1394, \"true_time\": 90.0, \"true_temperature\": 970.0, \"delta_time\": -16.407931547733526, \"delta_temperature\": -9.860571289062593}, {\"Unnamed: 0\": 12, \"predicted_time\": 70.85853636219466, \"predicted_temperature\": 973.8051, \"true_time\": 90.0, \"true_temperature\": 970.0, \"delta_time\": -19.141463637805344, \"delta_temperature\": 3.805078124999909}, {\"Unnamed: 0\": 13, \"predicted_time\": 163.98107021370757, \"predicted_temperature\": 982.3056, \"true_time\": 180.0, \"true_temperature\": 970.0, \"delta_time\": -16.018929786292432, \"delta_temperature\": 12.305566406249907}, {\"Unnamed: 0\": 14, \"predicted_time\": 110.43490900372936, \"predicted_temperature\": 970.0261, \"true_time\": 90.0, \"true_temperature\": 970.0, \"delta_time\": 20.43490900372936, \"delta_temperature\": 0.026147460937409}, {\"Unnamed: 0\": 15, \"predicted_time\": 110.06580507907698, \"predicted_temperature\": 977.3432, \"true_time\": 90.0, \"true_temperature\": 970.0, \"delta_time\": 20.06580507907698, \"delta_temperature\": 7.343164062499909}, {\"Unnamed: 0\": 16, \"predicted_time\": 111.76044626176602, \"predicted_temperature\": 967.2438, \"true_time\": 90.0, \"true_temperature\": 970.0, \"delta_time\": 21.76044626176602, \"delta_temperature\": -2.756201171875091}, {\"Unnamed: 0\": 17, \"predicted_time\": 110.83700973561383, \"predicted_temperature\": 959.7726, \"true_time\": 90.0, \"true_temperature\": 970.0, \"delta_time\": 20.837009735613847, \"delta_temperature\": -10.227392578125093}, {\"Unnamed: 0\": 18, \"predicted_time\": 111.74787016746728, \"predicted_temperature\": 814.6306000000001, \"true_time\": 90.0, \"true_temperature\": 800.0000000000001, \"delta_time\": 21.74787016746727, \"delta_temperature\": 14.630639648437407}, {\"Unnamed: 0\": 19, \"predicted_time\": 113.33241455202972, \"predicted_temperature\": 951.2558, \"true_time\": 90.0, \"true_temperature\": 970.0, \"delta_time\": 23.33241455202972, \"delta_temperature\": -18.74423828125009}, {\"Unnamed: 0\": 20, \"predicted_time\": 148.55717289078174, \"predicted_temperature\": 971.4351, \"true_time\": 180.0, \"true_temperature\": 970.0, \"delta_time\": -31.442827109218257, \"delta_temperature\": 1.435083007812409}, {\"Unnamed: 0\": 21, \"predicted_time\": 140.70503711282657, \"predicted_temperature\": 806.3195999999999, \"true_time\": 180.0, \"true_temperature\": 800.0000000000001, \"delta_time\": -39.294962887173455, \"delta_temperature\": 6.319604492187409}, {\"Unnamed: 0\": 22, \"predicted_time\": 131.52690425435495, \"predicted_temperature\": 913.357, \"true_time\": 90.0, \"true_temperature\": 900.0000000000001, \"delta_time\": 41.526904254354974, \"delta_temperature\": 13.356958007812407}, {\"Unnamed: 0\": 23, \"predicted_time\": 47.85488116460815, \"predicted_temperature\": 1143.852, \"true_time\": 59.99999999999999, \"true_temperature\": 1100.0, \"delta_time\": -12.145118835391834, \"delta_temperature\": 43.85195312499991}, {\"Unnamed: 0\": 24, \"predicted_time\": 434.45334969652856, \"predicted_temperature\": 792.112, \"true_time\": 480.0, \"true_temperature\": 800.0000000000001, \"delta_time\": -45.54665030347144, \"delta_temperature\": -7.888037109375091}, {\"Unnamed: 0\": 25, \"predicted_time\": 30.080661900473046, \"predicted_temperature\": 925.2318, \"true_time\": 5.000000000000001, \"true_temperature\": 970.0, \"delta_time\": 25.080661900473046, \"delta_temperature\": -44.76816406250009}, {\"Unnamed: 0\": 26, \"predicted_time\": 128.10655237888545, \"predicted_temperature\": 978.1796, \"true_time\": 180.0, \"true_temperature\": 970.0, \"delta_time\": -51.893447621114575, \"delta_temperature\": 8.179589843749909}, {\"Unnamed: 0\": 27, \"predicted_time\": 533.5503341776969, \"predicted_temperature\": 975.0447, \"true_time\": 480.0, \"true_temperature\": 970.0, \"delta_time\": 53.55033417769687, \"delta_temperature\": 5.044702148437409}, {\"Unnamed: 0\": 28, \"predicted_time\": 16.533300012596655, \"predicted_temperature\": 753.9339000000001, \"true_time\": 5.000000000000001, \"true_temperature\": 700.0, \"delta_time\": 11.533300012596657, \"delta_temperature\": 53.93386230468741}, {\"Unnamed: 0\": 29, \"predicted_time\": 235.31669725873783, \"predicted_temperature\": 976.2753, \"true_time\": 180.0, \"true_temperature\": 970.0, \"delta_time\": 55.31669725873786, \"delta_temperature\": 6.275292968749909}, {\"Unnamed: 0\": 30, \"predicted_time\": 34.14094211242633, \"predicted_temperature\": 962.2646, \"true_time\": 90.0, \"true_temperature\": 970.0, \"delta_time\": -55.85905788757367, \"delta_temperature\": -7.735449218750091}, {\"Unnamed: 0\": 31, \"predicted_time\": 235.81565229736, \"predicted_temperature\": 825.4761, \"true_time\": 180.0, \"true_temperature\": 800.0000000000001, \"delta_time\": 55.815652297359975, \"delta_temperature\": 25.47609863281241}, {\"Unnamed: 0\": 32, \"predicted_time\": 54.94273106925186, \"predicted_temperature\": 908.7162, \"true_time\": 90.0, \"true_temperature\": 970.0, \"delta_time\": -35.05726893074814, \"delta_temperature\": -61.28378906250009}, {\"Unnamed: 0\": 33, \"predicted_time\": 59.37168813348394, \"predicted_temperature\": 869.4151, \"true_time\": 90.0, \"true_temperature\": 800.0000000000001, \"delta_time\": -30.628311866516057, \"delta_temperature\": 69.41506347656241}, {\"Unnamed: 0\": 34, \"predicted_time\": 97.69757665111774, \"predicted_temperature\": 894.4037, \"true_time\": 90.0, \"true_temperature\": 970.0, \"delta_time\": 7.697576651117743, \"delta_temperature\": -75.59628906250009}, {\"Unnamed: 0\": 35, \"predicted_time\": 16.538034847374423, \"predicted_temperature\": 889.4094000000001, \"true_time\": 5.000000000000001, \"true_temperature\": 970.0, \"delta_time\": 11.538034847374425, \"delta_temperature\": -80.59055175781259}, {\"Unnamed: 0\": 36, \"predicted_time\": 1347.5780514277706, \"predicted_temperature\": 969.3397, \"true_time\": 1440.0000000000005, \"true_temperature\": 970.0, \"delta_time\": -92.4219485722299, \"delta_temperature\": -0.660253906250091}, {\"Unnamed: 0\": 37, \"predicted_time\": 1321.2602377731923, \"predicted_temperature\": 968.5333, \"true_time\": 1440.0000000000005, \"true_temperature\": 970.0, \"delta_time\": -118.73976222680812, \"delta_temperature\": -1.466650390625091}, {\"Unnamed: 0\": 38, \"predicted_time\": 302.9197972111712, \"predicted_temperature\": 976.6841, \"true_time\": 180.0, \"true_temperature\": 970.0, \"delta_time\": 122.91979721117116, \"delta_temperature\": 6.684106445312409}, {\"Unnamed: 0\": 39, \"predicted_time\": 1300.98131815458, \"predicted_temperature\": 908.95, \"true_time\": 1440.0000000000005, \"true_temperature\": 900.0000000000001, \"delta_time\": -139.0186818454206, \"delta_temperature\": 8.949975585937409}, {\"Unnamed: 0\": 40, \"predicted_time\": 1585.0005216235795, \"predicted_temperature\": 971.5132, \"true_time\": 1440.0000000000005, \"true_temperature\": 970.0, \"delta_time\": 145.00052162357906, \"delta_temperature\": 1.513208007812409}, {\"Unnamed: 0\": 41, \"predicted_time\": 154.06601388881623, \"predicted_temperature\": 964.4218, \"true_time\": 5.000000000000001, \"true_temperature\": 1000.0, \"delta_time\": 149.06601388881623, \"delta_temperature\": -35.57822265625009}, {\"Unnamed: 0\": 42, \"predicted_time\": 1603.3315200441216, \"predicted_temperature\": 973.1071, \"true_time\": 1440.0000000000005, \"true_temperature\": 970.0, \"delta_time\": 163.3315200441211, \"delta_temperature\": 3.107080078124909}, {\"Unnamed: 0\": 43, \"predicted_time\": 305.61329368995945, \"predicted_temperature\": 967.1138, \"true_time\": 480.0, \"true_temperature\": 970.0, \"delta_time\": -174.38670631004055, \"delta_temperature\": -2.886206054687591}, {\"Unnamed: 0\": 44, \"predicted_time\": 657.1010366017267, \"predicted_temperature\": 805.427, \"true_time\": 480.0, \"true_temperature\": 800.0000000000001, \"delta_time\": 177.10103660172672, \"delta_temperature\": 5.427026367187409}, {\"Unnamed: 0\": 45, \"predicted_time\": 284.2208745588743, \"predicted_temperature\": 982.2381, \"true_time\": 90.0, \"true_temperature\": 970.0, \"delta_time\": 194.2208745588743, \"delta_temperature\": 12.238061523437407}, {\"Unnamed: 0\": 46, \"predicted_time\": 329.97344586366256, \"predicted_temperature\": 842.9171, \"true_time\": 90.0, \"true_temperature\": 900.0000000000001, \"delta_time\": 239.97344586366256, \"delta_temperature\": -57.08286132812509}, {\"Unnamed: 0\": 47, \"predicted_time\": 203.21640587981244, \"predicted_temperature\": 943.0863, \"true_time\": 480.0, \"true_temperature\": 970.0, \"delta_time\": -276.7835941201876, \"delta_temperature\": -26.91367187500009}, {\"Unnamed: 0\": 48, \"predicted_time\": 1112.3522082079835, \"predicted_temperature\": 970.8764, \"true_time\": 1440.0000000000005, \"true_temperature\": 970.0, \"delta_time\": -327.64779179201696, \"delta_temperature\": 0.876367187499909}, {\"Unnamed: 0\": 49, \"predicted_time\": 1068.6303007485258, \"predicted_temperature\": 970.6795, \"true_time\": 1440.0000000000005, \"true_temperature\": 970.0, \"delta_time\": -371.3696992514747, \"delta_temperature\": 0.679467773437409}, {\"Unnamed: 0\": 50, \"predicted_time\": 919.7706414982242, \"predicted_temperature\": 799.2549, \"true_time\": 480.0, \"true_temperature\": 800.0000000000001, \"delta_time\": 439.7706414982242, \"delta_temperature\": -0.745092773437591}, {\"Unnamed: 0\": 51, \"predicted_time\": 807.6767300854802, \"predicted_temperature\": 961.6247, \"true_time\": 1440.0000000000005, \"true_temperature\": 970.0, \"delta_time\": -632.3232699145202, \"delta_temperature\": -8.375341796875091}, {\"Unnamed: 0\": 52, \"predicted_time\": 746.3052628489845, \"predicted_temperature\": 979.5999, \"true_time\": 1440.0000000000005, \"true_temperature\": 970.0, \"delta_time\": -693.6947371510159, \"delta_temperature\": 9.599877929687407}, {\"Unnamed: 0\": 53, \"predicted_time\": 2336.114089845632, \"predicted_temperature\": 794.765, \"true_time\": 1440.0000000000005, \"true_temperature\": 800.0000000000001, \"delta_time\": 896.1140898456315, \"delta_temperature\": -5.234960937500091}, {\"Unnamed: 0\": 54, \"predicted_time\": 2396.8380082036088, \"predicted_temperature\": 800.4943999999999, \"true_time\": 1440.0000000000005, \"true_temperature\": 800.0000000000001, \"delta_time\": 956.8380082036084, \"delta_temperature\": 0.494409179687409}, {\"Unnamed: 0\": 55, \"predicted_time\": 1458.3756481008154, \"predicted_temperature\": 807.0156000000001, \"true_time\": 480.0, \"true_temperature\": 800.0000000000001, \"delta_time\": 978.3756481008154, \"delta_temperature\": 7.015649414062409}, {\"Unnamed: 0\": 56, \"predicted_time\": 3928.6103070241033, \"predicted_temperature\": 802.4939, \"true_time\": 5100.000000000005, \"true_temperature\": 800.0000000000001, \"delta_time\": -1171.3896929759012, \"delta_temperature\": 2.493920898437409}, {\"Unnamed: 0\": 57, \"predicted_time\": 2766.1662865576072, \"predicted_temperature\": 806.2277, \"true_time\": 1440.0000000000005, \"true_temperature\": 800.0000000000001, \"delta_time\": 1326.1662865576068, \"delta_temperature\": 6.227685546874909}, {\"Unnamed: 0\": 58, \"predicted_time\": 3376.2608425380186, \"predicted_temperature\": 801.0131, \"true_time\": 5100.000000000005, \"true_temperature\": 800.0000000000001, \"delta_time\": -1723.739157461986, \"delta_temperature\": 1.013085937499909}, {\"Unnamed: 0\": 59, \"predicted_time\": 2329.8587612801302, \"predicted_temperature\": 810.5358, \"true_time\": 5100.000000000005, \"true_temperature\": 800.0000000000001, \"delta_time\": -2770.1412387198743, \"delta_temperature\": 10.535791015624907}]}}, {\"mode\": \"vega-lite\"});\n",
       "</script>"
      ],
      "text/plain": [
       "alt.Chart(...)"
      ]
     },
     "execution_count": 15,
     "metadata": {},
     "output_type": "execute_result"
    }
   ],
   "source": [
    "\n",
    "\n",
    "offset = -150\n",
    "\n",
    "test_predictions_chart = alt.Chart(test_predictions).mark_point(color = 'orangered').encode(\n",
    "    x = alt.X('delta_time', \n",
    "              axis = alt.Axis(offset = offset, title ='Time Difference (Minutes)', titleY = 175),\n",
    "              scale = alt.Scale(domain=[-3000, 3000])),\n",
    "              \n",
    "    y = alt.Y('delta_temperature', \n",
    "              axis = alt.Axis(offset = offset,title ='Temperature Difference (K)',titleX = -175),\n",
    "              scale = alt.Scale(domain=[-100, 100])),\n",
    "    tooltip = [alt.Tooltip('predicted_time',title = 'Predicted Time'),\n",
    "               alt.Tooltip('predicted_temperature',title = 'Predicted Temperature'),\n",
    "               alt.Tooltip('true_time',title = 'True Time'),\n",
    "               alt.Tooltip('true_temperature',title = 'True Temperature')]\n",
    "  \n",
    ").interactive()\n",
    "\n",
    "\n",
    "test_predictions_chart\n",
    "\n"
   ]
  }
 ],
 "metadata": {
  "kernelspec": {
   "display_name": "Python 3 (ipykernel)",
   "language": "python",
   "name": "python3"
  },
  "language_info": {
   "codemirror_mode": {
    "name": "ipython",
    "version": 3
   },
   "file_extension": ".py",
   "mimetype": "text/x-python",
   "name": "python",
   "nbconvert_exporter": "python",
   "pygments_lexer": "ipython3",
   "version": "3.11.3"
  }
 },
 "nbformat": 4,
 "nbformat_minor": 5
}
