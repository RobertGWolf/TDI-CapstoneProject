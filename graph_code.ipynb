{
 "cells": [
  {
   "cell_type": "code",
   "execution_count": 1,
   "id": "e93d8fc1",
   "metadata": {},
   "outputs": [],
   "source": [
    "import altair as alt\n",
    "import numpy as np\n",
    "import pandas as pd"
   ]
  },
  {
   "cell_type": "code",
   "execution_count": 2,
   "id": "46ed23b2",
   "metadata": {},
   "outputs": [],
   "source": [
    "test_predictions = pd.read_csv('test_dataframe.csv')"
   ]
  },
  {
   "cell_type": "code",
   "execution_count": 15,
   "id": "25f46a32",
   "metadata": {},
   "outputs": [
    {
     "data": {
      "text/html": [
       "\n",
       "<style>\n",
       "  #altair-viz-bd6373bf80324e298a97a5545e47a13e.vega-embed {\n",
       "    width: 100%;\n",
       "    display: flex;\n",
       "  }\n",
       "\n",
       "  #altair-viz-bd6373bf80324e298a97a5545e47a13e.vega-embed details,\n",
       "  #altair-viz-bd6373bf80324e298a97a5545e47a13e.vega-embed details summary {\n",
       "    position: relative;\n",
       "  }\n",
       "</style>\n",
       "<div id=\"altair-viz-bd6373bf80324e298a97a5545e47a13e\"></div>\n",
       "<script type=\"text/javascript\">\n",
       "  var VEGA_DEBUG = (typeof VEGA_DEBUG == \"undefined\") ? {} : VEGA_DEBUG;\n",
       "  (function(spec, embedOpt){\n",
       "    let outputDiv = document.currentScript.previousElementSibling;\n",
       "    if (outputDiv.id !== \"altair-viz-bd6373bf80324e298a97a5545e47a13e\") {\n",
       "      outputDiv = document.getElementById(\"altair-viz-bd6373bf80324e298a97a5545e47a13e\");\n",
       "    }\n",
       "    const paths = {\n",
       "      \"vega\": \"https://cdn.jsdelivr.net/npm/vega@5?noext\",\n",
       "      \"vega-lib\": \"https://cdn.jsdelivr.net/npm/vega-lib?noext\",\n",
       "      \"vega-lite\": \"https://cdn.jsdelivr.net/npm/vega-lite@5.15.1?noext\",\n",
       "      \"vega-embed\": \"https://cdn.jsdelivr.net/npm/vega-embed@6?noext\",\n",
       "    };\n",
       "\n",
       "    function maybeLoadScript(lib, version) {\n",
       "      var key = `${lib.replace(\"-\", \"\")}_version`;\n",
       "      return (VEGA_DEBUG[key] == version) ?\n",
       "        Promise.resolve(paths[lib]) :\n",
       "        new Promise(function(resolve, reject) {\n",
       "          var s = document.createElement('script');\n",
       "          document.getElementsByTagName(\"head\")[0].appendChild(s);\n",
       "          s.async = true;\n",
       "          s.onload = () => {\n",
       "            VEGA_DEBUG[key] = version;\n",
       "            return resolve(paths[lib]);\n",
       "          };\n",
       "          s.onerror = () => reject(`Error loading script: ${paths[lib]}`);\n",
       "          s.src = paths[lib];\n",
       "        });\n",
       "    }\n",
       "\n",
       "    function showError(err) {\n",
       "      outputDiv.innerHTML = `<div class=\"error\" style=\"color:red;\">${err}</div>`;\n",
       "      throw err;\n",
       "    }\n",
       "\n",
       "    function displayChart(vegaEmbed) {\n",
       "      vegaEmbed(outputDiv, spec, embedOpt)\n",
       "        .catch(err => showError(`Javascript Error: ${err.message}<br>This usually means there's a typo in your chart specification. See the javascript console for the full traceback.`));\n",
       "    }\n",
       "\n",
       "    if(typeof define === \"function\" && define.amd) {\n",
       "      requirejs.config({paths});\n",
       "      require([\"vega-embed\"], displayChart, err => showError(`Error loading script: ${err.message}`));\n",
       "    } else {\n",
       "      maybeLoadScript(\"vega\", \"5\")\n",
       "        .then(() => maybeLoadScript(\"vega-lite\", \"5.15.1\"))\n",
       "        .then(() => maybeLoadScript(\"vega-embed\", \"6\"))\n",
       "        .catch(showError)\n",
       "        .then(() => displayChart(vegaEmbed));\n",
       "    }\n",
       "  })({\"config\": {\"view\": {\"continuousWidth\": 300, \"continuousHeight\": 300}}, \"data\": {\"name\": \"data-711491d5b1b01c6a8f6b705c1a7f22bd\"}, \"mark\": {\"type\": \"point\", \"color\": \"orangered\"}, \"encoding\": {\"tooltip\": [{\"field\": \"time\", \"title\": \"Predicted Time\", \"type\": \"quantitative\"}, {\"field\": \"temperature\", \"title\": \"Predicted Temperature\", \"type\": \"quantitative\"}, {\"field\": \"test_time\", \"title\": \"True Time\", \"type\": \"quantitative\"}, {\"field\": \"test_temperature\", \"title\": \"True Temperature\", \"type\": \"quantitative\"}], \"x\": {\"axis\": {\"offset\": -150, \"title\": \"Time Difference (Minutes)\", \"titleY\": 175}, \"field\": \"delta time\", \"scale\": {\"domain\": [-3000, 3000]}, \"type\": \"quantitative\"}, \"y\": {\"axis\": {\"offset\": -150, \"title\": \"Temperature Difference (K)\", \"titleX\": -175}, \"field\": \"delta temperature\", \"scale\": {\"domain\": [-100, 100]}, \"type\": \"quantitative\"}}, \"params\": [{\"name\": \"param_1\", \"select\": {\"type\": \"interval\", \"encodings\": [\"x\", \"y\"]}, \"bind\": \"scales\"}], \"$schema\": \"https://vega.github.io/schema/vega-lite/v5.15.1.json\", \"datasets\": {\"data-711491d5b1b01c6a8f6b705c1a7f22bd\": [{\"Unnamed: 0\": 38, \"inverse_temperature\": 0.00080279895, \"anneal_time_minutes\": 1.4280097, \"time\": 4.170390800053963, \"temperature\": 1245.6418, \"test_temperature\": 1243.15, \"test_time\": 5.000000000000001, \"delta time\": -0.829609199946038, \"delta temperature\": 2.491845703124909, \"score\": 2.6263180372561847}, {\"Unnamed: 0\": 40, \"inverse_temperature\": 0.000801718, \"anneal_time_minutes\": 2.035921, \"time\": 7.659303837593834, \"temperature\": 1247.3214, \"test_temperature\": 1243.15, \"test_time\": 5.000000000000001, \"delta time\": 2.659303837593833, \"delta temperature\": 4.171411132812409, \"score\": 4.946975615423285}, {\"Unnamed: 0\": 39, \"inverse_temperature\": 0.0007991394, \"anneal_time_minutes\": 1.7109811, \"time\": 5.534388772923166, \"temperature\": 1251.3462, \"test_temperature\": 1243.15, \"test_time\": 5.000000000000001, \"delta time\": 0.5343887729231653, \"delta temperature\": 8.196191406249909, \"score\": 8.21359391061618}, {\"Unnamed: 0\": 1, \"inverse_temperature\": 0.000733638, \"anneal_time_minutes\": 4.147975, \"time\": 63.30567439076491, \"temperature\": 1363.0701, \"test_temperature\": 1373.15, \"test_time\": 59.99999999999999, \"delta time\": 3.305674390764928, \"delta temperature\": -10.079931640625093, \"score\": 10.608133910232937}, {\"Unnamed: 0\": 11, \"inverse_temperature\": 0.0008555971, \"anneal_time_minutes\": 5.2513638, \"time\": 190.82633131203517, \"temperature\": 1168.7744, \"test_temperature\": 1173.15, \"test_time\": 180.0, \"delta time\": 10.826331312035135, \"delta temperature\": -4.375585937500091, \"score\": 11.677123017867071}, {\"Unnamed: 0\": 55, \"inverse_temperature\": 0.0009218248, \"anneal_time_minutes\": 2.3009093, \"time\": 9.983255911721768, \"temperature\": 1084.8048, \"test_temperature\": 1073.15, \"test_time\": 5.000000000000001, \"delta time\": 4.983255911721767, \"delta temperature\": 11.654809570312407, \"score\": 12.675465498432615}, {\"Unnamed: 0\": 35, \"inverse_temperature\": 0.0007943377, \"anneal_time_minutes\": 4.46447, \"time\": 86.87496575240597, \"temperature\": 1258.9104, \"test_temperature\": 1243.15, \"test_time\": 90.0, \"delta time\": -3.12503424759403, \"delta temperature\": 15.760400390624907, \"score\": 16.067235590525378}, {\"Unnamed: 0\": 43, \"inverse_temperature\": 0.0009412266, \"anneal_time_minutes\": 5.1238103, \"time\": 167.97418238100147, \"temperature\": 1062.4434, \"test_temperature\": 1073.15, \"test_time\": 180.0, \"delta time\": -12.02581761899853, \"delta temperature\": -10.706640625000093, \"score\": 16.101318047859245}, {\"Unnamed: 0\": 15, \"inverse_temperature\": 0.0008046682, \"anneal_time_minutes\": 5.279457, \"time\": 196.2632935661617, \"temperature\": 1242.7483, \"test_temperature\": 1243.15, \"test_time\": 180.0, \"delta time\": 16.263293566161707, \"delta temperature\": -0.4017089843750909, \"score\": 16.268253985209487}, {\"Unnamed: 0\": 53, \"inverse_temperature\": 0.0007982758, \"anneal_time_minutes\": 4.6446795, \"time\": 104.0300236432542, \"temperature\": 1252.6998, \"test_temperature\": 1243.15, \"test_time\": 90.0, \"delta time\": 14.03002364325421, \"delta temperature\": 9.549829101562407, \"score\": 16.971764766791946}, {\"Unnamed: 0\": 4, \"inverse_temperature\": 0.00084862707, \"anneal_time_minutes\": 4.672522, \"time\": 106.96718102524734, \"temperature\": 1178.3739, \"test_temperature\": 1173.15, \"test_time\": 90.0, \"delta time\": 16.967181025247342, \"delta temperature\": 5.223901367187409, \"score\": 17.753151197396363}, {\"Unnamed: 0\": 32, \"inverse_temperature\": 0.0008108397, \"anneal_time_minutes\": 4.2985373, \"time\": 73.59206845226647, \"temperature\": 1233.2894, \"test_temperature\": 1243.15, \"test_time\": 90.0, \"delta time\": -16.407931547733526, \"delta temperature\": -9.860571289062593, \"score\": 19.142912104008484}, {\"Unnamed: 0\": 17, \"inverse_temperature\": 0.00080195355, \"anneal_time_minutes\": 4.2606854, \"time\": 70.85853636219466, \"temperature\": 1246.9551, \"test_temperature\": 1243.15, \"test_time\": 90.0, \"delta time\": -19.141463637805344, \"delta temperature\": 3.805078124999909, \"score\": 19.51599983948496}, {\"Unnamed: 0\": 14, \"inverse_temperature\": 0.0007965236, \"anneal_time_minutes\": 5.099751, \"time\": 163.98107021370757, \"temperature\": 1255.4556, \"test_temperature\": 1243.15, \"test_time\": 180.0, \"delta time\": -16.018929786292432, \"delta temperature\": 12.305566406249907, \"score\": 20.19982861503516}, {\"Unnamed: 0\": 2, \"inverse_temperature\": 0.0008043912, \"anneal_time_minutes\": 4.7044263, \"time\": 110.43490900372936, \"temperature\": 1243.1761, \"test_temperature\": 1243.15, \"test_time\": 90.0, \"delta time\": 20.43490900372936, \"delta temperature\": 0.026147460937409, \"score\": 20.434925732197136}, {\"Unnamed: 0\": 19, \"inverse_temperature\": 0.0007996845, \"anneal_time_minutes\": 4.7010784, \"time\": 110.06580507907698, \"temperature\": 1250.4932, \"test_temperature\": 1243.15, \"test_time\": 90.0, \"delta time\": 20.06580507907698, \"delta temperature\": 7.343164062499909, \"score\": 21.36723173273276}, {\"Unnamed: 0\": 31, \"inverse_temperature\": 0.0008061956, \"anneal_time_minutes\": 4.7163577, \"time\": 111.76044626176602, \"temperature\": 1240.3938, \"test_temperature\": 1243.15, \"test_time\": 90.0, \"delta time\": 21.76044626176602, \"delta temperature\": -2.756201171875091, \"score\": 21.934303417502285}, {\"Unnamed: 0\": 52, \"inverse_temperature\": 0.0008110809, \"anneal_time_minutes\": 4.7080607, \"time\": 110.83700973561383, \"temperature\": 1232.9226, \"test_temperature\": 1243.15, \"test_time\": 90.0, \"delta time\": 20.837009735613847, \"delta temperature\": -10.227392578125093, \"score\": 23.21164650922365}, {\"Unnamed: 0\": 25, \"inverse_temperature\": 0.00091930304, \"anneal_time_minutes\": 4.716245, \"time\": 111.74787016746728, \"temperature\": 1087.7806, \"test_temperature\": 1073.15, \"test_time\": 90.0, \"delta time\": 21.74787016746727, \"delta temperature\": 14.630639648437407, \"score\": 26.21117077399332}, {\"Unnamed: 0\": 41, \"inverse_temperature\": 0.0008167227, \"anneal_time_minutes\": 4.730325, \"time\": 113.33241455202972, \"temperature\": 1224.4058, \"test_temperature\": 1243.15, \"test_time\": 90.0, \"delta time\": 23.33241455202972, \"delta temperature\": -18.74423828125009, \"score\": 29.929050061304142}, {\"Unnamed: 0\": 12, \"inverse_temperature\": 0.0008034806, \"anneal_time_minutes\": 5.00097, \"time\": 148.55717289078174, \"temperature\": 1244.5851, \"test_temperature\": 1243.15, \"test_time\": 180.0, \"delta time\": -31.442827109218257, \"delta temperature\": 1.435083007812409, \"score\": 31.47555940502889}, {\"Unnamed: 0\": 44, \"inverse_temperature\": 0.00092638086, \"anneal_time_minutes\": 4.946666, \"time\": 140.70503711282657, \"temperature\": 1079.4696, \"test_temperature\": 1073.15, \"test_time\": 180.0, \"delta time\": -39.294962887173455, \"delta temperature\": 6.319604492187409, \"score\": 39.79989333204317}, {\"Unnamed: 0\": 27, \"inverse_temperature\": 0.00084281, \"anneal_time_minutes\": 4.8792114, \"time\": 131.52690425435495, \"temperature\": 1186.507, \"test_temperature\": 1173.15, \"test_time\": 90.0, \"delta time\": 41.526904254354974, \"delta temperature\": 13.356958007812407, \"score\": 43.62215153076278}, {\"Unnamed: 0\": 0, \"inverse_temperature\": 0.0007057153, \"anneal_time_minutes\": 3.8681731, \"time\": 47.85488116460815, \"temperature\": 1417.002, \"test_temperature\": 1373.15, \"test_time\": 59.99999999999999, \"delta time\": -12.145118835391834, \"delta temperature\": 43.85195312499991, \"score\": 45.50272194498895}, {\"Unnamed: 0\": 23, \"inverse_temperature\": 0.00093873625, \"anneal_time_minutes\": 6.0740886, \"time\": 434.45334969652856, \"temperature\": 1065.262, \"test_temperature\": 1073.15, \"test_time\": 480.0, \"delta time\": -45.54665030347144, \"delta temperature\": -7.888037109375091, \"score\": 46.22465233298779}, {\"Unnamed: 0\": 37, \"inverse_temperature\": 0.00083445857, \"anneal_time_minutes\": 3.4038825, \"time\": 30.080661900473046, \"temperature\": 1198.3818, \"test_temperature\": 1243.15, \"test_time\": 5.000000000000001, \"delta time\": 25.080661900473046, \"delta temperature\": -44.76816406250009, \"score\": 51.31498918340298}, {\"Unnamed: 0\": 13, \"inverse_temperature\": 0.00079915, \"anneal_time_minutes\": 4.8528624, \"time\": 128.10655237888545, \"temperature\": 1251.3296, \"test_temperature\": 1243.15, \"test_time\": 180.0, \"delta time\": -51.893447621114575, \"delta temperature\": 8.179589843749909, \"score\": 52.53413743478938}, {\"Unnamed: 0\": 57, \"inverse_temperature\": 0.0008011571, \"anneal_time_minutes\": 6.2795534, \"time\": 533.5503341776969, \"temperature\": 1248.1947, \"test_temperature\": 1243.15, \"test_time\": 480.0, \"delta time\": 53.55033417769687, \"delta temperature\": 5.044702148437409, \"score\": 53.78742706534175}, {\"Unnamed: 0\": 58, \"inverse_temperature\": 0.00097363035, \"anneal_time_minutes\": 2.8053765, \"time\": 16.533300012596655, \"temperature\": 1027.0839, \"test_temperature\": 973.15, \"test_time\": 5.000000000000001, \"delta time\": 11.533300012596657, \"delta temperature\": 53.93386230468741, \"score\": 55.153227578098665}, {\"Unnamed: 0\": 10, \"inverse_temperature\": 0.00080036797, \"anneal_time_minutes\": 5.4609323, \"time\": 235.31669725873783, \"temperature\": 1249.4253, \"test_temperature\": 1243.15, \"test_time\": 180.0, \"delta time\": 55.31669725873786, \"delta temperature\": 6.275292968749909, \"score\": 55.67150345965608}, {\"Unnamed: 0\": 36, \"inverse_temperature\": 0.0008094449, \"anneal_time_minutes\": 3.5304973, \"time\": 34.14094211242633, \"temperature\": 1235.4146, \"test_temperature\": 1243.15, \"test_time\": 90.0, \"delta time\": -55.85905788757367, \"delta temperature\": -7.735449218750091, \"score\": 56.39212287813935}, {\"Unnamed: 0\": 54, \"inverse_temperature\": 0.0009102278, \"anneal_time_minutes\": 5.4630504, \"time\": 235.81565229736, \"temperature\": 1098.6261, \"test_temperature\": 1073.15, \"test_time\": 180.0, \"delta time\": 55.815652297359975, \"delta temperature\": 25.47609863281241, \"score\": 61.35485834820721}, {\"Unnamed: 0\": 3, \"inverse_temperature\": 0.0008461195, \"anneal_time_minutes\": 4.0062914, \"time\": 54.94273106925186, \"temperature\": 1181.8662, \"test_temperature\": 1243.15, \"test_time\": 90.0, \"delta time\": -35.05726893074814, \"delta temperature\": -61.28378906250009, \"score\": 70.60251345908164}, {\"Unnamed: 0\": 56, \"inverse_temperature\": 0.00087522366, \"anneal_time_minutes\": 4.0838175, \"time\": 59.37168813348394, \"temperature\": 1142.5651, \"test_temperature\": 1073.15, \"test_time\": 90.0, \"delta time\": -30.628311866516057, \"delta temperature\": 69.41506347656241, \"score\": 75.87189549001499}, {\"Unnamed: 0\": 42, \"inverse_temperature\": 0.0008564917, \"anneal_time_minutes\": 4.5818768, \"time\": 97.69757665111774, \"temperature\": 1167.5537, \"test_temperature\": 1243.15, \"test_time\": 90.0, \"delta time\": 7.697576651117743, \"delta temperature\": -75.59628906250009, \"score\": 75.98718053935745}, {\"Unnamed: 0\": 51, \"inverse_temperature\": 0.0008601711, \"anneal_time_minutes\": 2.8056629, \"time\": 16.538034847374423, \"temperature\": 1162.5594, \"test_temperature\": 1243.15, \"test_time\": 5.000000000000001, \"delta time\": 11.538034847374425, \"delta temperature\": -80.59055175781259, \"score\": 81.41230423448225}, {\"Unnamed: 0\": 46, \"inverse_temperature\": 0.00080483564, \"anneal_time_minutes\": 7.206064, \"time\": 1347.5780514277706, \"temperature\": 1242.4897, \"test_temperature\": 1243.15, \"test_time\": 1440.0000000000005, \"delta time\": -92.4219485722299, \"delta temperature\": -0.660253906250091, \"score\": 92.42430693875193}, {\"Unnamed: 0\": 47, \"inverse_temperature\": 0.0008053583, \"anneal_time_minutes\": 7.1863413, \"time\": 1321.2602377731923, \"temperature\": 1241.6833, \"test_temperature\": 1243.15, \"test_time\": 1440.0000000000005, \"delta time\": -118.73976222680812, \"delta temperature\": -1.466650390625091, \"score\": 118.74881977117604}, {\"Unnamed: 0\": 16, \"inverse_temperature\": 0.00080010615, \"anneal_time_minutes\": 5.713468, \"time\": 302.9197972111712, \"temperature\": 1249.8341, \"test_temperature\": 1243.15, \"test_time\": 180.0, \"delta time\": 122.91979721117116, \"delta temperature\": 6.684106445312409, \"score\": 123.10139652094816}, {\"Unnamed: 0\": 20, \"inverse_temperature\": 0.00084595213, \"anneal_time_minutes\": 7.170874, \"time\": 1300.98131815458, \"temperature\": 1182.1, \"test_temperature\": 1173.15, \"test_time\": 1440.0000000000005, \"delta time\": -139.0186818454206, \"delta temperature\": 8.949975585937409, \"score\": 139.30648213571092}, {\"Unnamed: 0\": 7, \"inverse_temperature\": 0.00080343016, \"anneal_time_minutes\": 7.36834, \"time\": 1585.0005216235795, \"temperature\": 1244.6632, \"test_temperature\": 1243.15, \"test_time\": 1440.0000000000005, \"delta time\": 145.00052162357906, \"delta temperature\": 1.513208007812409, \"score\": 145.0084172370174}, {\"Unnamed: 0\": 26, \"inverse_temperature\": 0.0008080339, \"anneal_time_minutes\": 5.037381, \"time\": 154.06601388881623, \"temperature\": 1237.5718, \"test_temperature\": 1273.15, \"test_time\": 5.000000000000001, \"delta time\": 149.06601388881623, \"delta temperature\": -35.57822265625009, \"score\": 153.25301440454103}, {\"Unnamed: 0\": 45, \"inverse_temperature\": 0.0008024027, \"anneal_time_minutes\": 7.379839, \"time\": 1603.3315200441216, \"temperature\": 1246.2571, \"test_temperature\": 1243.15, \"test_time\": 1440.0000000000005, \"delta time\": 163.3315200441211, \"delta temperature\": 3.107080078124909, \"score\": 163.3610705968072}, {\"Unnamed: 0\": 30, \"inverse_temperature\": 0.00080628006, \"anneal_time_minutes\": 5.7223206, \"time\": 305.61329368995945, \"temperature\": 1240.2638, \"test_temperature\": 1243.15, \"test_time\": 480.0, \"delta time\": -174.38670631004055, \"delta temperature\": -2.886206054687591, \"score\": 174.41058890748133}, {\"Unnamed: 0\": 24, \"inverse_temperature\": 0.00092714746, \"anneal_time_minutes\": 6.487838, \"time\": 657.1010366017267, \"temperature\": 1078.577, \"test_temperature\": 1073.15, \"test_time\": 480.0, \"delta time\": 177.10103660172672, \"delta temperature\": 5.427026367187409, \"score\": 177.1841691026495}, {\"Unnamed: 0\": 18, \"inverse_temperature\": 0.0007965664, \"anneal_time_minutes\": 5.6497517, \"time\": 284.2208745588743, \"temperature\": 1255.3881, \"test_temperature\": 1243.15, \"test_time\": 90.0, \"delta time\": 194.2208745588743, \"delta temperature\": 12.238061523437407, \"score\": 194.60605916637184}, {\"Unnamed: 0\": 28, \"inverse_temperature\": 0.00089600345, \"anneal_time_minutes\": 5.799012, \"time\": 329.97344586366256, \"temperature\": 1116.0671, \"test_temperature\": 1173.15, \"test_time\": 90.0, \"delta time\": 239.97344586366256, \"delta temperature\": -57.08286132812509, \"score\": 246.6692274627829}, {\"Unnamed: 0\": 29, \"inverse_temperature\": 0.0008222086, \"anneal_time_minutes\": 5.3142715, \"time\": 203.21640587981244, \"temperature\": 1216.2363, \"test_temperature\": 1243.15, \"test_time\": 480.0, \"delta time\": -276.7835941201876, \"delta temperature\": -26.91367187500009, \"score\": 278.089021192646}, {\"Unnamed: 0\": 8, \"inverse_temperature\": 0.00080384145, \"anneal_time_minutes\": 7.014232, \"time\": 1112.3522082079835, \"temperature\": 1244.0264, \"test_temperature\": 1243.15, \"test_time\": 1440.0000000000005, \"delta time\": -327.64779179201696, \"delta temperature\": 0.876367187499909, \"score\": 327.6489638097948}, {\"Unnamed: 0\": 33, \"inverse_temperature\": 0.00080396875, \"anneal_time_minutes\": 6.974133, \"time\": 1068.6303007485258, \"temperature\": 1243.8295, \"test_temperature\": 1243.15, \"test_time\": 1440.0000000000005, \"delta time\": -371.3696992514747, \"delta temperature\": 0.679467773437409, \"score\": 371.3703208370129}, {\"Unnamed: 0\": 6, \"inverse_temperature\": 0.0009324836, \"anneal_time_minutes\": 6.8241243, \"time\": 919.7706414982242, \"temperature\": 1072.4049, \"test_temperature\": 1073.15, \"test_time\": 480.0, \"delta time\": 439.7706414982242, \"delta temperature\": -0.745092773437591, \"score\": 439.77127269411386}, {\"Unnamed: 0\": 34, \"inverse_temperature\": 0.0008098644, \"anneal_time_minutes\": 6.694162, \"time\": 807.6767300854802, \"temperature\": 1234.7747, \"test_temperature\": 1243.15, \"test_time\": 1440.0000000000005, \"delta time\": -632.3232699145202, \"delta temperature\": -8.375341796875091, \"score\": 632.3787346405678}, {\"Unnamed: 0\": 9, \"inverse_temperature\": 0.000798244, \"anneal_time_minutes\": 6.6151347, \"time\": 746.3052628489845, \"temperature\": 1252.7499, \"test_temperature\": 1243.15, \"test_time\": 1440.0000000000005, \"delta time\": -693.6947371510159, \"delta temperature\": 9.599877929687407, \"score\": 693.7611591947779}, {\"Unnamed: 0\": 22, \"inverse_temperature\": 0.00093640405, \"anneal_time_minutes\": 7.756244, \"time\": 2336.114089845632, \"temperature\": 1067.915, \"test_temperature\": 1073.15, \"test_time\": 1440.0000000000005, \"delta time\": 896.1140898456315, \"delta temperature\": -5.234960937500091, \"score\": 896.1293806342261}, {\"Unnamed: 0\": 48, \"inverse_temperature\": 0.0009314071, \"anneal_time_minutes\": 7.7819057, \"time\": 2396.8380082036088, \"temperature\": 1073.6444, \"test_temperature\": 1073.15, \"test_time\": 1440.0000000000005, \"delta time\": 956.8380082036084, \"delta temperature\": 0.494409179687409, \"score\": 956.8381359370484}, {\"Unnamed: 0\": 5, \"inverse_temperature\": 0.00092578394, \"anneal_time_minutes\": 7.2850785, \"time\": 1458.3756481008154, \"temperature\": 1080.1656, \"test_temperature\": 1073.15, \"test_time\": 480.0, \"delta time\": 978.3756481008154, \"delta temperature\": 7.015649414062409, \"score\": 978.4008013760985}, {\"Unnamed: 0\": 59, \"inverse_temperature\": 0.00092967565, \"anneal_time_minutes\": 8.276041, \"time\": 3928.6103070241033, \"temperature\": 1075.6439, \"test_temperature\": 1073.15, \"test_time\": 5100.000000000005, \"delta time\": -1171.3896929759012, \"delta temperature\": 2.493920898437409, \"score\": 1171.3923477860114}, {\"Unnamed: 0\": 21, \"inverse_temperature\": 0.0009264598, \"anneal_time_minutes\": 7.9252176, \"time\": 2766.1662865576072, \"temperature\": 1079.3777, \"test_temperature\": 1073.15, \"test_time\": 1440.0000000000005, \"delta time\": 1326.1662865576068, \"delta temperature\": 6.227685546874909, \"score\": 1326.180909103001}, {\"Unnamed: 0\": 50, \"inverse_temperature\": 0.0009309573, \"anneal_time_minutes\": 8.124524, \"time\": 3376.2608425380186, \"temperature\": 1074.1631, \"test_temperature\": 1073.15, \"test_time\": 5100.000000000005, \"delta time\": -1723.739157461986, \"delta temperature\": 1.013085937499909, \"score\": 1723.7394551703208}, {\"Unnamed: 0\": 49, \"inverse_temperature\": 0.0009227767, \"anneal_time_minutes\": 7.753563, \"time\": 2329.8587612801302, \"temperature\": 1083.6858, \"test_temperature\": 1073.15, \"test_time\": 5100.000000000005, \"delta time\": -2770.1412387198743, \"delta temperature\": 10.535791015624907, \"score\": 2770.161274248993}]}}, {\"mode\": \"vega-lite\"});\n",
       "</script>"
      ],
      "text/plain": [
       "alt.Chart(...)"
      ]
     },
     "execution_count": 15,
     "metadata": {},
     "output_type": "execute_result"
    }
   ],
   "source": [
    "\n",
    "\n",
    "offset = -150\n",
    "\n",
    "test_predictions_chart = alt.Chart(test_predictions).mark_point(color = 'orangered').encode(\n",
    "    x = alt.X('delta time', \n",
    "              axis = alt.Axis(offset = offset, title ='Time Difference (Minutes)', titleY = 175),\n",
    "              scale = alt.Scale(domain=[-3000, 3000])),\n",
    "              \n",
    "    y = alt.Y('delta temperature', \n",
    "              axis = alt.Axis(offset = offset,title ='Temperature Difference (K)',titleX = -175),\n",
    "              scale = alt.Scale(domain=[-100, 100])),\n",
    "    tooltip = [alt.Tooltip('time',title = 'Predicted Time'),\n",
    "               alt.Tooltip('temperature',title = 'Predicted Temperature'),\n",
    "               alt.Tooltip('test_time',title = 'True Time'),\n",
    "               alt.Tooltip('test_temperature',title = 'True Temperature')]\n",
    "  \n",
    ").interactive()\n",
    "\n",
    "\n",
    "test_predictions_chart\n",
    "\n"
   ]
  }
 ],
 "metadata": {
  "kernelspec": {
   "display_name": "Python 3 (ipykernel)",
   "language": "python",
   "name": "python3"
  },
  "language_info": {
   "codemirror_mode": {
    "name": "ipython",
    "version": 3
   },
   "file_extension": ".py",
   "mimetype": "text/x-python",
   "name": "python",
   "nbconvert_exporter": "python",
   "pygments_lexer": "ipython3",
   "version": "3.10.9"
  }
 },
 "nbformat": 4,
 "nbformat_minor": 5
}
